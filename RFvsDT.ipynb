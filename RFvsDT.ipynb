{
 "cells": [
  {
   "cell_type": "code",
   "execution_count": 1,
   "id": "2e1407e2",
   "metadata": {},
   "outputs": [],
   "source": [
    "import pandas as pd\n",
    "import numpy as np\n",
    "from sklearn.model_selection import train_test_split\n",
    "from sklearn.model_selection import StratifiedKFold\n",
    "from sklearn.impute import SimpleImputer\n",
    "from sklearn.preprocessing import StandardScaler\n",
    "from sklearn.pipeline import Pipeline\n",
    "from sklearn.ensemble import RandomForestClassifier\n",
    "from sklearn.model_selection import GridSearchCV\n",
    "from sklearn.cluster import KMeans\n",
    "from sklearn.tree import DecisionTreeClassifier\n",
    "from sklearn.metrics import f1_score\n"
   ]
  },
  {
   "cell_type": "code",
   "execution_count": 2,
   "id": "34389da2",
   "metadata": {},
   "outputs": [
    {
     "data": {
      "text/html": [
       "<div>\n",
       "<style scoped>\n",
       "    .dataframe tbody tr th:only-of-type {\n",
       "        vertical-align: middle;\n",
       "    }\n",
       "\n",
       "    .dataframe tbody tr th {\n",
       "        vertical-align: top;\n",
       "    }\n",
       "\n",
       "    .dataframe thead th {\n",
       "        text-align: right;\n",
       "    }\n",
       "</style>\n",
       "<table border=\"1\" class=\"dataframe\">\n",
       "  <thead>\n",
       "    <tr style=\"text-align: right;\">\n",
       "      <th></th>\n",
       "      <th>Food_items</th>\n",
       "      <th>Breakfast</th>\n",
       "      <th>Lunch</th>\n",
       "      <th>Dinner</th>\n",
       "      <th>VegNovVeg</th>\n",
       "      <th>Calories</th>\n",
       "      <th>Fats</th>\n",
       "      <th>Proteins</th>\n",
       "      <th>Iron</th>\n",
       "      <th>Calcium</th>\n",
       "      <th>Sodium</th>\n",
       "      <th>Potassium</th>\n",
       "      <th>Carbohydrates</th>\n",
       "      <th>Fibre</th>\n",
       "      <th>VitaminD</th>\n",
       "      <th>Sugars</th>\n",
       "    </tr>\n",
       "  </thead>\n",
       "  <tbody>\n",
       "    <tr>\n",
       "      <th>0</th>\n",
       "      <td>Asparagus Cooked</td>\n",
       "      <td>0</td>\n",
       "      <td>1</td>\n",
       "      <td>1</td>\n",
       "      <td>0</td>\n",
       "      <td>39</td>\n",
       "      <td>2.2</td>\n",
       "      <td>2.4</td>\n",
       "      <td>0.91</td>\n",
       "      <td>23.0</td>\n",
       "      <td>14</td>\n",
       "      <td>224.0</td>\n",
       "      <td>4.1</td>\n",
       "      <td>2.0</td>\n",
       "      <td>0.0</td>\n",
       "      <td>1.3</td>\n",
       "    </tr>\n",
       "    <tr>\n",
       "      <th>1</th>\n",
       "      <td>Avocados</td>\n",
       "      <td>1</td>\n",
       "      <td>0</td>\n",
       "      <td>0</td>\n",
       "      <td>0</td>\n",
       "      <td>160</td>\n",
       "      <td>15.0</td>\n",
       "      <td>2.0</td>\n",
       "      <td>0.55</td>\n",
       "      <td>12.0</td>\n",
       "      <td>7</td>\n",
       "      <td>485.0</td>\n",
       "      <td>8.5</td>\n",
       "      <td>6.7</td>\n",
       "      <td>0.0</td>\n",
       "      <td>0.7</td>\n",
       "    </tr>\n",
       "    <tr>\n",
       "      <th>2</th>\n",
       "      <td>Bananas</td>\n",
       "      <td>1</td>\n",
       "      <td>0</td>\n",
       "      <td>0</td>\n",
       "      <td>0</td>\n",
       "      <td>89</td>\n",
       "      <td>0.3</td>\n",
       "      <td>1.1</td>\n",
       "      <td>0.26</td>\n",
       "      <td>5.0</td>\n",
       "      <td>1</td>\n",
       "      <td>358.0</td>\n",
       "      <td>23.0</td>\n",
       "      <td>2.6</td>\n",
       "      <td>0.0</td>\n",
       "      <td>12.0</td>\n",
       "    </tr>\n",
       "    <tr>\n",
       "      <th>3</th>\n",
       "      <td>Bagels made in wheat</td>\n",
       "      <td>0</td>\n",
       "      <td>1</td>\n",
       "      <td>1</td>\n",
       "      <td>0</td>\n",
       "      <td>250</td>\n",
       "      <td>1.5</td>\n",
       "      <td>10.0</td>\n",
       "      <td>2.76</td>\n",
       "      <td>20.0</td>\n",
       "      <td>439</td>\n",
       "      <td>165.0</td>\n",
       "      <td>49.0</td>\n",
       "      <td>4.1</td>\n",
       "      <td>0.0</td>\n",
       "      <td>6.1</td>\n",
       "    </tr>\n",
       "    <tr>\n",
       "      <th>4</th>\n",
       "      <td>Berries</td>\n",
       "      <td>1</td>\n",
       "      <td>0</td>\n",
       "      <td>0</td>\n",
       "      <td>0</td>\n",
       "      <td>57</td>\n",
       "      <td>0.3</td>\n",
       "      <td>0.7</td>\n",
       "      <td>0.00</td>\n",
       "      <td>6.0</td>\n",
       "      <td>1</td>\n",
       "      <td>77.0</td>\n",
       "      <td>14.5</td>\n",
       "      <td>2.4</td>\n",
       "      <td>0.0</td>\n",
       "      <td>10.0</td>\n",
       "    </tr>\n",
       "  </tbody>\n",
       "</table>\n",
       "</div>"
      ],
      "text/plain": [
       "             Food_items  Breakfast  Lunch  Dinner  VegNovVeg  Calories  Fats  \\\n",
       "0      Asparagus Cooked          0      1       1          0        39   2.2   \n",
       "1              Avocados          1      0       0          0       160  15.0   \n",
       "2               Bananas          1      0       0          0        89   0.3   \n",
       "3  Bagels made in wheat          0      1       1          0       250   1.5   \n",
       "4               Berries          1      0       0          0        57   0.3   \n",
       "\n",
       "   Proteins  Iron  Calcium  Sodium  Potassium  Carbohydrates  Fibre  VitaminD  \\\n",
       "0       2.4  0.91     23.0      14      224.0            4.1    2.0       0.0   \n",
       "1       2.0  0.55     12.0       7      485.0            8.5    6.7       0.0   \n",
       "2       1.1  0.26      5.0       1      358.0           23.0    2.6       0.0   \n",
       "3      10.0  2.76     20.0     439      165.0           49.0    4.1       0.0   \n",
       "4       0.7  0.00      6.0       1       77.0           14.5    2.4       0.0   \n",
       "\n",
       "   Sugars  \n",
       "0     1.3  \n",
       "1     0.7  \n",
       "2    12.0  \n",
       "3     6.1  \n",
       "4    10.0  "
      ]
     },
     "execution_count": 2,
     "metadata": {},
     "output_type": "execute_result"
    }
   ],
   "source": [
    "df = pd.read_csv('food.csv')\n",
    "df.head()"
   ]
  },
  {
   "cell_type": "code",
   "execution_count": 3,
   "id": "b17ca964",
   "metadata": {},
   "outputs": [
    {
     "name": "stdout",
     "output_type": "stream",
     "text": [
      "The shape of our features is: (115, 16)\n"
     ]
    }
   ],
   "source": [
    "print('The shape of our features is:', df.shape)"
   ]
  },
  {
   "cell_type": "code",
   "execution_count": 4,
   "id": "db9100d0",
   "metadata": {},
   "outputs": [
    {
     "data": {
      "text/html": [
       "<div>\n",
       "<style scoped>\n",
       "    .dataframe tbody tr th:only-of-type {\n",
       "        vertical-align: middle;\n",
       "    }\n",
       "\n",
       "    .dataframe tbody tr th {\n",
       "        vertical-align: top;\n",
       "    }\n",
       "\n",
       "    .dataframe thead th {\n",
       "        text-align: right;\n",
       "    }\n",
       "</style>\n",
       "<table border=\"1\" class=\"dataframe\">\n",
       "  <thead>\n",
       "    <tr style=\"text-align: right;\">\n",
       "      <th></th>\n",
       "      <th>Breakfast</th>\n",
       "      <th>Lunch</th>\n",
       "      <th>Dinner</th>\n",
       "      <th>VegNovVeg</th>\n",
       "      <th>Calories</th>\n",
       "      <th>Fats</th>\n",
       "      <th>Proteins</th>\n",
       "      <th>Iron</th>\n",
       "      <th>Calcium</th>\n",
       "      <th>Sodium</th>\n",
       "      <th>Potassium</th>\n",
       "      <th>Carbohydrates</th>\n",
       "      <th>Fibre</th>\n",
       "      <th>VitaminD</th>\n",
       "      <th>Sugars</th>\n",
       "    </tr>\n",
       "  </thead>\n",
       "  <tbody>\n",
       "    <tr>\n",
       "      <th>count</th>\n",
       "      <td>115.000000</td>\n",
       "      <td>115.000000</td>\n",
       "      <td>115.000000</td>\n",
       "      <td>115.000000</td>\n",
       "      <td>115.000000</td>\n",
       "      <td>115.000000</td>\n",
       "      <td>115.000000</td>\n",
       "      <td>115.000000</td>\n",
       "      <td>115.000000</td>\n",
       "      <td>115.000000</td>\n",
       "      <td>115.000000</td>\n",
       "      <td>115.000000</td>\n",
       "      <td>115.000000</td>\n",
       "      <td>115.000000</td>\n",
       "      <td>115.000000</td>\n",
       "    </tr>\n",
       "    <tr>\n",
       "      <th>mean</th>\n",
       "      <td>0.478261</td>\n",
       "      <td>0.634783</td>\n",
       "      <td>0.773913</td>\n",
       "      <td>0.304348</td>\n",
       "      <td>189.573913</td>\n",
       "      <td>7.981739</td>\n",
       "      <td>10.920087</td>\n",
       "      <td>3.117217</td>\n",
       "      <td>66.015652</td>\n",
       "      <td>239.000000</td>\n",
       "      <td>262.160870</td>\n",
       "      <td>19.831043</td>\n",
       "      <td>2.414783</td>\n",
       "      <td>8.997391</td>\n",
       "      <td>6.516957</td>\n",
       "    </tr>\n",
       "    <tr>\n",
       "      <th>std</th>\n",
       "      <td>0.501713</td>\n",
       "      <td>0.483598</td>\n",
       "      <td>0.420127</td>\n",
       "      <td>0.462144</td>\n",
       "      <td>146.590075</td>\n",
       "      <td>11.006328</td>\n",
       "      <td>11.571388</td>\n",
       "      <td>7.621235</td>\n",
       "      <td>120.611064</td>\n",
       "      <td>304.458622</td>\n",
       "      <td>201.861012</td>\n",
       "      <td>21.642480</td>\n",
       "      <td>4.156927</td>\n",
       "      <td>52.114625</td>\n",
       "      <td>14.438641</td>\n",
       "    </tr>\n",
       "    <tr>\n",
       "      <th>min</th>\n",
       "      <td>0.000000</td>\n",
       "      <td>0.000000</td>\n",
       "      <td>0.000000</td>\n",
       "      <td>0.000000</td>\n",
       "      <td>0.000000</td>\n",
       "      <td>0.000000</td>\n",
       "      <td>0.000000</td>\n",
       "      <td>0.000000</td>\n",
       "      <td>0.000000</td>\n",
       "      <td>0.000000</td>\n",
       "      <td>0.000000</td>\n",
       "      <td>0.000000</td>\n",
       "      <td>0.000000</td>\n",
       "      <td>0.000000</td>\n",
       "      <td>0.000000</td>\n",
       "    </tr>\n",
       "    <tr>\n",
       "      <th>25%</th>\n",
       "      <td>0.000000</td>\n",
       "      <td>0.000000</td>\n",
       "      <td>1.000000</td>\n",
       "      <td>0.000000</td>\n",
       "      <td>85.500000</td>\n",
       "      <td>0.400000</td>\n",
       "      <td>2.600000</td>\n",
       "      <td>0.220000</td>\n",
       "      <td>7.000000</td>\n",
       "      <td>13.000000</td>\n",
       "      <td>134.500000</td>\n",
       "      <td>3.100000</td>\n",
       "      <td>0.000000</td>\n",
       "      <td>0.000000</td>\n",
       "      <td>0.000000</td>\n",
       "    </tr>\n",
       "    <tr>\n",
       "      <th>50%</th>\n",
       "      <td>0.000000</td>\n",
       "      <td>1.000000</td>\n",
       "      <td>1.000000</td>\n",
       "      <td>0.000000</td>\n",
       "      <td>143.000000</td>\n",
       "      <td>3.100000</td>\n",
       "      <td>6.500000</td>\n",
       "      <td>1.000000</td>\n",
       "      <td>17.000000</td>\n",
       "      <td>80.000000</td>\n",
       "      <td>230.000000</td>\n",
       "      <td>14.000000</td>\n",
       "      <td>1.300000</td>\n",
       "      <td>0.000000</td>\n",
       "      <td>0.800000</td>\n",
       "    </tr>\n",
       "    <tr>\n",
       "      <th>75%</th>\n",
       "      <td>1.000000</td>\n",
       "      <td>1.000000</td>\n",
       "      <td>1.000000</td>\n",
       "      <td>1.000000</td>\n",
       "      <td>295.500000</td>\n",
       "      <td>11.100000</td>\n",
       "      <td>17.650000</td>\n",
       "      <td>2.805000</td>\n",
       "      <td>65.500000</td>\n",
       "      <td>378.000000</td>\n",
       "      <td>360.000000</td>\n",
       "      <td>28.600000</td>\n",
       "      <td>2.900000</td>\n",
       "      <td>0.000000</td>\n",
       "      <td>5.000000</td>\n",
       "    </tr>\n",
       "    <tr>\n",
       "      <th>max</th>\n",
       "      <td>1.000000</td>\n",
       "      <td>1.000000</td>\n",
       "      <td>1.000000</td>\n",
       "      <td>1.000000</td>\n",
       "      <td>600.000000</td>\n",
       "      <td>50.000000</td>\n",
       "      <td>80.000000</td>\n",
       "      <td>57.000000</td>\n",
       "      <td>683.000000</td>\n",
       "      <td>1531.000000</td>\n",
       "      <td>1154.000000</td>\n",
       "      <td>87.000000</td>\n",
       "      <td>34.000000</td>\n",
       "      <td>435.000000</td>\n",
       "      <td>82.000000</td>\n",
       "    </tr>\n",
       "  </tbody>\n",
       "</table>\n",
       "</div>"
      ],
      "text/plain": [
       "        Breakfast       Lunch      Dinner   VegNovVeg    Calories        Fats  \\\n",
       "count  115.000000  115.000000  115.000000  115.000000  115.000000  115.000000   \n",
       "mean     0.478261    0.634783    0.773913    0.304348  189.573913    7.981739   \n",
       "std      0.501713    0.483598    0.420127    0.462144  146.590075   11.006328   \n",
       "min      0.000000    0.000000    0.000000    0.000000    0.000000    0.000000   \n",
       "25%      0.000000    0.000000    1.000000    0.000000   85.500000    0.400000   \n",
       "50%      0.000000    1.000000    1.000000    0.000000  143.000000    3.100000   \n",
       "75%      1.000000    1.000000    1.000000    1.000000  295.500000   11.100000   \n",
       "max      1.000000    1.000000    1.000000    1.000000  600.000000   50.000000   \n",
       "\n",
       "         Proteins        Iron     Calcium       Sodium    Potassium  \\\n",
       "count  115.000000  115.000000  115.000000   115.000000   115.000000   \n",
       "mean    10.920087    3.117217   66.015652   239.000000   262.160870   \n",
       "std     11.571388    7.621235  120.611064   304.458622   201.861012   \n",
       "min      0.000000    0.000000    0.000000     0.000000     0.000000   \n",
       "25%      2.600000    0.220000    7.000000    13.000000   134.500000   \n",
       "50%      6.500000    1.000000   17.000000    80.000000   230.000000   \n",
       "75%     17.650000    2.805000   65.500000   378.000000   360.000000   \n",
       "max     80.000000   57.000000  683.000000  1531.000000  1154.000000   \n",
       "\n",
       "       Carbohydrates       Fibre    VitaminD      Sugars  \n",
       "count     115.000000  115.000000  115.000000  115.000000  \n",
       "mean       19.831043    2.414783    8.997391    6.516957  \n",
       "std        21.642480    4.156927   52.114625   14.438641  \n",
       "min         0.000000    0.000000    0.000000    0.000000  \n",
       "25%         3.100000    0.000000    0.000000    0.000000  \n",
       "50%        14.000000    1.300000    0.000000    0.800000  \n",
       "75%        28.600000    2.900000    0.000000    5.000000  \n",
       "max        87.000000   34.000000  435.000000   82.000000  "
      ]
     },
     "execution_count": 4,
     "metadata": {},
     "output_type": "execute_result"
    }
   ],
   "source": [
    "df.describe()"
   ]
  },
  {
   "cell_type": "code",
   "execution_count": 5,
   "id": "8f15a9e3",
   "metadata": {},
   "outputs": [],
   "source": [
    "def cluster_food(FoodItemIDData, FoodItem_Test):\n",
    "    ###### K-MEANS FOR ALL FOOD\n",
    "    \n",
    "    MealDatacalorie=FoodItemIDData[0:,2:len(FoodItemIDData)] #nutrion data\n",
    "    MealDatacalorie = MealDatacalorie[:, [0,1,2,7,8]]\n",
    "\n",
    "    # print(MealDatacalorie)\n",
    "    S = StandardScaler()\n",
    "    foods_scaled_data = S.fit_transform(MealDatacalorie)\n",
    "    # print(foods_scaled_data)\n",
    "\n",
    "    k_means_meals = KMeans(init=\"k-means++\", n_clusters=3, n_init=50, max_iter=500, random_state=42)\n",
    "    k_means_meals.fit(foods_scaled_data)\n",
    "    labels=k_means_meals.labels_\n",
    "\n",
    "    FoodItem_Test['KMCluster'] = labels\n",
    "    \n",
    "    # Overview data in clusters\n",
    "    length = len(FoodItemIDData) + 2\n",
    "    FoodItem_Test['KMCluster'] = labels\n",
    "    clust_profile=FoodItem_Test.iloc[:,[2,3,4,9,10]].astype(float).groupby(FoodItem_Test['KMCluster']).mean()\n",
    "    clust_profile['KMFrequency']=FoodItem_Test.KMCluster.value_counts().sort_index()\n",
    "    clust = pd.DataFrame(clust_profile)\n",
    "    print(clust)\n",
    "\n",
    "    return labels"
   ]
  },
  {
   "cell_type": "code",
   "execution_count": 6,
   "id": "9895a80f",
   "metadata": {},
   "outputs": [],
   "source": [
    "def food_data():\n",
    "    FoodsData = df\n",
    "    FoodsData=FoodsData.T \n",
    "    val=list(np.arange(5,16))\n",
    "    Valapnd=[0]+[4]+val \n",
    "    FoodItemIDData=FoodsData.iloc[Valapnd]\n",
    "    FoodItemIDData=FoodItemIDData.T\n",
    "    \n",
    "    return FoodItemIDData"
   ]
  },
  {
   "cell_type": "code",
   "execution_count": 7,
   "id": "0816000d",
   "metadata": {},
   "outputs": [
    {
     "name": "stdout",
     "output_type": "stream",
     "text": [
      "             Calories       Fats   Proteins  Carbohydrates     Fibre  \\\n",
      "KMCluster                                                              \n",
      "0          174.354839   7.267419  23.206452       3.122258  0.441935   \n",
      "1           82.980769   2.140577   3.150192      13.534231  1.994231   \n",
      "2          377.531250  18.165625  11.643750      46.250000  5.009375   \n",
      "\n",
      "           KMFrequency  \n",
      "KMCluster               \n",
      "0                   31  \n",
      "1                   52  \n",
      "2                   32  \n",
      "     VegNovVeg  Calories  Fats  Proteins  Iron  Calcium  Sodium  Potassium  \\\n",
      "0          0.0      39.0   2.2       2.4  0.91     23.0    14.0      224.0   \n",
      "1          0.0     160.0  15.0       2.0  0.55     12.0     7.0      485.0   \n",
      "2          0.0      89.0   0.3       1.1  0.26      5.0     1.0      358.0   \n",
      "3          0.0     250.0   1.5      10.0  2.76     20.0   439.0      165.0   \n",
      "4          0.0      57.0   0.3       0.7  0.00      6.0     1.0       77.0   \n",
      "..         ...       ...   ...       ...   ...      ...     ...        ...   \n",
      "110        0.0      60.0   0.4       0.8  0.00     11.0     1.0      168.0   \n",
      "111        0.0      25.0   0.0       1.2  0.00     40.0    18.0      170.0   \n",
      "112        0.0     173.0   9.0      16.6  5.00    102.0   232.0      512.0   \n",
      "113        0.0       0.0   0.0       0.0  0.00      0.0    11.0       17.0   \n",
      "114        0.0      26.0   0.0       1.0  0.00      9.0     0.0        0.0   \n",
      "\n",
      "     Carbohydrates  Fibre  VitaminD  Sugars  KMCluster  \n",
      "0              4.1    2.0       0.0     1.3        1.0  \n",
      "1              8.5    6.7       0.0     0.7        1.0  \n",
      "2             23.0    2.6       0.0    12.0        1.0  \n",
      "3             49.0    4.1       0.0     6.1        2.0  \n",
      "4             14.5    2.4       0.0    10.0        1.0  \n",
      "..             ...    ...       ...     ...        ...  \n",
      "110           15.0    1.6       0.0    14.0        1.0  \n",
      "111            5.8    2.5       0.0     3.2        1.0  \n",
      "112           10.0    6.0       0.0     3.0        0.0  \n",
      "113            0.0    0.0       0.0     0.0        1.0  \n",
      "114            6.2    1.3       0.0     0.4        1.0  \n",
      "\n",
      "[115 rows x 13 columns]\n"
     ]
    }
   ],
   "source": [
    "FoodItemIDData = food_data()\n",
    "\n",
    "FoodNutrion = FoodItemIDData\n",
    "\n",
    "FoodItemIDData=FoodItemIDData.to_numpy()\n",
    "\n",
    "foodlbs = cluster_food(FoodItemIDData, FoodNutrion)\n",
    "\n",
    "FoodNutrion = FoodNutrion.drop(['Food_items'], axis = 1)\n",
    "FoodNutrion = FoodNutrion.astype('float32')\n",
    "print(FoodNutrion)\n",
    "y = np.array(FoodNutrion['KMCluster'])\n",
    "X= FoodNutrion.drop(['KMCluster','VegNovVeg','Iron', 'Calcium', 'Sodium', 'Potassium','VitaminD','Sugars'], axis = 1)\n",
    "# features= FoodNutrion.drop(['KMCluster','Food_items','VegNovVeg'], axis = 1)\n",
    "feature_list = list(X.columns)\n",
    "X = np.array(X)\n",
    "\n",
    "X_train, X_test, y_train, y_test = train_test_split(X, y, test_size=0.3,stratify=y, random_state=42)"
   ]
  },
  {
   "cell_type": "code",
   "execution_count": 8,
   "id": "f84ec9ba",
   "metadata": {},
   "outputs": [
    {
     "name": "stdout",
     "output_type": "stream",
     "text": [
      "Training Features Shape: (80, 5)\n",
      "Training Labels Shape: (80,)\n",
      "Testing Features Shape: (35, 5)\n",
      "Testing Labels Shape: (35,)\n"
     ]
    }
   ],
   "source": [
    "print('Training Features Shape:', X_train.shape)\n",
    "print('Training Labels Shape:', y_train.shape)\n",
    "print('Testing Features Shape:', X_test.shape)\n",
    "print('Testing Labels Shape:', y_test.shape)\n"
   ]
  },
  {
   "cell_type": "code",
   "execution_count": 9,
   "id": "11f2acde",
   "metadata": {},
   "outputs": [],
   "source": [
    "def train_hyper_tune(X,y):\n",
    "    my_scaler = StandardScaler()\n",
    "    my_imputer = SimpleImputer(strategy=\"median\")\n",
    "    \n",
    "    ## Classifier 1: Decision Tree Classifier\n",
    "    clf_DT = DecisionTreeClassifier(criterion = 'entropy', random_state = 0)\n",
    "    ## Classifier 2: Random Forest Classifier\n",
    "    clf_RF = RandomForestClassifier(random_state=0)\n",
    "\n",
    "    # create pipeline for each classifier\n",
    "    ## clf_DT\n",
    "    pipe1 = Pipeline([('imputer', my_imputer), ('scaler', my_scaler), ('dt_model',clf_DT)])\n",
    "    ## clf_RF\n",
    "    pipe2 = Pipeline([('imputer', my_imputer), ('scaler', my_scaler), ('rf_model',clf_RF)])\n",
    "   \n",
    "    \n",
    "    # create hyperparameter\n",
    "    ## clf_DT\n",
    "    param_grid1 = {\n",
    "        'dt_model__max_depth' : [4,8]\n",
    "    }\n",
    "    ## clf_RF\n",
    "    param_grid2 = {\n",
    "        'rf_model__n_estimators' : [50,100],\n",
    "        'rf_model__max_features' : [0.8,\"auto\"],\n",
    "        'rf_model__max_depth' : [4,8]\n",
    "    }\n",
    "    \n",
    "    # set GridSearch\n",
    "    ## clf_DT\n",
    "    grid1 = GridSearchCV(pipe1, cv=5, param_grid=param_grid1)\n",
    "    ## clf_RF\n",
    "    grid2 = GridSearchCV(pipe2, cv=5, param_grid=param_grid2)\n",
    "   \n",
    "    grid1.fit(X,y)\n",
    "    grid2.fit(X,y)\n",
    "    \n",
    "    return grid1,grid2,pipe1,pipe2"
   ]
  },
  {
   "cell_type": "code",
   "execution_count": 10,
   "id": "b0e47533",
   "metadata": {},
   "outputs": [],
   "source": [
    "my_grid1,my_grid2,my_pipe1,my_pipe2 = train_hyper_tune(X_train, y_train)"
   ]
  },
  {
   "cell_type": "code",
   "execution_count": 11,
   "id": "0393c7f8",
   "metadata": {},
   "outputs": [
    {
     "data": {
      "text/plain": [
       "0.9375"
      ]
     },
     "execution_count": 11,
     "metadata": {},
     "output_type": "execute_result"
    }
   ],
   "source": [
    "my_grid1.best_score_"
   ]
  },
  {
   "cell_type": "code",
   "execution_count": 13,
   "id": "d338d20c",
   "metadata": {},
   "outputs": [
    {
     "data": {
      "text/plain": [
       "0.975"
      ]
     },
     "execution_count": 13,
     "metadata": {},
     "output_type": "execute_result"
    }
   ],
   "source": [
    "my_grid2.best_score_"
   ]
  },
  {
   "cell_type": "code",
   "execution_count": 14,
   "id": "f8b51830",
   "metadata": {},
   "outputs": [],
   "source": [
    "def train_on_entire(X,y,pipe,grid_res):\n",
    "    pipe.set_params(**grid_res.best_params_).fit(X, y)\n",
    "    \n",
    "    return pipe"
   ]
  },
  {
   "cell_type": "code",
   "execution_count": 15,
   "id": "9834ea3b",
   "metadata": {},
   "outputs": [
    {
     "data": {
      "text/plain": [
       "0.9428571428571428"
      ]
     },
     "execution_count": 15,
     "metadata": {},
     "output_type": "execute_result"
    }
   ],
   "source": [
    "train_on_entire(X_train,y_train,my_pipe1,my_grid1).score(X_test,y_test)"
   ]
  },
  {
   "cell_type": "code",
   "execution_count": 16,
   "id": "5fca3707",
   "metadata": {},
   "outputs": [
    {
     "data": {
      "text/plain": [
       "0.9714285714285714"
      ]
     },
     "execution_count": 16,
     "metadata": {},
     "output_type": "execute_result"
    }
   ],
   "source": [
    "train_on_entire(X_train,y_train,my_pipe2,my_grid2).score(X_test,y_test)"
   ]
  },
  {
   "cell_type": "code",
   "execution_count": 265,
   "id": "bc4e3d02",
   "metadata": {},
   "outputs": [],
   "source": [
    "def Evaluation(X_train,y_train,X_test,y_test,pipe,grid_res):\n",
    "    dt = pipe.set_params(**grid_res.best_params_).fit(X_train, y_train)\n",
    "    dt_pred_test = dt.predict(X_test)\n",
    "    print('Testing Set Evaluation F1-Score=>',f1_score(y_test,dt_pred_test,average='micro'))"
   ]
  },
  {
   "cell_type": "code",
   "execution_count": 266,
   "id": "bc55ad9f",
   "metadata": {},
   "outputs": [
    {
     "name": "stdout",
     "output_type": "stream",
     "text": [
      "Testing Set Evaluation F1-Score=> 0.9428571428571428\n"
     ]
    }
   ],
   "source": [
    "Evaluation(X_train,y_train,X_test,y_test,my_pipe1,my_grid1)"
   ]
  },
  {
   "cell_type": "code",
   "execution_count": 267,
   "id": "d995fdae",
   "metadata": {},
   "outputs": [
    {
     "name": "stdout",
     "output_type": "stream",
     "text": [
      "Testing Set Evaluation F1-Score=> 0.9714285714285714\n"
     ]
    }
   ],
   "source": [
    "Evaluation(X_train,y_train,X_test,y_test,my_pipe2,my_grid1)"
   ]
  },
  {
   "cell_type": "code",
   "execution_count": 278,
   "id": "c3fb10b1",
   "metadata": {},
   "outputs": [
    {
     "name": "stdout",
     "output_type": "stream",
     "text": [
      "Fitting 3 folds for each of 100 candidates, totalling 300 fits\n"
     ]
    },
    {
     "data": {
      "text/plain": [
       "{'n_estimators': 50,\n",
       " 'min_samples_split': 10,\n",
       " 'min_samples_leaf': 4,\n",
       " 'max_features': 'sqrt',\n",
       " 'max_depth': 40,\n",
       " 'bootstrap': True}"
      ]
     },
     "execution_count": 278,
     "metadata": {},
     "output_type": "execute_result"
    }
   ],
   "source": [
    "from sklearn.model_selection import RandomizedSearchCV\n",
    "# Number of trees in random forest\n",
    "n_estimators = [int(x) for x in np.linspace(start = 50, stop = 500, num = 10)]\n",
    "# Number of features to consider at every split\n",
    "max_features = ['auto', 'sqrt']\n",
    "# Maximum number of levels in tree\n",
    "max_depth = [int(x) for x in np.linspace(4, 50, num = 11)]\n",
    "# Minimum number of samples required to split a node\n",
    "min_samples_split = [2, 5, 10]\n",
    "# Minimum number of samples required at each leaf node\n",
    "min_samples_leaf = [1, 2, 4]\n",
    "# Method of selecting samples for training each tree\n",
    "bootstrap = [True, False]\n",
    "# Create the random grid\n",
    "random_grid = {'n_estimators': n_estimators,\n",
    "            'max_features': max_features,\n",
    "            'max_depth': max_depth,\n",
    "            'min_samples_split': min_samples_split,\n",
    "            'min_samples_leaf': min_samples_leaf,\n",
    "            'bootstrap': bootstrap\n",
    "            }\n",
    "\n",
    "# Use the random grid to search for best hyperparameters\n",
    "# First create the base model to tune\n",
    "rf = RandomForestClassifier()\n",
    "# Random search of parameters, using 3 fold cross validation, \n",
    "# search across 100 different combinations, and use all available cores\n",
    "rf_random = RandomizedSearchCV(estimator = rf, param_distributions = random_grid, n_iter = 100, cv = 3, verbose=2, random_state=42, n_jobs = -1)    # Fit the random search model\n",
    "rf_random.fit(X_train, y_train)\n",
    "\n",
    "rf_random.best_params_"
   ]
  },
  {
   "cell_type": "code",
   "execution_count": 276,
   "id": "6e207d0b",
   "metadata": {},
   "outputs": [],
   "source": [
    "def evaluate(model, test_features, test_labels):\n",
    "    y_pred=model.predict(test_features)\n",
    "    print(\"Model Accuracy:\", model.score(test_features, test_labels))\n",
    "\n",
    "    return model.score(test_features, test_labels)"
   ]
  },
  {
   "cell_type": "code",
   "execution_count": 277,
   "id": "be0c2bf8",
   "metadata": {},
   "outputs": [
    {
     "name": "stdout",
     "output_type": "stream",
     "text": [
      "Model Accuracy: 0.9714285714285714\n",
      "Model Accuracy: 0.9428571428571428\n",
      "Improvement random grid of -2.94%.\n"
     ]
    }
   ],
   "source": [
    "base_model = RandomForestClassifier(n_estimators=100, random_state=42)\n",
    "base_model.fit(X_train, y_train)\n",
    "base_accuracy = evaluate(base_model, X_test,y_test)\n",
    "\n",
    "best_random = rf_random.best_estimator_\n",
    "random_accuracy = evaluate(best_random, X_test,y_test)\n",
    "\n",
    "print('Improvement random grid of {:0.2f}%.'.format( 100 * (random_accuracy - base_accuracy) / base_accuracy))"
   ]
  },
  {
   "cell_type": "code",
   "execution_count": 4,
   "id": "0cc9277e",
   "metadata": {},
   "outputs": [
    {
     "name": "stdout",
     "output_type": "stream",
     "text": [
      "Parameters currently in use:\n",
      "\n",
      "{'bootstrap': True,\n",
      " 'ccp_alpha': 0.0,\n",
      " 'class_weight': None,\n",
      " 'criterion': 'gini',\n",
      " 'max_depth': None,\n",
      " 'max_features': 'auto',\n",
      " 'max_leaf_nodes': None,\n",
      " 'max_samples': None,\n",
      " 'min_impurity_decrease': 0.0,\n",
      " 'min_samples_leaf': 1,\n",
      " 'min_samples_split': 2,\n",
      " 'min_weight_fraction_leaf': 0.0,\n",
      " 'n_estimators': 100,\n",
      " 'n_jobs': None,\n",
      " 'oob_score': False,\n",
      " 'random_state': 42,\n",
      " 'verbose': 0,\n",
      " 'warm_start': False}\n"
     ]
    }
   ],
   "source": [
    "from sklearn.ensemble import RandomForestRegressor\n",
    "rf = RandomForestClassifier(random_state = 42)\n",
    "from pprint import pprint\n",
    "print('Parameters currently in use:\\n')\n",
    "pprint(rf.get_params())\n"
   ]
  },
  {
   "cell_type": "code",
   "execution_count": null,
   "id": "e856ca37",
   "metadata": {},
   "outputs": [],
   "source": []
  }
 ],
 "metadata": {
  "kernelspec": {
   "display_name": "Python 3.9 (tensorflow)",
   "language": "python",
   "name": "tensorflow"
  },
  "language_info": {
   "codemirror_mode": {
    "name": "ipython",
    "version": 3
   },
   "file_extension": ".py",
   "mimetype": "text/x-python",
   "name": "python",
   "nbconvert_exporter": "python",
   "pygments_lexer": "ipython3",
   "version": "3.9.10"
  }
 },
 "nbformat": 4,
 "nbformat_minor": 5
}
