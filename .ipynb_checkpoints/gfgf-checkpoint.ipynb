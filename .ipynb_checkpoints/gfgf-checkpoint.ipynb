{
 "cells": [
  {
   "cell_type": "code",
   "execution_count": 2,
   "id": "f7323200",
   "metadata": {},
   "outputs": [],
   "source": [
    "import pandas as pd\n",
    "import numpy as np\n",
    "from sklearn.model_selection import train_test_split\n",
    "from sklearn.model_selection import StratifiedKFold\n",
    "from sklearn.impute import SimpleImputer\n",
    "from sklearn.preprocessing import StandardScaler\n",
    "from sklearn.pipeline import Pipeline\n",
    "from sklearn.linear_model import LogisticRegression\n",
    "from sklearn.ensemble import RandomForestClassifier\n",
    "from keras.layers import Dense, Dropout\n",
    "from keras.models import Model, Sequential\n",
    "from keras.wrappers.scikit_learn import KerasClassifier\n",
    "from sklearn.model_selection import GridSearchCV\n",
    "from sklearn.cluster import KMeans"
   ]
  },
  {
   "cell_type": "code",
   "execution_count": 28,
   "id": "a6c76a60",
   "metadata": {},
   "outputs": [
    {
     "name": "stdout",
     "output_type": "stream",
     "text": [
      "             Food_items  Breakfast  Lunch  Dinner  VegNovVeg  Calories  Fats  \\\n",
      "0      Asparagus Cooked          0      1       1          0        39   2.2   \n",
      "1              Avocados          1      0       0          0       160  15.0   \n",
      "2               Bananas          1      0       0          0        89   0.3   \n",
      "3  Bagels made in wheat          0      1       1          0       250   1.5   \n",
      "4               Berries          1      0       0          0        57   0.3   \n",
      "\n",
      "   Proteins  Iron  Calcium  Sodium  Potassium  Carbohydrates  Fibre  VitaminD  \\\n",
      "0       2.4  0.91     23.0      14      224.0            4.1    2.0       0.0   \n",
      "1       2.0  0.55     12.0       7      485.0            8.5    6.7       0.0   \n",
      "2       1.1  0.26      5.0       1      358.0           23.0    2.6       0.0   \n",
      "3      10.0  2.76     20.0     439      165.0           49.0    4.1       0.0   \n",
      "4       0.7  0.00      6.0       1       77.0           14.5    2.4       0.0   \n",
      "\n",
      "   Sugars  \n",
      "0     1.3  \n",
      "1     0.7  \n",
      "2    12.0  \n",
      "3     6.1  \n",
      "4    10.0  \n"
     ]
    }
   ],
   "source": [
    "df = pd.read_csv('food.csv')\n",
    "print(df.head())"
   ]
  },
  {
   "cell_type": "code",
   "execution_count": 29,
   "id": "c38bb767",
   "metadata": {},
   "outputs": [],
   "source": [
    "def cluster_food(FoodItemIDData, FoodItem_Test):\n",
    "    ###### K-MEANS FOR ALL FOOD\n",
    "    \n",
    "    MealDatacalorie=FoodItemIDData[0:,2:len(FoodItemIDData)] #nutrion data\n",
    "    MealDatacalorie = MealDatacalorie[:, [0,1,2,7,8]]\n",
    "\n",
    "    # print(MealDatacalorie)\n",
    "    S = StandardScaler()\n",
    "    foods_scaled_data = S.fit_transform(MealDatacalorie)\n",
    "    # print(foods_scaled_data)\n",
    "\n",
    "    k_means_meals = KMeans(init=\"k-means++\", n_clusters=3, n_init=50, max_iter=500, random_state=42)\n",
    "    k_means_meals.fit(foods_scaled_data)\n",
    "    labels=k_means_meals.labels_\n",
    "\n",
    "    FoodItem_Test['KMCluster'] = labels\n",
    "\n",
    "    # df1 = FoodItem_Test[FoodItem_Test.KMCluster==0]\n",
    "    # df2 = FoodItem_Test[FoodItem_Test.KMCluster==1]\n",
    "    # df3 = FoodItem_Test[FoodItem_Test.KMCluster==2]\n",
    "    # df4 = FoodItem_Test[FoodItem_Test.KMCluster==3]\n",
    "    # fig = plt.figure(figsize = (10, 5))\n",
    "    # plt.scatter(df1.Carbohydrates,df1['Calories'],color='green')\n",
    "    # plt.scatter(df2.Carbohydrates,df2['Calories'],color='red')\n",
    "    # plt.scatter(df3.Carbohydrates,df3['Calories'],color='black')\n",
    "    # plt.scatter(df4.Carbohydrates,df4['Calories'],color='yellow')\n",
    "    # plt.scatter(k_means_meals.cluster_centers_[:,1],k_means_meals.cluster_centers_[:,0],color='purple',marker='*',label='centroid')\n",
    "    # plt.xlabel('Carbohydrates')\n",
    "    # plt.ylabel('Calories')\n",
    "    # plt.legend()\n",
    "    # st.pyplot(fig)\n",
    "\n",
    "    # from sklearn.decomposition import PCA\n",
    "    # fig = plt.figure(figsize = (10, 5))\n",
    "    # reduced_data = PCA(n_components=2).fit_transform(foods_scaled_data)\n",
    "    # results = pd.DataFrame(reduced_data, columns=['pca1','pca2'])\n",
    "    # sns.scatterplot(x=results[\"pca1\"], y=results[\"pca2\"], hue=k_means_meals)\n",
    "    # plt.title('K-means Clustering with 2 dimensions')\n",
    "    # st.pyplot(fig)\n",
    "\n",
    "    # Check Elbow plot\n",
    "    # wss =[] \n",
    "    # for i in range(1,11):\n",
    "    #     KM_Meals = KMeans(init=\"k-means++\", n_clusters=i, n_init=50, max_iter=500, random_state=42)\n",
    "    #     KM_Meals.fit(foods_scaled_data)\n",
    "    #     wss.append(KM_Meals.inertia_)\n",
    "    # fig = plt.figure(figsize = (10, 5))\n",
    "    # plt.plot(range(1,11), wss, marker = '*')\n",
    "    # st.pyplot(fig)\n",
    "\n",
    "    # # Check silhouette score\n",
    "    # for i in range(2,10):\n",
    "    #     k_means_three_meals = KMeans(init=\"k-means++\", n_clusters=i, n_init=50, max_iter=500, random_state=42)\n",
    "    #     k_means_three_meals.fit(foods_scaled_data)\n",
    "    #     print('WSS for K=:',k_means_three_meals.inertia_)\n",
    "    #     labels_three = k_means_three_meals.labels_\n",
    "    #     st.write(silhouette_score(foods_scaled_data, labels_three))\n",
    "    \n",
    "    # Overview data in clusters\n",
    "    length = len(FoodItemIDData) + 2\n",
    "    FoodItem_Test['KMCluster'] = labels\n",
    "    clust_profile=FoodItem_Test.iloc[:,[2,3,4,9,10]].astype(float).groupby(FoodItem_Test['KMCluster']).mean()\n",
    "    clust_profile['KMFrequency']=FoodItem_Test.KMCluster.value_counts().sort_index()\n",
    "    clust = pd.DataFrame(clust_profile)\n",
    "    print(clust)\n",
    "\n",
    "    # c_data_path = \"/Users/hoaibao/DATN/DATN_ML/image\"\n",
    "    # L = FoodItem_Test['Food_items']\n",
    "    # n_row = 6\n",
    "    # n_col=6\n",
    "    # for i in range(4):\n",
    "    #     fig1 = plt.figure(figsize = (10, 5))\n",
    "    #     fig, axs = plt.subplots(n_row, n_col, figsize=(7, 7))\n",
    "    #     axs = axs.flatten()\n",
    "    #     for img, ax in zip(L[ k_means_meals.labels_ == i][:36], axs):\n",
    "    #         ax.imshow(mpimg.imread(os.path.join(c_data_path,img+'.jpeg')))\n",
    "    #     plt.tight_layout()\n",
    "    #     st.pyplot(fig)\n",
    "    #     st.write('----------------------------------------------------------------------')\n",
    "\n",
    "    return labels"
   ]
  },
  {
   "cell_type": "code",
   "execution_count": 30,
   "id": "2a4710a1",
   "metadata": {},
   "outputs": [],
   "source": [
    "def food_data():\n",
    "    FoodsData = df\n",
    "    FoodsData=FoodsData.T \n",
    "    val=list(np.arange(5,16))\n",
    "    Valapnd=[0]+[4]+val \n",
    "    FoodItemIDData=FoodsData.iloc[Valapnd]\n",
    "    FoodItemIDData=FoodItemIDData.T\n",
    "\n",
    "    return FoodItemIDData"
   ]
  },
  {
   "cell_type": "code",
   "execution_count": 31,
   "id": "77d06ada",
   "metadata": {},
   "outputs": [
    {
     "name": "stdout",
     "output_type": "stream",
     "text": [
      "             Calories       Fats   Proteins  Carbohydrates     Fibre  \\\n",
      "KMCluster                                                              \n",
      "0          174.354839   7.267419  23.206452       3.122258  0.441935   \n",
      "1           82.980769   2.140577   3.150192      13.534231  1.994231   \n",
      "2          377.531250  18.165625  11.643750      46.250000  5.009375   \n",
      "\n",
      "           KMFrequency  \n",
      "KMCluster               \n",
      "0                   31  \n",
      "1                   52  \n",
      "2                   32  \n",
      "                 Food_items VegNovVeg Calories  Fats Proteins  Iron Calcium  \\\n",
      "0          Asparagus Cooked         0       39   2.2      2.4  0.91    23.0   \n",
      "1                  Avocados         0      160  15.0      2.0  0.55    12.0   \n",
      "2                   Bananas         0       89   0.3      1.1  0.26     5.0   \n",
      "3      Bagels made in wheat         0      250   1.5     10.0  2.76    20.0   \n",
      "4                   Berries         0       57   0.3      0.7   0.0     6.0   \n",
      "..                      ...       ...      ...   ...      ...   ...     ...   \n",
      "110                   Mango         0       60   0.4      0.8   0.0    11.0   \n",
      "111           Cabbage green         0       25   0.0      1.2   0.0    40.0   \n",
      "112              Soy boiled         0      173   9.0     16.6   5.0   102.0   \n",
      "113  Coca-Cola Zero calorie         0        0   0.0      0.0   0.0     0.0   \n",
      "114     Sliced bell peppers         0       26   0.0      1.0   0.0     9.0   \n",
      "\n",
      "    Sodium Potassium Carbohydrates Fibre VitaminD Sugars  KMCluster  \n",
      "0       14     224.0           4.1   2.0      0.0    1.3          1  \n",
      "1        7     485.0           8.5   6.7      0.0    0.7          1  \n",
      "2        1     358.0          23.0   2.6      0.0   12.0          1  \n",
      "3      439     165.0          49.0   4.1      0.0    6.1          2  \n",
      "4        1      77.0          14.5   2.4      0.0   10.0          1  \n",
      "..     ...       ...           ...   ...      ...    ...        ...  \n",
      "110      1     168.0          15.0   1.6      0.0   14.0          1  \n",
      "111     18     170.0           5.8   2.5      0.0    3.2          1  \n",
      "112    232     512.0          10.0   6.0      0.0    3.0          0  \n",
      "113     11      17.0           0.0   0.0      0.0    0.0          1  \n",
      "114      0       0.0           6.2   1.3      0.0    0.4          1  \n",
      "\n",
      "[115 rows x 14 columns]\n",
      "    Calories  Fats Proteins Carbohydrates Fibre\n",
      "0         39   2.2      2.4           4.1   2.0\n",
      "1        160  15.0      2.0           8.5   6.7\n",
      "2         89   0.3      1.1          23.0   2.6\n",
      "3        250   1.5     10.0          49.0   4.1\n",
      "4         57   0.3      0.7          14.5   2.4\n",
      "..       ...   ...      ...           ...   ...\n",
      "110       60   0.4      0.8          15.0   1.6\n",
      "111       25   0.0      1.2           5.8   2.5\n",
      "112      173   9.0     16.6          10.0   6.0\n",
      "113        0   0.0      0.0           0.0   0.0\n",
      "114       26   0.0      1.0           6.2   1.3\n",
      "\n",
      "[115 rows x 5 columns]\n"
     ]
    }
   ],
   "source": [
    "FoodItemIDData = food_data()\n",
    "\n",
    "FoodNutrion = FoodItemIDData\n",
    "\n",
    "FoodItemIDData=FoodItemIDData.to_numpy()\n",
    "\n",
    "foodlbs = cluster_food(FoodItemIDData, FoodNutrion)\n",
    "\n",
    "print(FoodNutrion)\n",
    "df = FoodNutrion\n",
    "\n",
    "y = df['KMCluster']\n",
    "X = df.drop(columns=['KMCluster','Food_items','VegNovVeg','Iron', 'Calcium', 'Sodium', 'Potassium','VitaminD','Sugars'])\n",
    "print(X)\n",
    "\n",
    "X_train, X_test, y_train, y_test = train_test_split(X, y, test_size=0.3,stratify=y, random_state=42)"
   ]
  },
  {
   "cell_type": "code",
   "execution_count": 32,
   "id": "cbffc0b4",
   "metadata": {},
   "outputs": [],
   "source": [
    "def my_DL(epochs=6,batchsize=512):\n",
    "    model = Sequential()\n",
    "    model.add(Dense(32,activation='relu'))\n",
    "    model.add(Dense(16,activation='relu'))\n",
    "    model.add(Dense(1,activation='sigmoid'))\n",
    "    model.compile(loss='binary_crossentropy',optimizer='rmsprop', metrics=['accuracy'])\n",
    "    return model"
   ]
  },
  {
   "cell_type": "code",
   "execution_count": 33,
   "id": "46bc461c",
   "metadata": {},
   "outputs": [],
   "source": [
    "def train_hyper_tune(X,y):\n",
    "    # create the pre-processing component\n",
    "    my_scaler = StandardScaler()\n",
    "    my_imputer = SimpleImputer(strategy=\"median\")\n",
    "    \n",
    "    # define classifiers\n",
    "    ## Classifier 1: Logistic Regression\n",
    "    clf_LR = LogisticRegression(random_state=0,penalty='elasticnet',solver='saga')\n",
    "    ## Classifier 2: Random Forest Classifier\n",
    "    clf_RF = RandomForestClassifier(random_state=0)\n",
    "    ## Classifier 3: Deep Learning Binary Classifier\n",
    "    clf_DL = KerasClassifier(build_fn=my_DL)\n",
    "    \n",
    "    # define pipeline for three classifiers\n",
    "    ## clf_LR\n",
    "    pipe1 = Pipeline([('imputer', my_imputer), ('scaler', my_scaler), ('lr_model',clf_LR)])\n",
    "    ## clf_RF\n",
    "    pipe2 = Pipeline([('imputer', my_imputer), ('scaler', my_scaler), ('rf_model',clf_RF)])\n",
    "    ## clf_DL\n",
    "    pipe3 = Pipeline([('imputer', my_imputer), ('scaler', my_scaler), ('dl_model',clf_DL)])\n",
    "    \n",
    "    # create hyperparameter space of the three models\n",
    "    ## clf_LR\n",
    "    param_grid1 = {\n",
    "        'lr_model__C' : [1e-1,1,10],\n",
    "        'lr_model__l1_ratio' : [0,0.5,1]\n",
    "    }\n",
    "    ## clf_RF\n",
    "    param_grid2 = {\n",
    "        'rf_model__n_estimators' : [50,100],\n",
    "        'rf_model__max_features' : [0.8,\"auto\"],\n",
    "        'rf_model__max_depth' : [4,5]\n",
    "    }\n",
    "    ## clf_DL\n",
    "    param_grid3 = {\n",
    "        'dl_model__epochs' : [6,12,18,24],\n",
    "        'dl_model__batchsize' : [256,512]\n",
    "    }\n",
    "    \n",
    "    # set GridSearch via 5-fold cross-validation\n",
    "    ## clf_LR\n",
    "    grid1 = GridSearchCV(pipe1, cv=5, param_grid=param_grid1)\n",
    "    ## clf_RF\n",
    "    grid2 = GridSearchCV(pipe2, cv=5, param_grid=param_grid2)\n",
    "    ## clf_DL\n",
    "    grid3 = GridSearchCV(pipe3, cv=5, param_grid=param_grid3)\n",
    "    \n",
    "    # run the hyperparameter tunning process\n",
    "    grid1.fit(X,y)\n",
    "    grid2.fit(X,y)\n",
    "    grid3.fit(X,y)\n",
    "    \n",
    "    # return results of the tunning process\n",
    "    return grid1,grid2,grid3,pipe1,pipe2,pipe3"
   ]
  },
  {
   "cell_type": "code",
   "execution_count": 34,
   "id": "42321e59",
   "metadata": {},
   "outputs": [
    {
     "name": "stderr",
     "output_type": "stream",
     "text": [
      "/opt/homebrew/Caskroom/miniforge/base/envs/tensorflow/lib/python3.9/site-packages/sklearn/linear_model/_sag.py:352: ConvergenceWarning: The max_iter was reached which means the coef_ did not converge\n",
      "  warnings.warn(\n",
      "/opt/homebrew/Caskroom/miniforge/base/envs/tensorflow/lib/python3.9/site-packages/sklearn/linear_model/_sag.py:352: ConvergenceWarning: The max_iter was reached which means the coef_ did not converge\n",
      "  warnings.warn(\n",
      "/opt/homebrew/Caskroom/miniforge/base/envs/tensorflow/lib/python3.9/site-packages/sklearn/linear_model/_sag.py:352: ConvergenceWarning: The max_iter was reached which means the coef_ did not converge\n",
      "  warnings.warn(\n",
      "/opt/homebrew/Caskroom/miniforge/base/envs/tensorflow/lib/python3.9/site-packages/sklearn/linear_model/_sag.py:352: ConvergenceWarning: The max_iter was reached which means the coef_ did not converge\n",
      "  warnings.warn(\n",
      "/opt/homebrew/Caskroom/miniforge/base/envs/tensorflow/lib/python3.9/site-packages/sklearn/linear_model/_sag.py:352: ConvergenceWarning: The max_iter was reached which means the coef_ did not converge\n",
      "  warnings.warn(\n",
      "/opt/homebrew/Caskroom/miniforge/base/envs/tensorflow/lib/python3.9/site-packages/sklearn/linear_model/_sag.py:352: ConvergenceWarning: The max_iter was reached which means the coef_ did not converge\n",
      "  warnings.warn(\n",
      "/opt/homebrew/Caskroom/miniforge/base/envs/tensorflow/lib/python3.9/site-packages/sklearn/linear_model/_sag.py:352: ConvergenceWarning: The max_iter was reached which means the coef_ did not converge\n",
      "  warnings.warn(\n",
      "/opt/homebrew/Caskroom/miniforge/base/envs/tensorflow/lib/python3.9/site-packages/sklearn/linear_model/_sag.py:352: ConvergenceWarning: The max_iter was reached which means the coef_ did not converge\n",
      "  warnings.warn(\n",
      "/opt/homebrew/Caskroom/miniforge/base/envs/tensorflow/lib/python3.9/site-packages/sklearn/linear_model/_sag.py:352: ConvergenceWarning: The max_iter was reached which means the coef_ did not converge\n",
      "  warnings.warn(\n",
      "/opt/homebrew/Caskroom/miniforge/base/envs/tensorflow/lib/python3.9/site-packages/sklearn/linear_model/_sag.py:352: ConvergenceWarning: The max_iter was reached which means the coef_ did not converge\n",
      "  warnings.warn(\n",
      "/opt/homebrew/Caskroom/miniforge/base/envs/tensorflow/lib/python3.9/site-packages/sklearn/linear_model/_sag.py:352: ConvergenceWarning: The max_iter was reached which means the coef_ did not converge\n",
      "  warnings.warn(\n",
      "/opt/homebrew/Caskroom/miniforge/base/envs/tensorflow/lib/python3.9/site-packages/sklearn/linear_model/_sag.py:352: ConvergenceWarning: The max_iter was reached which means the coef_ did not converge\n",
      "  warnings.warn(\n",
      "/opt/homebrew/Caskroom/miniforge/base/envs/tensorflow/lib/python3.9/site-packages/sklearn/linear_model/_sag.py:352: ConvergenceWarning: The max_iter was reached which means the coef_ did not converge\n",
      "  warnings.warn(\n",
      "/opt/homebrew/Caskroom/miniforge/base/envs/tensorflow/lib/python3.9/site-packages/sklearn/linear_model/_sag.py:352: ConvergenceWarning: The max_iter was reached which means the coef_ did not converge\n",
      "  warnings.warn(\n",
      "/opt/homebrew/Caskroom/miniforge/base/envs/tensorflow/lib/python3.9/site-packages/sklearn/linear_model/_sag.py:352: ConvergenceWarning: The max_iter was reached which means the coef_ did not converge\n",
      "  warnings.warn(\n",
      "/opt/homebrew/Caskroom/miniforge/base/envs/tensorflow/lib/python3.9/site-packages/sklearn/linear_model/_sag.py:352: ConvergenceWarning: The max_iter was reached which means the coef_ did not converge\n",
      "  warnings.warn(\n",
      "/opt/homebrew/Caskroom/miniforge/base/envs/tensorflow/lib/python3.9/site-packages/sklearn/linear_model/_sag.py:352: ConvergenceWarning: The max_iter was reached which means the coef_ did not converge\n",
      "  warnings.warn(\n",
      "/opt/homebrew/Caskroom/miniforge/base/envs/tensorflow/lib/python3.9/site-packages/sklearn/linear_model/_sag.py:352: ConvergenceWarning: The max_iter was reached which means the coef_ did not converge\n",
      "  warnings.warn(\n",
      "/opt/homebrew/Caskroom/miniforge/base/envs/tensorflow/lib/python3.9/site-packages/sklearn/linear_model/_sag.py:352: ConvergenceWarning: The max_iter was reached which means the coef_ did not converge\n",
      "  warnings.warn(\n",
      "/opt/homebrew/Caskroom/miniforge/base/envs/tensorflow/lib/python3.9/site-packages/sklearn/linear_model/_sag.py:352: ConvergenceWarning: The max_iter was reached which means the coef_ did not converge\n",
      "  warnings.warn(\n",
      "/opt/homebrew/Caskroom/miniforge/base/envs/tensorflow/lib/python3.9/site-packages/sklearn/linear_model/_sag.py:352: ConvergenceWarning: The max_iter was reached which means the coef_ did not converge\n",
      "  warnings.warn(\n",
      "/opt/homebrew/Caskroom/miniforge/base/envs/tensorflow/lib/python3.9/site-packages/sklearn/linear_model/_sag.py:352: ConvergenceWarning: The max_iter was reached which means the coef_ did not converge\n",
      "  warnings.warn(\n",
      "/opt/homebrew/Caskroom/miniforge/base/envs/tensorflow/lib/python3.9/site-packages/sklearn/linear_model/_sag.py:352: ConvergenceWarning: The max_iter was reached which means the coef_ did not converge\n",
      "  warnings.warn(\n",
      "/opt/homebrew/Caskroom/miniforge/base/envs/tensorflow/lib/python3.9/site-packages/sklearn/linear_model/_sag.py:352: ConvergenceWarning: The max_iter was reached which means the coef_ did not converge\n",
      "  warnings.warn(\n",
      "/opt/homebrew/Caskroom/miniforge/base/envs/tensorflow/lib/python3.9/site-packages/sklearn/linear_model/_sag.py:352: ConvergenceWarning: The max_iter was reached which means the coef_ did not converge\n",
      "  warnings.warn(\n",
      "/opt/homebrew/Caskroom/miniforge/base/envs/tensorflow/lib/python3.9/site-packages/sklearn/linear_model/_sag.py:352: ConvergenceWarning: The max_iter was reached which means the coef_ did not converge\n",
      "  warnings.warn(\n",
      "/opt/homebrew/Caskroom/miniforge/base/envs/tensorflow/lib/python3.9/site-packages/sklearn/linear_model/_sag.py:352: ConvergenceWarning: The max_iter was reached which means the coef_ did not converge\n",
      "  warnings.warn(\n"
     ]
    },
    {
     "name": "stdout",
     "output_type": "stream",
     "text": [
      "Epoch 1/6\n",
      "2/2 [==============================] - 1s 19ms/step - loss: 0.7135 - accuracy: 0.1354\n",
      "Epoch 2/6\n",
      "2/2 [==============================] - 0s 12ms/step - loss: 0.5992 - accuracy: 0.2188\n"
     ]
    },
    {
     "name": "stderr",
     "output_type": "stream",
     "text": [
      "2022-02-12 13:42:09.547650: I tensorflow/core/grappler/optimizers/custom_graph_optimizer_registry.cc:112] Plugin optimizer for device_type GPU is enabled.\n"
     ]
    },
    {
     "name": "stdout",
     "output_type": "stream",
     "text": [
      "Epoch 3/6\n",
      "2/2 [==============================] - 0s 7ms/step - loss: 0.6030 - accuracy: 0.2500\n",
      "Epoch 4/6\n",
      "2/2 [==============================] - 0s 7ms/step - loss: 0.5391 - accuracy: 0.3229\n",
      "Epoch 5/6\n",
      "2/2 [==============================] - 0s 7ms/step - loss: 0.4217 - accuracy: 0.3438\n",
      "Epoch 6/6\n",
      "2/2 [==============================] - 0s 12ms/step - loss: 0.4512 - accuracy: 0.3854\n",
      "1/1 [==============================] - 0s 181ms/step - loss: 0.5394 - accuracy: 0.3750\n"
     ]
    },
    {
     "name": "stderr",
     "output_type": "stream",
     "text": [
      "2022-02-12 13:42:10.560248: I tensorflow/core/grappler/optimizers/custom_graph_optimizer_registry.cc:112] Plugin optimizer for device_type GPU is enabled.\n"
     ]
    },
    {
     "name": "stdout",
     "output_type": "stream",
     "text": [
      "Epoch 1/6\n",
      "2/2 [==============================] - 0s 7ms/step - loss: 0.9865 - accuracy: 0.2500\n",
      "Epoch 2/6\n",
      "2/2 [==============================] - 0s 7ms/step - loss: 0.8843 - accuracy: 0.2812\n",
      "Epoch 3/6\n",
      "2/2 [==============================] - 0s 6ms/step - loss: 0.8184 - accuracy: 0.3229\n",
      "Epoch 4/6\n",
      "2/2 [==============================] - 0s 6ms/step - loss: 0.7968 - accuracy: 0.3542\n",
      "Epoch 5/6\n",
      "2/2 [==============================] - 0s 14ms/step - loss: 0.7275 - accuracy: 0.4167\n"
     ]
    },
    {
     "name": "stderr",
     "output_type": "stream",
     "text": [
      "2022-02-12 13:42:10.986833: I tensorflow/core/grappler/optimizers/custom_graph_optimizer_registry.cc:112] Plugin optimizer for device_type GPU is enabled.\n"
     ]
    },
    {
     "name": "stdout",
     "output_type": "stream",
     "text": [
      "Epoch 6/6\n",
      "2/2 [==============================] - 0s 6ms/step - loss: 0.6891 - accuracy: 0.4583\n",
      "1/1 [==============================] - 0s 182ms/step - loss: 0.6382 - accuracy: 0.5000\n"
     ]
    },
    {
     "name": "stderr",
     "output_type": "stream",
     "text": [
      "2022-02-12 13:42:11.335738: I tensorflow/core/grappler/optimizers/custom_graph_optimizer_registry.cc:112] Plugin optimizer for device_type GPU is enabled.\n"
     ]
    },
    {
     "name": "stdout",
     "output_type": "stream",
     "text": [
      "Epoch 1/6\n",
      "2/2 [==============================] - 0s 16ms/step - loss: 0.3812 - accuracy: 0.4375\n",
      "Epoch 2/6\n",
      "2/2 [==============================] - 0s 11ms/step - loss: 0.3185 - accuracy: 0.4688\n",
      "Epoch 3/6\n",
      "2/2 [==============================] - 0s 6ms/step - loss: 0.2590 - accuracy: 0.4688\n",
      "Epoch 4/6\n",
      "2/2 [==============================] - 0s 6ms/step - loss: 0.2358 - accuracy: 0.4792\n",
      "Epoch 5/6\n",
      "2/2 [==============================] - 0s 6ms/step - loss: 0.1960 - accuracy: 0.4479\n"
     ]
    },
    {
     "name": "stderr",
     "output_type": "stream",
     "text": [
      "2022-02-12 13:42:11.742067: I tensorflow/core/grappler/optimizers/custom_graph_optimizer_registry.cc:112] Plugin optimizer for device_type GPU is enabled.\n"
     ]
    },
    {
     "name": "stdout",
     "output_type": "stream",
     "text": [
      "Epoch 6/6\n",
      "2/2 [==============================] - 0s 7ms/step - loss: 0.1155 - accuracy: 0.4375\n",
      "1/1 [==============================] - 0s 182ms/step - loss: -0.7029 - accuracy: 0.4375\n"
     ]
    },
    {
     "name": "stderr",
     "output_type": "stream",
     "text": [
      "2022-02-12 13:42:12.094072: I tensorflow/core/grappler/optimizers/custom_graph_optimizer_registry.cc:112] Plugin optimizer for device_type GPU is enabled.\n"
     ]
    },
    {
     "name": "stdout",
     "output_type": "stream",
     "text": [
      "Epoch 1/6\n",
      "2/2 [==============================] - 0s 12ms/step - loss: 0.4931 - accuracy: 0.4792\n",
      "Epoch 2/6\n",
      "2/2 [==============================] - 0s 6ms/step - loss: 0.3661 - accuracy: 0.4583\n",
      "Epoch 3/6\n",
      "2/2 [==============================] - 0s 6ms/step - loss: 0.2966 - accuracy: 0.4375\n",
      "Epoch 4/6\n",
      "2/2 [==============================] - 0s 12ms/step - loss: 0.2228 - accuracy: 0.4479\n",
      "Epoch 5/6\n",
      "2/2 [==============================] - 0s 7ms/step - loss: 0.2360 - accuracy: 0.4792\n",
      "Epoch 6/6\n",
      "1/2 [==============>...............] - ETA: 0s - loss: -0.0200 - accuracy: 0.4062"
     ]
    },
    {
     "name": "stderr",
     "output_type": "stream",
     "text": [
      "2022-02-12 13:42:12.506460: I tensorflow/core/grappler/optimizers/custom_graph_optimizer_registry.cc:112] Plugin optimizer for device_type GPU is enabled.\n"
     ]
    },
    {
     "name": "stdout",
     "output_type": "stream",
     "text": [
      "2/2 [==============================] - 0s 7ms/step - loss: 0.0936 - accuracy: 0.4375\n",
      "1/1 [==============================] - 0s 175ms/step - loss: 0.4987 - accuracy: 0.4375\n"
     ]
    },
    {
     "name": "stderr",
     "output_type": "stream",
     "text": [
      "2022-02-12 13:42:12.842774: I tensorflow/core/grappler/optimizers/custom_graph_optimizer_registry.cc:112] Plugin optimizer for device_type GPU is enabled.\n"
     ]
    },
    {
     "name": "stdout",
     "output_type": "stream",
     "text": [
      "Epoch 1/6\n",
      "2/2 [==============================] - 1s 11ms/step - loss: 0.7965 - accuracy: 0.3542\n",
      "Epoch 2/6\n",
      "2/2 [==============================] - 0s 13ms/step - loss: 0.7492 - accuracy: 0.4167\n",
      "Epoch 3/6\n",
      "2/2 [==============================] - 0s 7ms/step - loss: 0.7216 - accuracy: 0.6042\n",
      "Epoch 4/6\n",
      "2/2 [==============================] - 0s 12ms/step - loss: 0.6767 - accuracy: 0.6875\n",
      "Epoch 5/6\n",
      "1/2 [==============>...............] - ETA: 0s - loss: 0.6448 - accuracy: 0.6250"
     ]
    },
    {
     "name": "stderr",
     "output_type": "stream",
     "text": [
      "2022-02-12 13:42:13.325782: I tensorflow/core/grappler/optimizers/custom_graph_optimizer_registry.cc:112] Plugin optimizer for device_type GPU is enabled.\n"
     ]
    },
    {
     "name": "stdout",
     "output_type": "stream",
     "text": [
      "2/2 [==============================] - 0s 7ms/step - loss: 0.6427 - accuracy: 0.6667\n",
      "Epoch 6/6\n",
      "2/2 [==============================] - 0s 7ms/step - loss: 0.6150 - accuracy: 0.6771\n",
      "1/1 [==============================] - 0s 181ms/step - loss: 0.7840 - accuracy: 0.6875\n"
     ]
    },
    {
     "name": "stderr",
     "output_type": "stream",
     "text": [
      "2022-02-12 13:42:13.672024: I tensorflow/core/grappler/optimizers/custom_graph_optimizer_registry.cc:112] Plugin optimizer for device_type GPU is enabled.\n"
     ]
    },
    {
     "name": "stdout",
     "output_type": "stream",
     "text": [
      "Epoch 1/12\n",
      "2/2 [==============================] - 0s 11ms/step - loss: 0.9424 - accuracy: 0.1042\n",
      "Epoch 2/12\n",
      "2/2 [==============================] - 0s 5ms/step - loss: 0.7866 - accuracy: 0.3854\n",
      "Epoch 3/12\n",
      "2/2 [==============================] - 0s 6ms/step - loss: 0.7129 - accuracy: 0.4167\n",
      "Epoch 4/12\n",
      "2/2 [==============================] - 0s 10ms/step - loss: 0.6307 - accuracy: 0.4583\n",
      "Epoch 5/12\n",
      "2/2 [==============================] - 0s 6ms/step - loss: 0.5667 - accuracy: 0.4792\n",
      "Epoch 6/12\n",
      "2/2 [==============================] - 0s 6ms/step - loss: 0.5174 - accuracy: 0.4479\n"
     ]
    },
    {
     "name": "stderr",
     "output_type": "stream",
     "text": [
      "2022-02-12 13:42:14.094076: I tensorflow/core/grappler/optimizers/custom_graph_optimizer_registry.cc:112] Plugin optimizer for device_type GPU is enabled.\n"
     ]
    },
    {
     "name": "stdout",
     "output_type": "stream",
     "text": [
      "Epoch 7/12\n",
      "2/2 [==============================] - 0s 13ms/step - loss: 0.4602 - accuracy: 0.4271\n",
      "Epoch 8/12\n",
      "2/2 [==============================] - 0s 7ms/step - loss: 0.3737 - accuracy: 0.4479\n",
      "Epoch 9/12\n",
      "2/2 [==============================] - 0s 7ms/step - loss: 0.3613 - accuracy: 0.4896\n",
      "Epoch 10/12\n",
      "2/2 [==============================] - 0s 6ms/step - loss: 0.3311 - accuracy: 0.4583\n",
      "Epoch 11/12\n",
      "2/2 [==============================] - 0s 6ms/step - loss: 0.2432 - accuracy: 0.4792\n",
      "Epoch 12/12\n",
      "2/2 [==============================] - 0s 7ms/step - loss: 0.2092 - accuracy: 0.5104\n",
      "1/1 [==============================] - 0s 175ms/step - loss: 0.3236 - accuracy: 0.4375\n"
     ]
    },
    {
     "name": "stderr",
     "output_type": "stream",
     "text": [
      "2022-02-12 13:42:14.522723: I tensorflow/core/grappler/optimizers/custom_graph_optimizer_registry.cc:112] Plugin optimizer for device_type GPU is enabled.\n"
     ]
    },
    {
     "name": "stdout",
     "output_type": "stream",
     "text": [
      "Epoch 1/12\n",
      "2/2 [==============================] - 0s 10ms/step - loss: 0.7292 - accuracy: 0.2812\n",
      "Epoch 2/12\n",
      "2/2 [==============================] - 0s 6ms/step - loss: 0.6073 - accuracy: 0.3958\n",
      "Epoch 3/12\n",
      "2/2 [==============================] - 0s 11ms/step - loss: 0.4899 - accuracy: 0.4062\n",
      "Epoch 4/12\n",
      "2/2 [==============================] - 0s 11ms/step - loss: 0.4641 - accuracy: 0.4688\n",
      "Epoch 5/12\n",
      "2/2 [==============================] - 0s 7ms/step - loss: 0.3381 - accuracy: 0.5104\n"
     ]
    },
    {
     "name": "stderr",
     "output_type": "stream",
     "text": [
      "2022-02-12 13:42:14.934981: I tensorflow/core/grappler/optimizers/custom_graph_optimizer_registry.cc:112] Plugin optimizer for device_type GPU is enabled.\n"
     ]
    },
    {
     "name": "stdout",
     "output_type": "stream",
     "text": [
      "Epoch 6/12\n",
      "2/2 [==============================] - 0s 12ms/step - loss: 0.3408 - accuracy: 0.5208\n",
      "Epoch 7/12\n",
      "2/2 [==============================] - 0s 7ms/step - loss: 0.3525 - accuracy: 0.5312\n",
      "Epoch 8/12\n",
      "2/2 [==============================] - 0s 6ms/step - loss: 0.2852 - accuracy: 0.5625\n",
      "Epoch 9/12\n",
      "2/2 [==============================] - 0s 7ms/step - loss: 0.1005 - accuracy: 0.5312\n",
      "Epoch 10/12\n",
      "2/2 [==============================] - 0s 6ms/step - loss: 0.1697 - accuracy: 0.5312\n",
      "Epoch 11/12\n",
      "2/2 [==============================] - 0s 6ms/step - loss: 0.0229 - accuracy: 0.5208\n",
      "Epoch 12/12\n",
      "2/2 [==============================] - 0s 7ms/step - loss: 0.1450 - accuracy: 0.6042\n",
      "1/1 [==============================] - 0s 183ms/step - loss: 0.0548 - accuracy: 0.5625\n"
     ]
    },
    {
     "name": "stderr",
     "output_type": "stream",
     "text": [
      "2022-02-12 13:42:15.377530: I tensorflow/core/grappler/optimizers/custom_graph_optimizer_registry.cc:112] Plugin optimizer for device_type GPU is enabled.\n"
     ]
    },
    {
     "name": "stdout",
     "output_type": "stream",
     "text": [
      "Epoch 1/12\n",
      "2/2 [==============================] - 1s 14ms/step - loss: 1.0657 - accuracy: 0.2917\n",
      "Epoch 2/12\n",
      "2/2 [==============================] - 0s 7ms/step - loss: 0.9181 - accuracy: 0.2917\n",
      "Epoch 3/12\n",
      "2/2 [==============================] - 0s 10ms/step - loss: 0.8921 - accuracy: 0.2917\n"
     ]
    },
    {
     "name": "stderr",
     "output_type": "stream",
     "text": [
      "2022-02-12 13:42:15.827408: I tensorflow/core/grappler/optimizers/custom_graph_optimizer_registry.cc:112] Plugin optimizer for device_type GPU is enabled.\n"
     ]
    },
    {
     "name": "stdout",
     "output_type": "stream",
     "text": [
      "Epoch 4/12\n",
      "2/2 [==============================] - 0s 7ms/step - loss: 0.8275 - accuracy: 0.2708\n",
      "Epoch 5/12\n",
      "2/2 [==============================] - 0s 6ms/step - loss: 0.7687 - accuracy: 0.2917\n",
      "Epoch 6/12\n",
      "2/2 [==============================] - 0s 7ms/step - loss: 0.7243 - accuracy: 0.3125\n",
      "Epoch 7/12\n",
      "2/2 [==============================] - 0s 7ms/step - loss: 0.6770 - accuracy: 0.4375\n",
      "Epoch 8/12\n",
      "2/2 [==============================] - 0s 6ms/step - loss: 0.6311 - accuracy: 0.4375\n",
      "Epoch 9/12\n",
      "2/2 [==============================] - 0s 8ms/step - loss: 0.5867 - accuracy: 0.5312\n",
      "Epoch 10/12\n",
      "2/2 [==============================] - 0s 11ms/step - loss: 0.5565 - accuracy: 0.5312\n",
      "Epoch 11/12\n",
      "2/2 [==============================] - 0s 7ms/step - loss: 0.5093 - accuracy: 0.5104\n",
      "Epoch 12/12\n",
      "2/2 [==============================] - 0s 9ms/step - loss: 0.4982 - accuracy: 0.5625\n",
      "1/1 [==============================] - 0s 192ms/step - loss: 0.3493 - accuracy: 0.5000\n"
     ]
    },
    {
     "name": "stderr",
     "output_type": "stream",
     "text": [
      "2022-02-12 13:42:16.316943: I tensorflow/core/grappler/optimizers/custom_graph_optimizer_registry.cc:112] Plugin optimizer for device_type GPU is enabled.\n"
     ]
    },
    {
     "name": "stdout",
     "output_type": "stream",
     "text": [
      "Epoch 1/12\n",
      "2/2 [==============================] - 0s 10ms/step - loss: 0.5364 - accuracy: 0.3229\n",
      "Epoch 2/12\n",
      "2/2 [==============================] - 0s 6ms/step - loss: 0.4413 - accuracy: 0.4062\n",
      "Epoch 3/12\n",
      "2/2 [==============================] - 0s 6ms/step - loss: 0.4061 - accuracy: 0.4479\n",
      "Epoch 4/12\n",
      "2/2 [==============================] - 0s 7ms/step - loss: 0.3352 - accuracy: 0.4792\n"
     ]
    },
    {
     "name": "stderr",
     "output_type": "stream",
     "text": [
      "2022-02-12 13:42:16.745033: I tensorflow/core/grappler/optimizers/custom_graph_optimizer_registry.cc:112] Plugin optimizer for device_type GPU is enabled.\n"
     ]
    },
    {
     "name": "stdout",
     "output_type": "stream",
     "text": [
      "Epoch 5/12\n",
      "2/2 [==============================] - 0s 7ms/step - loss: 0.2540 - accuracy: 0.5208\n",
      "Epoch 6/12\n",
      "2/2 [==============================] - 0s 6ms/step - loss: 0.2120 - accuracy: 0.5833\n",
      "Epoch 7/12\n",
      "2/2 [==============================] - 0s 12ms/step - loss: 0.2004 - accuracy: 0.5938\n",
      "Epoch 8/12\n",
      "2/2 [==============================] - 0s 7ms/step - loss: 0.1676 - accuracy: 0.6250\n",
      "Epoch 9/12\n",
      "2/2 [==============================] - 0s 6ms/step - loss: 0.1273 - accuracy: 0.6042\n",
      "Epoch 10/12\n",
      "2/2 [==============================] - 0s 6ms/step - loss: 0.1024 - accuracy: 0.6042\n",
      "Epoch 11/12\n",
      "2/2 [==============================] - 0s 7ms/step - loss: 0.1020 - accuracy: 0.6354\n",
      "Epoch 12/12\n",
      "2/2 [==============================] - 0s 6ms/step - loss: 0.1099 - accuracy: 0.6354\n",
      "1/1 [==============================] - 0s 180ms/step - loss: 0.2796 - accuracy: 0.8125\n"
     ]
    },
    {
     "name": "stderr",
     "output_type": "stream",
     "text": [
      "2022-02-12 13:42:17.200777: I tensorflow/core/grappler/optimizers/custom_graph_optimizer_registry.cc:112] Plugin optimizer for device_type GPU is enabled.\n"
     ]
    },
    {
     "name": "stdout",
     "output_type": "stream",
     "text": [
      "Epoch 1/12\n",
      "2/2 [==============================] - 0s 6ms/step - loss: 0.5044 - accuracy: 0.4167\n",
      "Epoch 2/12\n",
      "2/2 [==============================] - 0s 14ms/step - loss: 0.4379 - accuracy: 0.3854\n",
      "Epoch 3/12\n",
      "2/2 [==============================] - 0s 11ms/step - loss: 0.3876 - accuracy: 0.3958\n",
      "Epoch 4/12\n",
      "2/2 [==============================] - 0s 7ms/step - loss: 0.3457 - accuracy: 0.4062\n",
      "Epoch 5/12\n",
      "1/2 [==============>...............] - ETA: 0s - loss: 0.1933 - accuracy: 0.4062"
     ]
    },
    {
     "name": "stderr",
     "output_type": "stream",
     "text": [
      "2022-02-12 13:42:17.610563: I tensorflow/core/grappler/optimizers/custom_graph_optimizer_registry.cc:112] Plugin optimizer for device_type GPU is enabled.\n"
     ]
    },
    {
     "name": "stdout",
     "output_type": "stream",
     "text": [
      "2/2 [==============================] - 0s 6ms/step - loss: 0.2644 - accuracy: 0.4375\n",
      "Epoch 6/12\n",
      "2/2 [==============================] - 0s 6ms/step - loss: 0.2405 - accuracy: 0.5104\n",
      "Epoch 7/12\n",
      "2/2 [==============================] - 0s 7ms/step - loss: 0.1909 - accuracy: 0.5208\n",
      "Epoch 8/12\n",
      "2/2 [==============================] - 0s 6ms/step - loss: 0.2072 - accuracy: 0.5312\n",
      "Epoch 9/12\n",
      "2/2 [==============================] - 0s 6ms/step - loss: 0.1496 - accuracy: 0.5625\n",
      "Epoch 10/12\n",
      "2/2 [==============================] - 0s 6ms/step - loss: 0.0702 - accuracy: 0.5312\n",
      "Epoch 11/12\n",
      "2/2 [==============================] - 0s 6ms/step - loss: 0.0044 - accuracy: 0.5729\n",
      "Epoch 12/12\n",
      "2/2 [==============================] - 0s 6ms/step - loss: -0.0294 - accuracy: 0.5833\n",
      "1/1 [==============================] - 0s 185ms/step - loss: 0.0732 - accuracy: 0.6250\n"
     ]
    },
    {
     "name": "stderr",
     "output_type": "stream",
     "text": [
      "2022-02-12 13:42:18.057926: I tensorflow/core/grappler/optimizers/custom_graph_optimizer_registry.cc:112] Plugin optimizer for device_type GPU is enabled.\n"
     ]
    },
    {
     "name": "stdout",
     "output_type": "stream",
     "text": [
      "Epoch 1/18\n",
      "2/2 [==============================] - 1s 8ms/step - loss: 0.7061 - accuracy: 0.3854\n",
      "Epoch 2/18\n",
      "2/2 [==============================] - 0s 11ms/step - loss: 0.5935 - accuracy: 0.5208\n",
      "Epoch 3/18\n",
      "2/2 [==============================] - 0s 6ms/step - loss: 0.5389 - accuracy: 0.5208\n",
      "Epoch 4/18\n",
      "2/2 [==============================] - 0s 10ms/step - loss: 0.4757 - accuracy: 0.5521\n",
      "Epoch 5/18\n",
      "2/2 [==============================] - 0s 6ms/step - loss: 0.3721 - accuracy: 0.6146\n"
     ]
    },
    {
     "name": "stderr",
     "output_type": "stream",
     "text": [
      "2022-02-12 13:42:18.941785: I tensorflow/core/grappler/optimizers/custom_graph_optimizer_registry.cc:112] Plugin optimizer for device_type GPU is enabled.\n"
     ]
    },
    {
     "name": "stdout",
     "output_type": "stream",
     "text": [
      "Epoch 6/18\n",
      "2/2 [==============================] - 0s 6ms/step - loss: 0.3366 - accuracy: 0.6667\n",
      "Epoch 7/18\n",
      "2/2 [==============================] - 0s 14ms/step - loss: 0.3086 - accuracy: 0.7083\n",
      "Epoch 8/18\n",
      "2/2 [==============================] - 0s 6ms/step - loss: 0.2518 - accuracy: 0.6771\n",
      "Epoch 9/18\n",
      "2/2 [==============================] - 0s 6ms/step - loss: 0.2737 - accuracy: 0.6979\n",
      "Epoch 10/18\n",
      "2/2 [==============================] - 0s 6ms/step - loss: 0.1694 - accuracy: 0.6771\n",
      "Epoch 11/18\n",
      "2/2 [==============================] - 0s 6ms/step - loss: 0.1535 - accuracy: 0.6562\n",
      "Epoch 12/18\n",
      "2/2 [==============================] - 0s 7ms/step - loss: 0.1246 - accuracy: 0.6667\n",
      "Epoch 13/18\n",
      "2/2 [==============================] - 0s 7ms/step - loss: 0.0473 - accuracy: 0.6562\n",
      "Epoch 14/18\n",
      "2/2 [==============================] - 0s 7ms/step - loss: 0.1095 - accuracy: 0.6771\n",
      "Epoch 15/18\n",
      "2/2 [==============================] - 0s 12ms/step - loss: 0.0212 - accuracy: 0.6875\n",
      "Epoch 16/18\n",
      "2/2 [==============================] - 0s 6ms/step - loss: -0.0011 - accuracy: 0.6354\n",
      "Epoch 17/18\n",
      "2/2 [==============================] - 0s 6ms/step - loss: -0.0120 - accuracy: 0.6667\n",
      "Epoch 18/18\n",
      "2/2 [==============================] - 0s 7ms/step - loss: -0.1284 - accuracy: 0.6458\n",
      "1/1 [==============================] - 0s 179ms/step - loss: 0.1019 - accuracy: 0.6875\n"
     ]
    },
    {
     "name": "stderr",
     "output_type": "stream",
     "text": [
      "2022-02-12 13:42:19.481769: I tensorflow/core/grappler/optimizers/custom_graph_optimizer_registry.cc:112] Plugin optimizer for device_type GPU is enabled.\n"
     ]
    },
    {
     "name": "stdout",
     "output_type": "stream",
     "text": [
      "Epoch 1/18\n",
      "2/2 [==============================] - 0s 11ms/step - loss: 0.2984 - accuracy: 0.5000\n",
      "Epoch 2/18\n",
      "2/2 [==============================] - 0s 6ms/step - loss: 0.1629 - accuracy: 0.5417\n",
      "Epoch 3/18\n",
      "2/2 [==============================] - 0s 11ms/step - loss: 0.0558 - accuracy: 0.5312\n",
      "Epoch 4/18\n",
      "2/2 [==============================] - 0s 6ms/step - loss: 0.0163 - accuracy: 0.5208\n"
     ]
    },
    {
     "name": "stderr",
     "output_type": "stream",
     "text": [
      "2022-02-12 13:42:19.906239: I tensorflow/core/grappler/optimizers/custom_graph_optimizer_registry.cc:112] Plugin optimizer for device_type GPU is enabled.\n"
     ]
    },
    {
     "name": "stdout",
     "output_type": "stream",
     "text": [
      "Epoch 5/18\n",
      "2/2 [==============================] - 0s 7ms/step - loss: 0.0169 - accuracy: 0.5417\n",
      "Epoch 6/18\n",
      "2/2 [==============================] - 0s 15ms/step - loss: -0.0845 - accuracy: 0.5208\n",
      "Epoch 7/18\n",
      "2/2 [==============================] - 0s 7ms/step - loss: -0.2057 - accuracy: 0.5312\n",
      "Epoch 8/18\n",
      "2/2 [==============================] - 0s 7ms/step - loss: -0.2071 - accuracy: 0.5312\n",
      "Epoch 9/18\n",
      "2/2 [==============================] - 0s 6ms/step - loss: -0.2933 - accuracy: 0.5521\n",
      "Epoch 10/18\n",
      "2/2 [==============================] - 0s 7ms/step - loss: -0.3534 - accuracy: 0.5208\n",
      "Epoch 11/18\n",
      "2/2 [==============================] - 0s 6ms/step - loss: -0.3451 - accuracy: 0.5521\n",
      "Epoch 12/18\n",
      "2/2 [==============================] - 0s 6ms/step - loss: -0.3969 - accuracy: 0.5729\n",
      "Epoch 13/18\n",
      "2/2 [==============================] - 0s 7ms/step - loss: -0.5079 - accuracy: 0.5833\n",
      "Epoch 14/18\n",
      "2/2 [==============================] - 0s 7ms/step - loss: -0.4624 - accuracy: 0.5938\n",
      "Epoch 15/18\n",
      "2/2 [==============================] - 0s 7ms/step - loss: -0.5986 - accuracy: 0.5729\n",
      "Epoch 16/18\n",
      "2/2 [==============================] - 0s 7ms/step - loss: -0.6544 - accuracy: 0.6042\n",
      "Epoch 17/18\n",
      "2/2 [==============================] - 0s 7ms/step - loss: -0.7031 - accuracy: 0.6250\n",
      "Epoch 18/18\n",
      "2/2 [==============================] - 0s 6ms/step - loss: -0.7832 - accuracy: 0.5938\n",
      "1/1 [==============================] - 0s 180ms/step - loss: -0.8417 - accuracy: 0.5000\n"
     ]
    },
    {
     "name": "stderr",
     "output_type": "stream",
     "text": [
      "2022-02-12 13:42:20.471250: I tensorflow/core/grappler/optimizers/custom_graph_optimizer_registry.cc:112] Plugin optimizer for device_type GPU is enabled.\n"
     ]
    },
    {
     "name": "stdout",
     "output_type": "stream",
     "text": [
      "Epoch 1/18\n",
      "2/2 [==============================] - 0s 11ms/step - loss: 0.6552 - accuracy: 0.3854\n",
      "Epoch 2/18\n",
      "2/2 [==============================] - 0s 6ms/step - loss: 0.5667 - accuracy: 0.4167\n",
      "Epoch 3/18\n",
      "2/2 [==============================] - 0s 6ms/step - loss: 0.4581 - accuracy: 0.4375\n",
      "Epoch 4/18\n",
      "2/2 [==============================] - 0s 15ms/step - loss: 0.4139 - accuracy: 0.5104\n",
      "Epoch 5/18\n",
      "2/2 [==============================] - 0s 7ms/step - loss: 0.3406 - accuracy: 0.5000\n"
     ]
    },
    {
     "name": "stderr",
     "output_type": "stream",
     "text": [
      "2022-02-12 13:42:20.901753: I tensorflow/core/grappler/optimizers/custom_graph_optimizer_registry.cc:112] Plugin optimizer for device_type GPU is enabled.\n"
     ]
    },
    {
     "name": "stdout",
     "output_type": "stream",
     "text": [
      "Epoch 6/18\n",
      "2/2 [==============================] - 0s 6ms/step - loss: 0.2847 - accuracy: 0.6146\n",
      "Epoch 7/18\n",
      "2/2 [==============================] - 0s 7ms/step - loss: 0.2687 - accuracy: 0.6146\n",
      "Epoch 8/18\n",
      "2/2 [==============================] - 0s 12ms/step - loss: 0.1763 - accuracy: 0.6146\n",
      "Epoch 9/18\n",
      "2/2 [==============================] - 0s 7ms/step - loss: 0.0896 - accuracy: 0.6146\n",
      "Epoch 10/18\n",
      "2/2 [==============================] - 0s 7ms/step - loss: 0.0623 - accuracy: 0.6354\n",
      "Epoch 11/18\n",
      "2/2 [==============================] - 0s 7ms/step - loss: 0.1394 - accuracy: 0.6667\n",
      "Epoch 12/18\n",
      "2/2 [==============================] - 0s 12ms/step - loss: 0.0408 - accuracy: 0.6354\n",
      "Epoch 13/18\n",
      "2/2 [==============================] - 0s 7ms/step - loss: 0.0233 - accuracy: 0.6354\n",
      "Epoch 14/18\n",
      "2/2 [==============================] - 0s 7ms/step - loss: -0.0678 - accuracy: 0.6250\n",
      "Epoch 15/18\n",
      "2/2 [==============================] - 0s 7ms/step - loss: -0.1236 - accuracy: 0.6458\n",
      "Epoch 16/18\n",
      "2/2 [==============================] - 0s 7ms/step - loss: -0.1161 - accuracy: 0.6354\n",
      "Epoch 17/18\n",
      "2/2 [==============================] - 0s 7ms/step - loss: -0.0534 - accuracy: 0.6979\n",
      "Epoch 18/18\n",
      "2/2 [==============================] - 0s 7ms/step - loss: -0.2280 - accuracy: 0.6354\n",
      "1/1 [==============================] - 0s 175ms/step - loss: -1.2809 - accuracy: 0.6250\n"
     ]
    },
    {
     "name": "stderr",
     "output_type": "stream",
     "text": [
      "2022-02-12 13:42:21.435791: I tensorflow/core/grappler/optimizers/custom_graph_optimizer_registry.cc:112] Plugin optimizer for device_type GPU is enabled.\n"
     ]
    },
    {
     "name": "stdout",
     "output_type": "stream",
     "text": [
      "Epoch 1/18\n",
      "2/2 [==============================] - 1s 11ms/step - loss: 1.4994 - accuracy: 0.2500\n",
      "Epoch 2/18\n",
      "1/2 [==============>...............] - ETA: 0s - loss: 1.2689 - accuracy: 0.2812"
     ]
    },
    {
     "name": "stderr",
     "output_type": "stream",
     "text": [
      "2022-02-12 13:42:21.897011: I tensorflow/core/grappler/optimizers/custom_graph_optimizer_registry.cc:112] Plugin optimizer for device_type GPU is enabled.\n"
     ]
    },
    {
     "name": "stdout",
     "output_type": "stream",
     "text": [
      "2/2 [==============================] - 0s 12ms/step - loss: 1.2853 - accuracy: 0.2500\n",
      "Epoch 3/18\n",
      "2/2 [==============================] - 0s 10ms/step - loss: 1.2218 - accuracy: 0.2396\n",
      "Epoch 4/18\n",
      "2/2 [==============================] - 0s 6ms/step - loss: 1.1403 - accuracy: 0.2188\n",
      "Epoch 5/18\n",
      "2/2 [==============================] - 0s 12ms/step - loss: 1.0459 - accuracy: 0.2708\n",
      "Epoch 6/18\n",
      "2/2 [==============================] - 0s 7ms/step - loss: 1.0416 - accuracy: 0.2708\n",
      "Epoch 7/18\n",
      "2/2 [==============================] - 0s 7ms/step - loss: 1.0185 - accuracy: 0.2812\n",
      "Epoch 8/18\n",
      "2/2 [==============================] - 0s 7ms/step - loss: 0.9435 - accuracy: 0.2708\n",
      "Epoch 9/18\n",
      "2/2 [==============================] - 0s 7ms/step - loss: 0.9432 - accuracy: 0.2812\n",
      "Epoch 10/18\n",
      "2/2 [==============================] - 0s 7ms/step - loss: 0.8875 - accuracy: 0.3438\n",
      "Epoch 11/18\n",
      "2/2 [==============================] - 0s 6ms/step - loss: 0.8386 - accuracy: 0.3542\n",
      "Epoch 12/18\n",
      "2/2 [==============================] - 0s 7ms/step - loss: 0.7952 - accuracy: 0.3958\n",
      "Epoch 13/18\n",
      "2/2 [==============================] - 0s 7ms/step - loss: 0.7681 - accuracy: 0.3958\n",
      "Epoch 14/18\n",
      "2/2 [==============================] - 0s 6ms/step - loss: 0.7538 - accuracy: 0.3958\n",
      "Epoch 15/18\n",
      "2/2 [==============================] - 0s 6ms/step - loss: 0.7219 - accuracy: 0.5208\n",
      "Epoch 16/18\n",
      "2/2 [==============================] - 0s 7ms/step - loss: 0.6655 - accuracy: 0.5938\n",
      "Epoch 17/18\n",
      "2/2 [==============================] - 0s 7ms/step - loss: 0.6517 - accuracy: 0.6354\n",
      "Epoch 18/18\n",
      "2/2 [==============================] - 0s 6ms/step - loss: 0.6175 - accuracy: 0.6250\n",
      "1/1 [==============================] - 0s 194ms/step - loss: 0.6366 - accuracy: 0.7500\n"
     ]
    },
    {
     "name": "stderr",
     "output_type": "stream",
     "text": [
      "2022-02-12 13:42:22.486126: I tensorflow/core/grappler/optimizers/custom_graph_optimizer_registry.cc:112] Plugin optimizer for device_type GPU is enabled.\n"
     ]
    },
    {
     "name": "stdout",
     "output_type": "stream",
     "text": [
      "Epoch 1/18\n",
      "2/2 [==============================] - 0s 6ms/step - loss: 0.5027 - accuracy: 0.4062\n",
      "Epoch 2/18\n",
      "2/2 [==============================] - 0s 6ms/step - loss: 0.3936 - accuracy: 0.4062\n",
      "Epoch 3/18\n",
      "2/2 [==============================] - 0s 5ms/step - loss: 0.3714 - accuracy: 0.4062\n",
      "Epoch 4/18\n",
      "2/2 [==============================] - 0s 5ms/step - loss: 0.3275 - accuracy: 0.4271\n",
      "Epoch 5/18\n",
      "2/2 [==============================] - 0s 11ms/step - loss: 0.2173 - accuracy: 0.3854\n",
      "Epoch 6/18\n",
      "1/2 [==============>...............] - ETA: 0s - loss: 0.2040 - accuracy: 0.3438"
     ]
    },
    {
     "name": "stderr",
     "output_type": "stream",
     "text": [
      "2022-02-12 13:42:22.908243: I tensorflow/core/grappler/optimizers/custom_graph_optimizer_registry.cc:112] Plugin optimizer for device_type GPU is enabled.\n"
     ]
    },
    {
     "name": "stdout",
     "output_type": "stream",
     "text": [
      "2/2 [==============================] - 0s 11ms/step - loss: 0.1773 - accuracy: 0.3854\n",
      "Epoch 7/18\n",
      "2/2 [==============================] - 0s 10ms/step - loss: 0.1121 - accuracy: 0.4167\n",
      "Epoch 8/18\n",
      "2/2 [==============================] - 0s 31ms/step - loss: 0.1105 - accuracy: 0.4062\n",
      "Epoch 9/18\n",
      "2/2 [==============================] - 0s 16ms/step - loss: -0.0211 - accuracy: 0.3646\n",
      "Epoch 10/18\n",
      "2/2 [==============================] - 0s 6ms/step - loss: -0.0033 - accuracy: 0.4062\n",
      "Epoch 11/18\n",
      "2/2 [==============================] - 0s 11ms/step - loss: 0.0299 - accuracy: 0.4688\n",
      "Epoch 12/18\n",
      "2/2 [==============================] - 0s 6ms/step - loss: -0.1341 - accuracy: 0.4062\n",
      "Epoch 13/18\n",
      "2/2 [==============================] - 0s 7ms/step - loss: -0.1327 - accuracy: 0.4479\n",
      "Epoch 14/18\n",
      "2/2 [==============================] - 0s 7ms/step - loss: -0.3110 - accuracy: 0.4583\n",
      "Epoch 15/18\n",
      "2/2 [==============================] - 0s 6ms/step - loss: -0.2098 - accuracy: 0.5312\n",
      "Epoch 16/18\n",
      "2/2 [==============================] - 0s 7ms/step - loss: -0.3647 - accuracy: 0.5521\n",
      "Epoch 17/18\n",
      "2/2 [==============================] - 0s 7ms/step - loss: -0.3921 - accuracy: 0.5938\n",
      "Epoch 18/18\n",
      "2/2 [==============================] - 0s 7ms/step - loss: -0.4311 - accuracy: 0.5521\n",
      "1/1 [==============================] - 0s 233ms/step - loss: -0.4703 - accuracy: 0.6875\n"
     ]
    },
    {
     "name": "stderr",
     "output_type": "stream",
     "text": [
      "2022-02-12 13:42:23.488115: I tensorflow/core/grappler/optimizers/custom_graph_optimizer_registry.cc:112] Plugin optimizer for device_type GPU is enabled.\n"
     ]
    },
    {
     "name": "stdout",
     "output_type": "stream",
     "text": [
      "Epoch 1/24\n",
      "2/2 [==============================] - 1s 6ms/step - loss: 0.9390 - accuracy: 0.2396\n",
      "Epoch 2/24\n",
      "2/2 [==============================] - 0s 6ms/step - loss: 0.8619 - accuracy: 0.3646\n",
      "Epoch 3/24\n",
      "2/2 [==============================] - 0s 6ms/step - loss: 0.7582 - accuracy: 0.4375\n",
      "Epoch 4/24\n",
      "2/2 [==============================] - 0s 6ms/step - loss: 0.7118 - accuracy: 0.4479\n",
      "Epoch 5/24\n",
      "1/2 [==============>...............] - ETA: 0s - loss: 0.6918 - accuracy: 0.4375"
     ]
    },
    {
     "name": "stderr",
     "output_type": "stream",
     "text": [
      "2022-02-12 13:42:23.995038: I tensorflow/core/grappler/optimizers/custom_graph_optimizer_registry.cc:112] Plugin optimizer for device_type GPU is enabled.\n"
     ]
    },
    {
     "name": "stdout",
     "output_type": "stream",
     "text": [
      "2/2 [==============================] - 0s 7ms/step - loss: 0.6601 - accuracy: 0.5000\n",
      "Epoch 6/24\n",
      "2/2 [==============================] - 0s 6ms/step - loss: 0.5920 - accuracy: 0.5312\n",
      "Epoch 7/24\n",
      "2/2 [==============================] - 0s 11ms/step - loss: 0.5359 - accuracy: 0.5729\n",
      "Epoch 8/24\n",
      "2/2 [==============================] - 0s 6ms/step - loss: 0.5458 - accuracy: 0.6458\n",
      "Epoch 9/24\n",
      "2/2 [==============================] - 0s 11ms/step - loss: 0.4872 - accuracy: 0.6562\n",
      "Epoch 10/24\n",
      "2/2 [==============================] - 0s 17ms/step - loss: 0.4422 - accuracy: 0.6771\n",
      "Epoch 11/24\n",
      "2/2 [==============================] - 0s 7ms/step - loss: 0.3759 - accuracy: 0.6354\n",
      "Epoch 12/24\n",
      "2/2 [==============================] - 0s 7ms/step - loss: 0.3529 - accuracy: 0.6458\n",
      "Epoch 13/24\n",
      "2/2 [==============================] - 0s 8ms/step - loss: 0.3376 - accuracy: 0.6667\n",
      "Epoch 14/24\n",
      "2/2 [==============================] - 0s 7ms/step - loss: 0.3087 - accuracy: 0.6667\n",
      "Epoch 15/24\n",
      "2/2 [==============================] - 0s 8ms/step - loss: 0.2628 - accuracy: 0.6875\n",
      "Epoch 16/24\n",
      "2/2 [==============================] - 0s 9ms/step - loss: 0.2625 - accuracy: 0.6979\n",
      "Epoch 17/24\n",
      "2/2 [==============================] - 0s 8ms/step - loss: 0.1318 - accuracy: 0.6667\n",
      "Epoch 18/24\n",
      "2/2 [==============================] - 0s 9ms/step - loss: 0.1388 - accuracy: 0.6667\n",
      "Epoch 19/24\n",
      "2/2 [==============================] - 0s 7ms/step - loss: 0.1645 - accuracy: 0.7188\n",
      "Epoch 20/24\n",
      "2/2 [==============================] - 0s 7ms/step - loss: 0.0536 - accuracy: 0.6875\n",
      "Epoch 21/24\n",
      "2/2 [==============================] - 0s 7ms/step - loss: 0.0874 - accuracy: 0.7292\n",
      "Epoch 22/24\n",
      "2/2 [==============================] - 0s 7ms/step - loss: 0.0329 - accuracy: 0.6875\n",
      "Epoch 23/24\n",
      "2/2 [==============================] - 0s 7ms/step - loss: -0.0269 - accuracy: 0.7188\n",
      "Epoch 24/24\n",
      "2/2 [==============================] - 0s 7ms/step - loss: 0.0137 - accuracy: 0.6979\n",
      "1/1 [==============================] - 0s 195ms/step - loss: 0.0979 - accuracy: 0.6250\n"
     ]
    },
    {
     "name": "stderr",
     "output_type": "stream",
     "text": [
      "2022-02-12 13:42:24.659862: I tensorflow/core/grappler/optimizers/custom_graph_optimizer_registry.cc:112] Plugin optimizer for device_type GPU is enabled.\n"
     ]
    },
    {
     "name": "stdout",
     "output_type": "stream",
     "text": [
      "Epoch 1/24\n",
      "2/2 [==============================] - 0s 11ms/step - loss: 0.5427 - accuracy: 0.3438\n",
      "Epoch 2/24\n",
      "2/2 [==============================] - 0s 12ms/step - loss: 0.4547 - accuracy: 0.3333\n",
      "Epoch 3/24\n",
      "2/2 [==============================] - 0s 11ms/step - loss: 0.4024 - accuracy: 0.4167\n",
      "Epoch 4/24\n",
      "1/2 [==============>...............] - ETA: 0s - loss: 0.3883 - accuracy: 0.4062"
     ]
    },
    {
     "name": "stderr",
     "output_type": "stream",
     "text": [
      "2022-02-12 13:42:25.106954: I tensorflow/core/grappler/optimizers/custom_graph_optimizer_registry.cc:112] Plugin optimizer for device_type GPU is enabled.\n"
     ]
    },
    {
     "name": "stdout",
     "output_type": "stream",
     "text": [
      "2/2 [==============================] - 0s 16ms/step - loss: 0.3807 - accuracy: 0.4583\n",
      "Epoch 5/24\n",
      "2/2 [==============================] - 0s 7ms/step - loss: 0.3702 - accuracy: 0.5312\n",
      "Epoch 6/24\n",
      "2/2 [==============================] - 0s 6ms/step - loss: 0.2896 - accuracy: 0.6042\n",
      "Epoch 7/24\n",
      "2/2 [==============================] - 0s 7ms/step - loss: 0.2641 - accuracy: 0.6146\n",
      "Epoch 8/24\n",
      "2/2 [==============================] - 0s 7ms/step - loss: 0.2110 - accuracy: 0.6146\n",
      "Epoch 9/24\n",
      "2/2 [==============================] - 0s 6ms/step - loss: 0.2086 - accuracy: 0.6354\n",
      "Epoch 10/24\n",
      "2/2 [==============================] - 0s 7ms/step - loss: 0.1760 - accuracy: 0.6146\n",
      "Epoch 11/24\n",
      "2/2 [==============================] - 0s 7ms/step - loss: 0.1974 - accuracy: 0.6771\n",
      "Epoch 12/24\n",
      "2/2 [==============================] - 0s 6ms/step - loss: 0.1128 - accuracy: 0.6562\n",
      "Epoch 13/24\n",
      "2/2 [==============================] - 0s 7ms/step - loss: 0.0803 - accuracy: 0.6458\n",
      "Epoch 14/24\n",
      "2/2 [==============================] - 0s 7ms/step - loss: 0.1092 - accuracy: 0.7188\n",
      "Epoch 15/24\n",
      "2/2 [==============================] - 0s 6ms/step - loss: 0.0569 - accuracy: 0.6771\n",
      "Epoch 16/24\n",
      "2/2 [==============================] - 0s 7ms/step - loss: -0.0362 - accuracy: 0.6771\n",
      "Epoch 17/24\n",
      "2/2 [==============================] - 0s 6ms/step - loss: -0.0377 - accuracy: 0.6979\n",
      "Epoch 18/24\n",
      "2/2 [==============================] - 0s 7ms/step - loss: -0.0969 - accuracy: 0.6562\n",
      "Epoch 19/24\n",
      "2/2 [==============================] - 0s 6ms/step - loss: -0.0836 - accuracy: 0.6875\n",
      "Epoch 20/24\n",
      "2/2 [==============================] - 0s 7ms/step - loss: -0.1456 - accuracy: 0.6875\n",
      "Epoch 21/24\n",
      "2/2 [==============================] - 0s 6ms/step - loss: -0.1373 - accuracy: 0.6979\n",
      "Epoch 22/24\n",
      "2/2 [==============================] - 0s 6ms/step - loss: -0.1596 - accuracy: 0.6875\n",
      "Epoch 23/24\n",
      "2/2 [==============================] - 0s 8ms/step - loss: -0.2682 - accuracy: 0.6771\n",
      "Epoch 24/24\n",
      "2/2 [==============================] - 0s 7ms/step - loss: -0.2095 - accuracy: 0.7083\n",
      "1/1 [==============================] - 0s 214ms/step - loss: -0.2388 - accuracy: 0.5000\n"
     ]
    },
    {
     "name": "stderr",
     "output_type": "stream",
     "text": [
      "2022-02-12 13:42:25.766621: I tensorflow/core/grappler/optimizers/custom_graph_optimizer_registry.cc:112] Plugin optimizer for device_type GPU is enabled.\n"
     ]
    },
    {
     "name": "stdout",
     "output_type": "stream",
     "text": [
      "Epoch 1/24\n",
      "2/2 [==============================] - 0s 15ms/step - loss: 0.8309 - accuracy: 0.3750\n",
      "Epoch 2/24\n",
      "2/2 [==============================] - 0s 6ms/step - loss: 0.7384 - accuracy: 0.4688\n",
      "Epoch 3/24\n",
      "2/2 [==============================] - 0s 10ms/step - loss: 0.6910 - accuracy: 0.4375\n",
      "Epoch 4/24\n",
      "2/2 [==============================] - 0s 7ms/step - loss: 0.6501 - accuracy: 0.4688\n"
     ]
    },
    {
     "name": "stderr",
     "output_type": "stream",
     "text": [
      "2022-02-12 13:42:26.228262: I tensorflow/core/grappler/optimizers/custom_graph_optimizer_registry.cc:112] Plugin optimizer for device_type GPU is enabled.\n"
     ]
    },
    {
     "name": "stdout",
     "output_type": "stream",
     "text": [
      "Epoch 5/24\n",
      "2/2 [==============================] - 0s 12ms/step - loss: 0.5776 - accuracy: 0.4688\n",
      "Epoch 6/24\n",
      "2/2 [==============================] - 0s 15ms/step - loss: 0.5485 - accuracy: 0.4688\n",
      "Epoch 7/24\n",
      "2/2 [==============================] - 0s 7ms/step - loss: 0.5122 - accuracy: 0.4792\n",
      "Epoch 8/24\n",
      "2/2 [==============================] - 0s 7ms/step - loss: 0.4953 - accuracy: 0.4792\n",
      "Epoch 9/24\n",
      "2/2 [==============================] - 0s 7ms/step - loss: 0.4349 - accuracy: 0.5208\n",
      "Epoch 10/24\n",
      "2/2 [==============================] - 0s 16ms/step - loss: 0.3872 - accuracy: 0.5208\n",
      "Epoch 11/24\n",
      "2/2 [==============================] - 0s 7ms/step - loss: 0.3581 - accuracy: 0.4896\n",
      "Epoch 12/24\n",
      "2/2 [==============================] - 0s 7ms/step - loss: 0.3567 - accuracy: 0.6042\n",
      "Epoch 13/24\n",
      "2/2 [==============================] - 0s 7ms/step - loss: 0.3151 - accuracy: 0.5833\n",
      "Epoch 14/24\n",
      "2/2 [==============================] - 0s 7ms/step - loss: 0.2654 - accuracy: 0.6146\n",
      "Epoch 15/24\n",
      "2/2 [==============================] - 0s 7ms/step - loss: 0.2122 - accuracy: 0.6042\n",
      "Epoch 16/24\n",
      "2/2 [==============================] - 0s 7ms/step - loss: 0.1624 - accuracy: 0.5938\n",
      "Epoch 17/24\n",
      "2/2 [==============================] - 0s 7ms/step - loss: 0.1661 - accuracy: 0.6458\n",
      "Epoch 18/24\n",
      "2/2 [==============================] - 0s 7ms/step - loss: 0.1263 - accuracy: 0.6354\n",
      "Epoch 19/24\n",
      "2/2 [==============================] - 0s 7ms/step - loss: 0.1512 - accuracy: 0.6667\n",
      "Epoch 20/24\n",
      "2/2 [==============================] - 0s 7ms/step - loss: 0.0686 - accuracy: 0.6875\n",
      "Epoch 21/24\n",
      "2/2 [==============================] - 0s 6ms/step - loss: 0.0344 - accuracy: 0.6458\n",
      "Epoch 22/24\n",
      "2/2 [==============================] - 0s 6ms/step - loss: -0.0640 - accuracy: 0.6250\n",
      "Epoch 23/24\n",
      "2/2 [==============================] - 0s 6ms/step - loss: -0.0612 - accuracy: 0.6562\n",
      "Epoch 24/24\n",
      "2/2 [==============================] - 0s 7ms/step - loss: -0.1171 - accuracy: 0.6667\n",
      "1/1 [==============================] - 0s 190ms/step - loss: -0.7508 - accuracy: 0.6250\n"
     ]
    },
    {
     "name": "stderr",
     "output_type": "stream",
     "text": [
      "2022-02-12 13:42:26.899204: I tensorflow/core/grappler/optimizers/custom_graph_optimizer_registry.cc:112] Plugin optimizer for device_type GPU is enabled.\n"
     ]
    },
    {
     "name": "stdout",
     "output_type": "stream",
     "text": [
      "Epoch 1/24\n",
      "2/2 [==============================] - 1s 16ms/step - loss: 0.8800 - accuracy: 0.2292\n",
      "Epoch 2/24\n",
      "2/2 [==============================] - 0s 6ms/step - loss: 0.7547 - accuracy: 0.3333\n",
      "Epoch 3/24\n",
      "2/2 [==============================] - 0s 6ms/step - loss: 0.7016 - accuracy: 0.3333\n",
      "Epoch 4/24\n",
      "2/2 [==============================] - 0s 6ms/step - loss: 0.6395 - accuracy: 0.5417\n"
     ]
    },
    {
     "name": "stderr",
     "output_type": "stream",
     "text": [
      "2022-02-12 13:42:27.335453: I tensorflow/core/grappler/optimizers/custom_graph_optimizer_registry.cc:112] Plugin optimizer for device_type GPU is enabled.\n"
     ]
    },
    {
     "name": "stdout",
     "output_type": "stream",
     "text": [
      "Epoch 5/24\n",
      "2/2 [==============================] - 0s 7ms/step - loss: 0.5904 - accuracy: 0.5833\n",
      "Epoch 6/24\n",
      "2/2 [==============================] - 0s 6ms/step - loss: 0.5634 - accuracy: 0.5833\n",
      "Epoch 7/24\n",
      "2/2 [==============================] - 0s 7ms/step - loss: 0.4917 - accuracy: 0.5833\n",
      "Epoch 8/24\n",
      "2/2 [==============================] - 0s 6ms/step - loss: 0.4686 - accuracy: 0.5833\n",
      "Epoch 9/24\n",
      "2/2 [==============================] - 0s 7ms/step - loss: 0.4098 - accuracy: 0.6042\n",
      "Epoch 10/24\n",
      "2/2 [==============================] - 0s 10ms/step - loss: 0.3691 - accuracy: 0.6042\n",
      "Epoch 11/24\n",
      "2/2 [==============================] - 0s 7ms/step - loss: 0.3380 - accuracy: 0.6354\n",
      "Epoch 12/24\n",
      "2/2 [==============================] - 0s 7ms/step - loss: 0.2622 - accuracy: 0.6250\n",
      "Epoch 13/24\n",
      "2/2 [==============================] - 0s 7ms/step - loss: 0.2388 - accuracy: 0.6562\n",
      "Epoch 14/24\n",
      "2/2 [==============================] - 0s 7ms/step - loss: 0.2246 - accuracy: 0.6562\n",
      "Epoch 15/24\n",
      "2/2 [==============================] - 0s 7ms/step - loss: 0.1186 - accuracy: 0.6146\n",
      "Epoch 16/24\n",
      "2/2 [==============================] - 0s 7ms/step - loss: 0.0937 - accuracy: 0.6354\n",
      "Epoch 17/24\n",
      "2/2 [==============================] - 0s 7ms/step - loss: 0.0688 - accuracy: 0.6354\n",
      "Epoch 18/24\n",
      "2/2 [==============================] - 0s 7ms/step - loss: 0.0377 - accuracy: 0.6458\n",
      "Epoch 19/24\n",
      "2/2 [==============================] - 0s 7ms/step - loss: 0.0096 - accuracy: 0.6562\n",
      "Epoch 20/24\n",
      "2/2 [==============================] - 0s 7ms/step - loss: -0.0451 - accuracy: 0.6146\n",
      "Epoch 21/24\n",
      "2/2 [==============================] - 0s 7ms/step - loss: -0.0699 - accuracy: 0.6458\n",
      "Epoch 22/24\n",
      "2/2 [==============================] - 0s 6ms/step - loss: -0.1696 - accuracy: 0.6354\n",
      "Epoch 23/24\n",
      "2/2 [==============================] - 0s 6ms/step - loss: -0.1325 - accuracy: 0.6458\n",
      "Epoch 24/24\n",
      "2/2 [==============================] - 0s 8ms/step - loss: -0.1837 - accuracy: 0.6354\n",
      "1/1 [==============================] - 0s 197ms/step - loss: 0.0790 - accuracy: 0.8125\n"
     ]
    },
    {
     "name": "stderr",
     "output_type": "stream",
     "text": [
      "2022-02-12 13:42:27.989304: I tensorflow/core/grappler/optimizers/custom_graph_optimizer_registry.cc:112] Plugin optimizer for device_type GPU is enabled.\n"
     ]
    },
    {
     "name": "stdout",
     "output_type": "stream",
     "text": [
      "Epoch 1/24\n",
      "2/2 [==============================] - 1s 11ms/step - loss: 0.4552 - accuracy: 0.4167\n",
      "Epoch 2/24\n",
      "2/2 [==============================] - 0s 11ms/step - loss: 0.4187 - accuracy: 0.3958\n"
     ]
    },
    {
     "name": "stderr",
     "output_type": "stream",
     "text": [
      "2022-02-12 13:42:28.431904: I tensorflow/core/grappler/optimizers/custom_graph_optimizer_registry.cc:112] Plugin optimizer for device_type GPU is enabled.\n"
     ]
    },
    {
     "name": "stdout",
     "output_type": "stream",
     "text": [
      "Epoch 3/24\n",
      "2/2 [==============================] - 0s 10ms/step - loss: 0.3448 - accuracy: 0.3958\n",
      "Epoch 4/24\n",
      "2/2 [==============================] - 0s 7ms/step - loss: 0.2238 - accuracy: 0.4271\n",
      "Epoch 5/24\n",
      "2/2 [==============================] - 0s 6ms/step - loss: 0.2151 - accuracy: 0.4167\n",
      "Epoch 6/24\n",
      "2/2 [==============================] - 0s 7ms/step - loss: 0.2049 - accuracy: 0.4167\n",
      "Epoch 7/24\n",
      "2/2 [==============================] - 0s 7ms/step - loss: 0.1197 - accuracy: 0.3958\n",
      "Epoch 8/24\n",
      "2/2 [==============================] - 0s 11ms/step - loss: 0.1286 - accuracy: 0.4167\n",
      "Epoch 9/24\n",
      "2/2 [==============================] - 0s 7ms/step - loss: 0.0750 - accuracy: 0.4167\n",
      "Epoch 10/24\n",
      "2/2 [==============================] - 0s 6ms/step - loss: 0.0247 - accuracy: 0.3958\n",
      "Epoch 11/24\n",
      "2/2 [==============================] - 0s 7ms/step - loss: -0.0230 - accuracy: 0.4479\n",
      "Epoch 12/24\n",
      "2/2 [==============================] - 0s 7ms/step - loss: 0.0195 - accuracy: 0.5000\n",
      "Epoch 13/24\n",
      "2/2 [==============================] - 0s 7ms/step - loss: -0.0675 - accuracy: 0.4479\n",
      "Epoch 14/24\n",
      "2/2 [==============================] - 0s 7ms/step - loss: -0.1351 - accuracy: 0.5000\n",
      "Epoch 15/24\n",
      "2/2 [==============================] - 0s 6ms/step - loss: -0.1053 - accuracy: 0.5312\n",
      "Epoch 16/24\n",
      "2/2 [==============================] - 0s 6ms/step - loss: -0.2099 - accuracy: 0.5312\n",
      "Epoch 17/24\n",
      "2/2 [==============================] - 0s 6ms/step - loss: -0.2789 - accuracy: 0.5521\n",
      "Epoch 18/24\n",
      "2/2 [==============================] - 0s 6ms/step - loss: -0.1617 - accuracy: 0.5729\n",
      "Epoch 19/24\n",
      "2/2 [==============================] - 0s 7ms/step - loss: -0.4281 - accuracy: 0.5000\n",
      "Epoch 20/24\n",
      "2/2 [==============================] - 0s 7ms/step - loss: -0.3250 - accuracy: 0.6042\n",
      "Epoch 21/24\n",
      "2/2 [==============================] - 0s 6ms/step - loss: -0.3717 - accuracy: 0.6042\n",
      "Epoch 22/24\n",
      "2/2 [==============================] - 0s 7ms/step - loss: -0.4007 - accuracy: 0.6042\n",
      "Epoch 23/24\n",
      "2/2 [==============================] - 0s 10ms/step - loss: -0.6104 - accuracy: 0.5417\n",
      "Epoch 24/24\n",
      "2/2 [==============================] - 0s 7ms/step - loss: -0.4472 - accuracy: 0.5938\n",
      "1/1 [==============================] - 0s 184ms/step - loss: -0.6029 - accuracy: 0.6250\n"
     ]
    },
    {
     "name": "stderr",
     "output_type": "stream",
     "text": [
      "2022-02-12 13:42:29.109887: I tensorflow/core/grappler/optimizers/custom_graph_optimizer_registry.cc:112] Plugin optimizer for device_type GPU is enabled.\n"
     ]
    },
    {
     "name": "stdout",
     "output_type": "stream",
     "text": [
      "Epoch 1/6\n",
      "2/2 [==============================] - 1s 11ms/step - loss: 0.3662 - accuracy: 0.5625\n",
      "Epoch 2/6\n",
      "2/2 [==============================] - 0s 14ms/step - loss: 0.2499 - accuracy: 0.5729\n"
     ]
    },
    {
     "name": "stderr",
     "output_type": "stream",
     "text": [
      "2022-02-12 13:42:30.055912: I tensorflow/core/grappler/optimizers/custom_graph_optimizer_registry.cc:112] Plugin optimizer for device_type GPU is enabled.\n"
     ]
    },
    {
     "name": "stdout",
     "output_type": "stream",
     "text": [
      "Epoch 3/6\n",
      "2/2 [==============================] - 0s 10ms/step - loss: 0.1361 - accuracy: 0.5417\n",
      "Epoch 4/6\n",
      "2/2 [==============================] - 0s 6ms/step - loss: 0.1123 - accuracy: 0.5417\n",
      "Epoch 5/6\n",
      "2/2 [==============================] - 0s 10ms/step - loss: 0.0890 - accuracy: 0.6042\n",
      "Epoch 6/6\n",
      "2/2 [==============================] - 0s 7ms/step - loss: 0.0437 - accuracy: 0.5625\n",
      "1/1 [==============================] - 0s 175ms/step - loss: 0.1518 - accuracy: 0.4375\n"
     ]
    },
    {
     "name": "stderr",
     "output_type": "stream",
     "text": [
      "2022-02-12 13:42:30.450712: I tensorflow/core/grappler/optimizers/custom_graph_optimizer_registry.cc:112] Plugin optimizer for device_type GPU is enabled.\n"
     ]
    },
    {
     "name": "stdout",
     "output_type": "stream",
     "text": [
      "Epoch 1/6\n",
      "2/2 [==============================] - 0s 9ms/step - loss: 0.4449 - accuracy: 0.4896\n",
      "Epoch 2/6\n",
      "2/2 [==============================] - 0s 11ms/step - loss: 0.3906 - accuracy: 0.4583\n",
      "Epoch 3/6\n",
      "2/2 [==============================] - 0s 14ms/step - loss: 0.3613 - accuracy: 0.5104\n"
     ]
    },
    {
     "name": "stderr",
     "output_type": "stream",
     "text": [
      "2022-02-12 13:42:30.861640: I tensorflow/core/grappler/optimizers/custom_graph_optimizer_registry.cc:112] Plugin optimizer for device_type GPU is enabled.\n"
     ]
    },
    {
     "name": "stdout",
     "output_type": "stream",
     "text": [
      "Epoch 4/6\n",
      "2/2 [==============================] - 0s 7ms/step - loss: 0.3179 - accuracy: 0.4688\n",
      "Epoch 5/6\n",
      "2/2 [==============================] - 0s 7ms/step - loss: 0.2551 - accuracy: 0.4792\n",
      "Epoch 6/6\n",
      "2/2 [==============================] - 0s 7ms/step - loss: 0.1755 - accuracy: 0.4375\n",
      "1/1 [==============================] - 0s 189ms/step - loss: 0.2199 - accuracy: 0.3750\n"
     ]
    },
    {
     "name": "stderr",
     "output_type": "stream",
     "text": [
      "2022-02-12 13:42:31.241444: I tensorflow/core/grappler/optimizers/custom_graph_optimizer_registry.cc:112] Plugin optimizer for device_type GPU is enabled.\n"
     ]
    },
    {
     "name": "stdout",
     "output_type": "stream",
     "text": [
      "Epoch 1/6\n",
      "2/2 [==============================] - 1s 11ms/step - loss: 0.3430 - accuracy: 0.4583\n",
      "Epoch 2/6\n",
      "2/2 [==============================] - 0s 11ms/step - loss: 0.1850 - accuracy: 0.4583\n",
      "Epoch 3/6\n",
      "2/2 [==============================] - 0s 6ms/step - loss: 0.1979 - accuracy: 0.4479\n"
     ]
    },
    {
     "name": "stderr",
     "output_type": "stream",
     "text": [
      "2022-02-12 13:42:31.671885: I tensorflow/core/grappler/optimizers/custom_graph_optimizer_registry.cc:112] Plugin optimizer for device_type GPU is enabled.\n"
     ]
    },
    {
     "name": "stdout",
     "output_type": "stream",
     "text": [
      "Epoch 4/6\n",
      "2/2 [==============================] - 0s 14ms/step - loss: 0.1068 - accuracy: 0.4375\n",
      "Epoch 5/6\n",
      "2/2 [==============================] - 0s 6ms/step - loss: 0.0490 - accuracy: 0.4479\n",
      "Epoch 6/6\n",
      "2/2 [==============================] - 0s 6ms/step - loss: 0.0379 - accuracy: 0.4271\n",
      "1/1 [==============================] - 0s 184ms/step - loss: -0.6954 - accuracy: 0.4375\n"
     ]
    },
    {
     "name": "stderr",
     "output_type": "stream",
     "text": [
      "2022-02-12 13:42:32.043784: I tensorflow/core/grappler/optimizers/custom_graph_optimizer_registry.cc:112] Plugin optimizer for device_type GPU is enabled.\n"
     ]
    },
    {
     "name": "stdout",
     "output_type": "stream",
     "text": [
      "Epoch 1/6\n",
      "2/2 [==============================] - 0s 6ms/step - loss: 0.7639 - accuracy: 0.5729\n",
      "Epoch 2/6\n",
      "2/2 [==============================] - 0s 7ms/step - loss: 0.6838 - accuracy: 0.6667\n",
      "Epoch 3/6\n",
      "2/2 [==============================] - 0s 11ms/step - loss: 0.6422 - accuracy: 0.6875\n",
      "Epoch 4/6\n",
      "2/2 [==============================] - 0s 14ms/step - loss: 0.5961 - accuracy: 0.6771\n",
      "Epoch 5/6\n",
      "2/2 [==============================] - 0s 7ms/step - loss: 0.5564 - accuracy: 0.6979\n",
      "Epoch 6/6\n",
      "1/2 [==============>...............] - ETA: 0s - loss: 0.5292 - accuracy: 0.6562"
     ]
    },
    {
     "name": "stderr",
     "output_type": "stream",
     "text": [
      "2022-02-12 13:42:32.475496: I tensorflow/core/grappler/optimizers/custom_graph_optimizer_registry.cc:112] Plugin optimizer for device_type GPU is enabled.\n"
     ]
    },
    {
     "name": "stdout",
     "output_type": "stream",
     "text": [
      "2/2 [==============================] - 0s 7ms/step - loss: 0.5317 - accuracy: 0.6667\n",
      "1/1 [==============================] - 0s 191ms/step - loss: 0.5598 - accuracy: 0.8750\n"
     ]
    },
    {
     "name": "stderr",
     "output_type": "stream",
     "text": [
      "2022-02-12 13:42:32.826978: I tensorflow/core/grappler/optimizers/custom_graph_optimizer_registry.cc:112] Plugin optimizer for device_type GPU is enabled.\n"
     ]
    },
    {
     "name": "stdout",
     "output_type": "stream",
     "text": [
      "Epoch 1/6\n",
      "2/2 [==============================] - 0s 14ms/step - loss: 0.8369 - accuracy: 0.3438\n",
      "Epoch 2/6\n",
      "2/2 [==============================] - 0s 17ms/step - loss: 0.7806 - accuracy: 0.6250\n",
      "Epoch 3/6\n",
      "2/2 [==============================] - 0s 6ms/step - loss: 0.6993 - accuracy: 0.6562\n",
      "Epoch 4/6\n",
      "2/2 [==============================] - 0s 6ms/step - loss: 0.6504 - accuracy: 0.6562\n",
      "Epoch 5/6\n",
      "2/2 [==============================] - 0s 6ms/step - loss: 0.6167 - accuracy: 0.6979\n",
      "Epoch 6/6\n",
      "1/2 [==============>...............] - ETA: 0s - loss: 0.6121 - accuracy: 0.6875"
     ]
    },
    {
     "name": "stderr",
     "output_type": "stream",
     "text": [
      "2022-02-12 13:42:33.254160: I tensorflow/core/grappler/optimizers/custom_graph_optimizer_registry.cc:112] Plugin optimizer for device_type GPU is enabled.\n"
     ]
    },
    {
     "name": "stdout",
     "output_type": "stream",
     "text": [
      "2/2 [==============================] - 0s 6ms/step - loss: 0.5919 - accuracy: 0.6875\n",
      "1/1 [==============================] - 0s 189ms/step - loss: 0.5923 - accuracy: 0.7500\n"
     ]
    },
    {
     "name": "stderr",
     "output_type": "stream",
     "text": [
      "2022-02-12 13:42:33.590594: I tensorflow/core/grappler/optimizers/custom_graph_optimizer_registry.cc:112] Plugin optimizer for device_type GPU is enabled.\n"
     ]
    },
    {
     "name": "stdout",
     "output_type": "stream",
     "text": [
      "Epoch 1/12\n",
      "2/2 [==============================] - 0s 11ms/step - loss: 0.7837 - accuracy: 0.4062\n",
      "Epoch 2/12\n",
      "2/2 [==============================] - 0s 16ms/step - loss: 0.6807 - accuracy: 0.4688\n",
      "Epoch 3/12\n",
      "2/2 [==============================] - 0s 7ms/step - loss: 0.6444 - accuracy: 0.4896\n",
      "Epoch 4/12\n",
      "2/2 [==============================] - 0s 14ms/step - loss: 0.5663 - accuracy: 0.4583\n"
     ]
    },
    {
     "name": "stderr",
     "output_type": "stream",
     "text": [
      "2022-02-12 13:42:34.019174: I tensorflow/core/grappler/optimizers/custom_graph_optimizer_registry.cc:112] Plugin optimizer for device_type GPU is enabled.\n"
     ]
    },
    {
     "name": "stdout",
     "output_type": "stream",
     "text": [
      "Epoch 5/12\n",
      "2/2 [==============================] - 0s 12ms/step - loss: 0.5426 - accuracy: 0.4792\n",
      "Epoch 6/12\n",
      "2/2 [==============================] - 0s 9ms/step - loss: 0.5057 - accuracy: 0.5000\n",
      "Epoch 7/12\n",
      "2/2 [==============================] - 0s 11ms/step - loss: 0.4606 - accuracy: 0.4375\n",
      "Epoch 8/12\n",
      "2/2 [==============================] - 0s 6ms/step - loss: 0.4524 - accuracy: 0.4896\n",
      "Epoch 9/12\n",
      "2/2 [==============================] - 0s 15ms/step - loss: 0.3891 - accuracy: 0.5000\n",
      "Epoch 10/12\n",
      "2/2 [==============================] - 0s 6ms/step - loss: 0.3628 - accuracy: 0.4792\n",
      "Epoch 11/12\n",
      "2/2 [==============================] - 0s 6ms/step - loss: 0.2850 - accuracy: 0.4688\n",
      "Epoch 12/12\n",
      "2/2 [==============================] - 0s 6ms/step - loss: 0.2790 - accuracy: 0.4896\n",
      "1/1 [==============================] - 0s 214ms/step - loss: 0.4388 - accuracy: 0.3750\n"
     ]
    },
    {
     "name": "stderr",
     "output_type": "stream",
     "text": [
      "2022-02-12 13:42:34.535073: I tensorflow/core/grappler/optimizers/custom_graph_optimizer_registry.cc:112] Plugin optimizer for device_type GPU is enabled.\n"
     ]
    },
    {
     "name": "stdout",
     "output_type": "stream",
     "text": [
      "Epoch 1/12\n",
      "2/2 [==============================] - 1s 6ms/step - loss: 0.6373 - accuracy: 0.1562\n",
      "Epoch 2/12\n",
      "2/2 [==============================] - 0s 7ms/step - loss: 0.5603 - accuracy: 0.3646\n",
      "Epoch 3/12\n",
      "2/2 [==============================] - 0s 10ms/step - loss: 0.4972 - accuracy: 0.4375\n",
      "Epoch 4/12\n",
      "2/2 [==============================] - 0s 6ms/step - loss: 0.4393 - accuracy: 0.4479\n"
     ]
    },
    {
     "name": "stderr",
     "output_type": "stream",
     "text": [
      "2022-02-12 13:42:35.000313: I tensorflow/core/grappler/optimizers/custom_graph_optimizer_registry.cc:112] Plugin optimizer for device_type GPU is enabled.\n"
     ]
    },
    {
     "name": "stdout",
     "output_type": "stream",
     "text": [
      "Epoch 5/12\n",
      "2/2 [==============================] - 0s 16ms/step - loss: 0.4228 - accuracy: 0.4167\n",
      "Epoch 6/12\n",
      "2/2 [==============================] - 0s 17ms/step - loss: 0.3955 - accuracy: 0.4792\n",
      "Epoch 7/12\n",
      "2/2 [==============================] - 0s 7ms/step - loss: 0.3656 - accuracy: 0.4792\n",
      "Epoch 8/12\n",
      "2/2 [==============================] - 0s 7ms/step - loss: 0.3434 - accuracy: 0.4792\n",
      "Epoch 9/12\n",
      "2/2 [==============================] - 0s 7ms/step - loss: 0.2493 - accuracy: 0.4479\n",
      "Epoch 10/12\n",
      "2/2 [==============================] - 0s 7ms/step - loss: 0.2413 - accuracy: 0.4688\n",
      "Epoch 11/12\n",
      "2/2 [==============================] - 0s 7ms/step - loss: 0.2396 - accuracy: 0.4688\n",
      "Epoch 12/12\n",
      "2/2 [==============================] - 0s 6ms/step - loss: 0.2414 - accuracy: 0.4688\n",
      "1/1 [==============================] - 0s 180ms/step - loss: 0.1484 - accuracy: 0.3750\n"
     ]
    },
    {
     "name": "stderr",
     "output_type": "stream",
     "text": [
      "2022-02-12 13:42:35.483992: I tensorflow/core/grappler/optimizers/custom_graph_optimizer_registry.cc:112] Plugin optimizer for device_type GPU is enabled.\n"
     ]
    },
    {
     "name": "stdout",
     "output_type": "stream",
     "text": [
      "Epoch 1/12\n",
      "2/2 [==============================] - 1s 15ms/step - loss: 0.5756 - accuracy: 0.5729\n",
      "Epoch 2/12\n",
      "2/2 [==============================] - 0s 10ms/step - loss: 0.5276 - accuracy: 0.5938\n",
      "Epoch 3/12\n",
      "1/2 [==============>...............] - ETA: 0s - loss: 0.5198 - accuracy: 0.6250"
     ]
    },
    {
     "name": "stderr",
     "output_type": "stream",
     "text": [
      "2022-02-12 13:42:35.915163: I tensorflow/core/grappler/optimizers/custom_graph_optimizer_registry.cc:112] Plugin optimizer for device_type GPU is enabled.\n"
     ]
    },
    {
     "name": "stdout",
     "output_type": "stream",
     "text": [
      "2/2 [==============================] - 0s 11ms/step - loss: 0.4600 - accuracy: 0.6458\n",
      "Epoch 4/12\n",
      "2/2 [==============================] - 0s 8ms/step - loss: 0.3767 - accuracy: 0.6562\n",
      "Epoch 5/12\n",
      "2/2 [==============================] - 0s 6ms/step - loss: 0.3543 - accuracy: 0.6875\n",
      "Epoch 6/12\n",
      "2/2 [==============================] - 0s 16ms/step - loss: 0.2801 - accuracy: 0.6250\n",
      "Epoch 7/12\n",
      "2/2 [==============================] - 0s 6ms/step - loss: 0.2058 - accuracy: 0.6562\n",
      "Epoch 8/12\n",
      "2/2 [==============================] - 0s 19ms/step - loss: 0.2471 - accuracy: 0.6667\n",
      "Epoch 9/12\n",
      "2/2 [==============================] - 0s 7ms/step - loss: 0.1549 - accuracy: 0.6562\n",
      "Epoch 10/12\n",
      "2/2 [==============================] - 0s 6ms/step - loss: 0.1029 - accuracy: 0.6458\n",
      "Epoch 11/12\n",
      "2/2 [==============================] - 0s 6ms/step - loss: 0.0878 - accuracy: 0.6875\n",
      "Epoch 12/12\n",
      "2/2 [==============================] - 0s 7ms/step - loss: 0.0664 - accuracy: 0.6667\n",
      "1/1 [==============================] - 0s 198ms/step - loss: -0.3964 - accuracy: 0.6250\n"
     ]
    },
    {
     "name": "stderr",
     "output_type": "stream",
     "text": [
      "2022-02-12 13:42:36.422843: I tensorflow/core/grappler/optimizers/custom_graph_optimizer_registry.cc:112] Plugin optimizer for device_type GPU is enabled.\n"
     ]
    },
    {
     "name": "stdout",
     "output_type": "stream",
     "text": [
      "Epoch 1/12\n",
      "2/2 [==============================] - 1s 6ms/step - loss: 0.7091 - accuracy: 0.4062\n",
      "Epoch 2/12\n",
      "2/2 [==============================] - 0s 11ms/step - loss: 0.6329 - accuracy: 0.4062\n",
      "Epoch 3/12\n",
      "1/2 [==============>...............] - ETA: 0s - loss: 0.6198 - accuracy: 0.4375"
     ]
    },
    {
     "name": "stderr",
     "output_type": "stream",
     "text": [
      "2022-02-12 13:42:36.865256: I tensorflow/core/grappler/optimizers/custom_graph_optimizer_registry.cc:112] Plugin optimizer for device_type GPU is enabled.\n"
     ]
    },
    {
     "name": "stdout",
     "output_type": "stream",
     "text": [
      "2/2 [==============================] - 0s 11ms/step - loss: 0.5935 - accuracy: 0.4167\n",
      "Epoch 4/12\n",
      "2/2 [==============================] - 0s 6ms/step - loss: 0.5260 - accuracy: 0.3958\n",
      "Epoch 5/12\n",
      "2/2 [==============================] - 0s 16ms/step - loss: 0.5054 - accuracy: 0.4479\n",
      "Epoch 6/12\n",
      "2/2 [==============================] - 0s 11ms/step - loss: 0.4623 - accuracy: 0.4375\n",
      "Epoch 7/12\n",
      "2/2 [==============================] - 0s 18ms/step - loss: 0.4378 - accuracy: 0.4271\n",
      "Epoch 8/12\n",
      "2/2 [==============================] - 0s 6ms/step - loss: 0.4203 - accuracy: 0.4479\n",
      "Epoch 9/12\n",
      "2/2 [==============================] - 0s 7ms/step - loss: 0.3947 - accuracy: 0.4271\n",
      "Epoch 10/12\n",
      "2/2 [==============================] - 0s 6ms/step - loss: 0.3702 - accuracy: 0.4167\n",
      "Epoch 11/12\n",
      "2/2 [==============================] - 0s 6ms/step - loss: 0.3164 - accuracy: 0.4688\n",
      "Epoch 12/12\n",
      "2/2 [==============================] - 0s 6ms/step - loss: 0.2767 - accuracy: 0.4375\n",
      "1/1 [==============================] - 0s 182ms/step - loss: 0.4075 - accuracy: 0.4375\n"
     ]
    },
    {
     "name": "stderr",
     "output_type": "stream",
     "text": [
      "2022-02-12 13:42:37.367982: I tensorflow/core/grappler/optimizers/custom_graph_optimizer_registry.cc:112] Plugin optimizer for device_type GPU is enabled.\n"
     ]
    },
    {
     "name": "stdout",
     "output_type": "stream",
     "text": [
      "Epoch 1/12\n",
      "2/2 [==============================] - 1s 10ms/step - loss: 0.7793 - accuracy: 0.3021\n",
      "Epoch 2/12\n",
      "2/2 [==============================] - 0s 6ms/step - loss: 0.6764 - accuracy: 0.2812\n"
     ]
    },
    {
     "name": "stderr",
     "output_type": "stream",
     "text": [
      "2022-02-12 13:42:37.787959: I tensorflow/core/grappler/optimizers/custom_graph_optimizer_registry.cc:112] Plugin optimizer for device_type GPU is enabled.\n"
     ]
    },
    {
     "name": "stdout",
     "output_type": "stream",
     "text": [
      "Epoch 3/12\n",
      "2/2 [==============================] - 0s 10ms/step - loss: 0.6023 - accuracy: 0.3750\n",
      "Epoch 4/12\n",
      "2/2 [==============================] - 0s 15ms/step - loss: 0.5432 - accuracy: 0.4479\n",
      "Epoch 5/12\n",
      "2/2 [==============================] - 0s 17ms/step - loss: 0.4883 - accuracy: 0.5833\n",
      "Epoch 6/12\n",
      "2/2 [==============================] - 0s 8ms/step - loss: 0.4294 - accuracy: 0.6354\n",
      "Epoch 7/12\n",
      "2/2 [==============================] - 0s 7ms/step - loss: 0.3247 - accuracy: 0.6354\n",
      "Epoch 8/12\n",
      "2/2 [==============================] - 0s 7ms/step - loss: 0.3535 - accuracy: 0.7188\n",
      "Epoch 9/12\n",
      "2/2 [==============================] - 0s 7ms/step - loss: 0.3205 - accuracy: 0.6979\n",
      "Epoch 10/12\n",
      "2/2 [==============================] - 0s 6ms/step - loss: 0.2241 - accuracy: 0.6771\n",
      "Epoch 11/12\n",
      "2/2 [==============================] - 0s 7ms/step - loss: 0.1856 - accuracy: 0.6562\n",
      "Epoch 12/12\n",
      "2/2 [==============================] - 0s 12ms/step - loss: 0.1118 - accuracy: 0.6458\n",
      "1/1 [==============================] - 0s 194ms/step - loss: 0.2748 - accuracy: 0.7500\n"
     ]
    },
    {
     "name": "stderr",
     "output_type": "stream",
     "text": [
      "2022-02-12 13:42:38.310589: I tensorflow/core/grappler/optimizers/custom_graph_optimizer_registry.cc:112] Plugin optimizer for device_type GPU is enabled.\n"
     ]
    },
    {
     "name": "stdout",
     "output_type": "stream",
     "text": [
      "Epoch 1/18\n",
      "2/2 [==============================] - 1s 13ms/step - loss: 0.8024 - accuracy: 0.5625\n",
      "Epoch 2/18\n",
      "1/2 [==============>...............] - ETA: 0s - loss: 0.7056 - accuracy: 0.5312"
     ]
    },
    {
     "name": "stderr",
     "output_type": "stream",
     "text": [
      "2022-02-12 13:42:39.330478: I tensorflow/core/grappler/optimizers/custom_graph_optimizer_registry.cc:112] Plugin optimizer for device_type GPU is enabled.\n"
     ]
    },
    {
     "name": "stdout",
     "output_type": "stream",
     "text": [
      "2/2 [==============================] - 0s 16ms/step - loss: 0.6899 - accuracy: 0.5208\n",
      "Epoch 3/18\n",
      "2/2 [==============================] - 0s 9ms/step - loss: 0.6206 - accuracy: 0.5208\n",
      "Epoch 4/18\n",
      "2/2 [==============================] - 0s 8ms/step - loss: 0.5456 - accuracy: 0.5104\n",
      "Epoch 5/18\n",
      "2/2 [==============================] - 0s 7ms/step - loss: 0.5031 - accuracy: 0.4688\n",
      "Epoch 6/18\n",
      "2/2 [==============================] - 0s 7ms/step - loss: 0.4539 - accuracy: 0.4792\n",
      "Epoch 7/18\n",
      "2/2 [==============================] - 0s 10ms/step - loss: 0.4004 - accuracy: 0.4896\n",
      "Epoch 8/18\n",
      "2/2 [==============================] - 0s 7ms/step - loss: 0.3453 - accuracy: 0.5208\n",
      "Epoch 9/18\n",
      "2/2 [==============================] - 0s 13ms/step - loss: 0.3217 - accuracy: 0.5208\n",
      "Epoch 10/18\n",
      "2/2 [==============================] - 0s 7ms/step - loss: 0.2710 - accuracy: 0.5312\n",
      "Epoch 11/18\n",
      "2/2 [==============================] - 0s 7ms/step - loss: 0.2822 - accuracy: 0.5521\n",
      "Epoch 12/18\n",
      "2/2 [==============================] - 0s 7ms/step - loss: 0.1732 - accuracy: 0.5312\n",
      "Epoch 13/18\n",
      "2/2 [==============================] - 0s 7ms/step - loss: 0.1753 - accuracy: 0.5521\n",
      "Epoch 14/18\n",
      "2/2 [==============================] - 0s 7ms/step - loss: 0.1249 - accuracy: 0.5521\n",
      "Epoch 15/18\n",
      "2/2 [==============================] - 0s 12ms/step - loss: 0.1001 - accuracy: 0.5625\n",
      "Epoch 16/18\n",
      "2/2 [==============================] - 0s 7ms/step - loss: 0.1172 - accuracy: 0.6042\n",
      "Epoch 17/18\n",
      "2/2 [==============================] - 0s 9ms/step - loss: 0.0557 - accuracy: 0.6354\n",
      "Epoch 18/18\n",
      "2/2 [==============================] - 0s 7ms/step - loss: -0.0046 - accuracy: 0.6250\n",
      "1/1 [==============================] - 0s 186ms/step - loss: 0.1468 - accuracy: 0.5625\n"
     ]
    },
    {
     "name": "stderr",
     "output_type": "stream",
     "text": [
      "2022-02-12 13:42:39.949202: I tensorflow/core/grappler/optimizers/custom_graph_optimizer_registry.cc:112] Plugin optimizer for device_type GPU is enabled.\n"
     ]
    },
    {
     "name": "stdout",
     "output_type": "stream",
     "text": [
      "Epoch 1/18\n",
      "2/2 [==============================] - 1s 11ms/step - loss: 0.5729 - accuracy: 0.6250\n",
      "Epoch 2/18\n",
      "2/2 [==============================] - 0s 17ms/step - loss: 0.4796 - accuracy: 0.6354\n",
      "Epoch 3/18\n",
      "2/2 [==============================] - 0s 6ms/step - loss: 0.4086 - accuracy: 0.7188\n",
      "Epoch 4/18\n",
      "1/2 [==============>...............] - ETA: 0s - loss: 0.3498 - accuracy: 0.6875"
     ]
    },
    {
     "name": "stderr",
     "output_type": "stream",
     "text": [
      "2022-02-12 13:42:40.420948: I tensorflow/core/grappler/optimizers/custom_graph_optimizer_registry.cc:112] Plugin optimizer for device_type GPU is enabled.\n"
     ]
    },
    {
     "name": "stdout",
     "output_type": "stream",
     "text": [
      "2/2 [==============================] - 0s 8ms/step - loss: 0.3478 - accuracy: 0.6771\n",
      "Epoch 5/18\n",
      "2/2 [==============================] - 0s 10ms/step - loss: 0.2784 - accuracy: 0.6875\n",
      "Epoch 6/18\n",
      "2/2 [==============================] - 0s 6ms/step - loss: 0.2487 - accuracy: 0.6875\n",
      "Epoch 7/18\n",
      "2/2 [==============================] - 0s 7ms/step - loss: 0.1905 - accuracy: 0.6771\n",
      "Epoch 8/18\n",
      "2/2 [==============================] - 0s 7ms/step - loss: 0.1249 - accuracy: 0.6979\n",
      "Epoch 9/18\n",
      "2/2 [==============================] - 0s 7ms/step - loss: 0.1259 - accuracy: 0.6979\n",
      "Epoch 10/18\n",
      "2/2 [==============================] - 0s 6ms/step - loss: 0.0825 - accuracy: 0.7188\n",
      "Epoch 11/18\n",
      "2/2 [==============================] - 0s 11ms/step - loss: 0.0657 - accuracy: 0.7083\n",
      "Epoch 12/18\n",
      "2/2 [==============================] - 0s 6ms/step - loss: -0.0378 - accuracy: 0.7083\n",
      "Epoch 13/18\n",
      "2/2 [==============================] - 0s 7ms/step - loss: -0.0635 - accuracy: 0.7292\n",
      "Epoch 14/18\n",
      "2/2 [==============================] - 0s 6ms/step - loss: -0.1078 - accuracy: 0.6979\n",
      "Epoch 15/18\n",
      "2/2 [==============================] - 0s 6ms/step - loss: -0.1715 - accuracy: 0.7083\n",
      "Epoch 16/18\n",
      "2/2 [==============================] - 0s 7ms/step - loss: -0.1740 - accuracy: 0.7292\n",
      "Epoch 17/18\n",
      "2/2 [==============================] - 0s 7ms/step - loss: -0.2734 - accuracy: 0.6979\n",
      "Epoch 18/18\n",
      "2/2 [==============================] - 0s 30ms/step - loss: -0.2831 - accuracy: 0.6979\n",
      "1/1 [==============================] - 0s 189ms/step - loss: -0.2691 - accuracy: 0.5625\n"
     ]
    },
    {
     "name": "stderr",
     "output_type": "stream",
     "text": [
      "2022-02-12 13:42:41.036813: I tensorflow/core/grappler/optimizers/custom_graph_optimizer_registry.cc:112] Plugin optimizer for device_type GPU is enabled.\n"
     ]
    },
    {
     "name": "stdout",
     "output_type": "stream",
     "text": [
      "Epoch 1/18\n",
      "2/2 [==============================] - 1s 16ms/step - loss: 0.4769 - accuracy: 0.6146\n",
      "Epoch 2/18\n",
      "2/2 [==============================] - 0s 7ms/step - loss: 0.3359 - accuracy: 0.6146\n",
      "Epoch 3/18\n",
      "1/2 [==============>...............] - ETA: 0s - loss: 0.1105 - accuracy: 0.5625"
     ]
    },
    {
     "name": "stderr",
     "output_type": "stream",
     "text": [
      "2022-02-12 13:42:41.469133: I tensorflow/core/grappler/optimizers/custom_graph_optimizer_registry.cc:112] Plugin optimizer for device_type GPU is enabled.\n"
     ]
    },
    {
     "name": "stdout",
     "output_type": "stream",
     "text": [
      "2/2 [==============================] - 0s 7ms/step - loss: 0.2032 - accuracy: 0.5729\n",
      "Epoch 4/18\n",
      "2/2 [==============================] - 0s 12ms/step - loss: 0.1870 - accuracy: 0.6146\n",
      "Epoch 5/18\n",
      "2/2 [==============================] - 0s 12ms/step - loss: 0.1051 - accuracy: 0.5833\n",
      "Epoch 6/18\n",
      "2/2 [==============================] - 0s 7ms/step - loss: 0.0618 - accuracy: 0.5938\n",
      "Epoch 7/18\n",
      "2/2 [==============================] - 0s 6ms/step - loss: -0.0349 - accuracy: 0.5729\n",
      "Epoch 8/18\n",
      "2/2 [==============================] - 0s 7ms/step - loss: -0.0882 - accuracy: 0.5833\n",
      "Epoch 9/18\n",
      "2/2 [==============================] - 0s 7ms/step - loss: -0.0186 - accuracy: 0.5833\n",
      "Epoch 10/18\n",
      "2/2 [==============================] - 0s 7ms/step - loss: -0.1208 - accuracy: 0.5625\n",
      "Epoch 11/18\n",
      "2/2 [==============================] - 0s 7ms/step - loss: -0.1383 - accuracy: 0.5938\n",
      "Epoch 12/18\n",
      "2/2 [==============================] - 0s 15ms/step - loss: -0.0984 - accuracy: 0.6146\n",
      "Epoch 13/18\n",
      "2/2 [==============================] - 0s 9ms/step - loss: -0.3618 - accuracy: 0.5833\n",
      "Epoch 14/18\n",
      "2/2 [==============================] - 0s 9ms/step - loss: -0.2177 - accuracy: 0.6354\n",
      "Epoch 15/18\n",
      "2/2 [==============================] - 0s 7ms/step - loss: -0.3720 - accuracy: 0.6250\n",
      "Epoch 16/18\n",
      "2/2 [==============================] - 0s 7ms/step - loss: -0.2910 - accuracy: 0.6042\n",
      "Epoch 17/18\n",
      "2/2 [==============================] - 0s 7ms/step - loss: -0.4104 - accuracy: 0.5938\n",
      "Epoch 18/18\n",
      "2/2 [==============================] - 0s 7ms/step - loss: -0.5140 - accuracy: 0.5938\n",
      "1/1 [==============================] - 0s 195ms/step - loss: -1.5957 - accuracy: 0.5625\n"
     ]
    },
    {
     "name": "stderr",
     "output_type": "stream",
     "text": [
      "2022-02-12 13:42:42.058211: I tensorflow/core/grappler/optimizers/custom_graph_optimizer_registry.cc:112] Plugin optimizer for device_type GPU is enabled.\n"
     ]
    },
    {
     "name": "stdout",
     "output_type": "stream",
     "text": [
      "Epoch 1/18\n",
      "2/2 [==============================] - 1s 12ms/step - loss: 0.7880 - accuracy: 0.5938\n",
      "Epoch 2/18\n",
      "1/2 [==============>...............] - ETA: 0s - loss: 0.7398 - accuracy: 0.5625"
     ]
    },
    {
     "name": "stderr",
     "output_type": "stream",
     "text": [
      "2022-02-12 13:42:42.487856: I tensorflow/core/grappler/optimizers/custom_graph_optimizer_registry.cc:112] Plugin optimizer for device_type GPU is enabled.\n"
     ]
    },
    {
     "name": "stdout",
     "output_type": "stream",
     "text": [
      "2/2 [==============================] - 0s 16ms/step - loss: 0.7074 - accuracy: 0.6042\n",
      "Epoch 3/18\n",
      "2/2 [==============================] - 0s 6ms/step - loss: 0.6438 - accuracy: 0.6667\n",
      "Epoch 4/18\n",
      "2/2 [==============================] - 0s 5ms/step - loss: 0.6001 - accuracy: 0.6979\n",
      "Epoch 5/18\n",
      "2/2 [==============================] - 0s 6ms/step - loss: 0.5756 - accuracy: 0.6875\n",
      "Epoch 6/18\n",
      "2/2 [==============================] - 0s 34ms/step - loss: 0.5024 - accuracy: 0.6875\n",
      "Epoch 7/18\n",
      "2/2 [==============================] - 0s 14ms/step - loss: 0.4829 - accuracy: 0.6458\n",
      "Epoch 8/18\n",
      "2/2 [==============================] - 0s 10ms/step - loss: 0.4514 - accuracy: 0.6667\n",
      "Epoch 9/18\n",
      "2/2 [==============================] - 0s 6ms/step - loss: 0.4260 - accuracy: 0.6667\n",
      "Epoch 10/18\n",
      "2/2 [==============================] - 0s 6ms/step - loss: 0.3953 - accuracy: 0.6979\n",
      "Epoch 11/18\n",
      "2/2 [==============================] - 0s 6ms/step - loss: 0.3572 - accuracy: 0.6458\n",
      "Epoch 12/18\n",
      "2/2 [==============================] - 0s 7ms/step - loss: 0.2917 - accuracy: 0.6562\n",
      "Epoch 13/18\n",
      "2/2 [==============================] - 0s 8ms/step - loss: 0.2860 - accuracy: 0.6562\n",
      "Epoch 14/18\n",
      "2/2 [==============================] - 0s 7ms/step - loss: 0.2392 - accuracy: 0.6354\n",
      "Epoch 15/18\n",
      "2/2 [==============================] - 0s 7ms/step - loss: 0.2013 - accuracy: 0.6562\n",
      "Epoch 16/18\n",
      "2/2 [==============================] - 0s 7ms/step - loss: 0.1650 - accuracy: 0.6667\n",
      "Epoch 17/18\n",
      "2/2 [==============================] - 0s 9ms/step - loss: 0.0811 - accuracy: 0.6562\n",
      "Epoch 18/18\n",
      "2/2 [==============================] - 0s 12ms/step - loss: 0.0533 - accuracy: 0.6458\n",
      "1/1 [==============================] - 0s 228ms/step - loss: 0.2739 - accuracy: 0.8750\n"
     ]
    },
    {
     "name": "stderr",
     "output_type": "stream",
     "text": [
      "2022-02-12 13:42:43.187570: I tensorflow/core/grappler/optimizers/custom_graph_optimizer_registry.cc:112] Plugin optimizer for device_type GPU is enabled.\n"
     ]
    },
    {
     "name": "stdout",
     "output_type": "stream",
     "text": [
      "Epoch 1/18\n",
      "2/2 [==============================] - 1s 12ms/step - loss: 1.2305 - accuracy: 0.4792\n"
     ]
    },
    {
     "name": "stderr",
     "output_type": "stream",
     "text": [
      "2022-02-12 13:42:43.680552: I tensorflow/core/grappler/optimizers/custom_graph_optimizer_registry.cc:112] Plugin optimizer for device_type GPU is enabled.\n"
     ]
    },
    {
     "name": "stdout",
     "output_type": "stream",
     "text": [
      "Epoch 2/18\n",
      "2/2 [==============================] - 0s 19ms/step - loss: 1.0502 - accuracy: 0.5625\n",
      "Epoch 3/18\n",
      "2/2 [==============================] - 0s 7ms/step - loss: 1.0115 - accuracy: 0.5417\n",
      "Epoch 4/18\n",
      "2/2 [==============================] - 0s 6ms/step - loss: 1.0094 - accuracy: 0.5312\n",
      "Epoch 5/18\n",
      "2/2 [==============================] - 0s 11ms/step - loss: 0.9056 - accuracy: 0.6146\n",
      "Epoch 6/18\n",
      "2/2 [==============================] - 0s 7ms/step - loss: 0.8423 - accuracy: 0.6354\n",
      "Epoch 7/18\n",
      "2/2 [==============================] - 0s 6ms/step - loss: 0.8379 - accuracy: 0.6354\n",
      "Epoch 8/18\n",
      "2/2 [==============================] - 0s 6ms/step - loss: 0.7949 - accuracy: 0.6562\n",
      "Epoch 9/18\n",
      "2/2 [==============================] - 0s 6ms/step - loss: 0.7620 - accuracy: 0.6979\n",
      "Epoch 10/18\n",
      "2/2 [==============================] - 0s 6ms/step - loss: 0.7017 - accuracy: 0.7083\n",
      "Epoch 11/18\n",
      "2/2 [==============================] - 0s 7ms/step - loss: 0.6826 - accuracy: 0.6979\n",
      "Epoch 12/18\n",
      "2/2 [==============================] - 0s 6ms/step - loss: 0.6428 - accuracy: 0.7083\n",
      "Epoch 13/18\n",
      "2/2 [==============================] - 0s 9ms/step - loss: 0.6006 - accuracy: 0.6979\n",
      "Epoch 14/18\n",
      "2/2 [==============================] - 0s 6ms/step - loss: 0.5753 - accuracy: 0.7083\n",
      "Epoch 15/18\n",
      "2/2 [==============================] - 0s 11ms/step - loss: 0.5232 - accuracy: 0.6979\n",
      "Epoch 16/18\n",
      "2/2 [==============================] - 0s 6ms/step - loss: 0.4841 - accuracy: 0.7500\n",
      "Epoch 17/18\n",
      "2/2 [==============================] - 0s 6ms/step - loss: 0.4647 - accuracy: 0.7083\n",
      "Epoch 18/18\n",
      "2/2 [==============================] - 0s 6ms/step - loss: 0.4348 - accuracy: 0.6771\n",
      "1/1 [==============================] - 0s 271ms/step - loss: 0.4489 - accuracy: 0.6875\n"
     ]
    },
    {
     "name": "stderr",
     "output_type": "stream",
     "text": [
      "2022-02-12 13:42:44.323294: I tensorflow/core/grappler/optimizers/custom_graph_optimizer_registry.cc:112] Plugin optimizer for device_type GPU is enabled.\n"
     ]
    },
    {
     "name": "stdout",
     "output_type": "stream",
     "text": [
      "Epoch 1/24\n",
      "2/2 [==============================] - 1s 15ms/step - loss: 0.5904 - accuracy: 0.3438\n"
     ]
    },
    {
     "name": "stderr",
     "output_type": "stream",
     "text": [
      "2022-02-12 13:42:44.806143: I tensorflow/core/grappler/optimizers/custom_graph_optimizer_registry.cc:112] Plugin optimizer for device_type GPU is enabled.\n"
     ]
    },
    {
     "name": "stdout",
     "output_type": "stream",
     "text": [
      "Epoch 2/24\n",
      "2/2 [==============================] - 0s 16ms/step - loss: 0.5034 - accuracy: 0.4688\n",
      "Epoch 3/24\n",
      "2/2 [==============================] - 0s 7ms/step - loss: 0.4830 - accuracy: 0.5000\n",
      "Epoch 4/24\n",
      "2/2 [==============================] - 0s 16ms/step - loss: 0.4021 - accuracy: 0.5833\n",
      "Epoch 5/24\n",
      "2/2 [==============================] - 0s 7ms/step - loss: 0.3019 - accuracy: 0.6042\n",
      "Epoch 6/24\n",
      "2/2 [==============================] - 0s 12ms/step - loss: 0.3297 - accuracy: 0.6667\n",
      "Epoch 7/24\n",
      "2/2 [==============================] - 0s 10ms/step - loss: 0.2478 - accuracy: 0.6250\n",
      "Epoch 8/24\n",
      "2/2 [==============================] - 0s 7ms/step - loss: 0.2166 - accuracy: 0.6562\n",
      "Epoch 9/24\n",
      "2/2 [==============================] - 0s 8ms/step - loss: 0.1610 - accuracy: 0.6562\n",
      "Epoch 10/24\n",
      "2/2 [==============================] - 0s 7ms/step - loss: 0.1389 - accuracy: 0.6354\n",
      "Epoch 11/24\n",
      "2/2 [==============================] - 0s 7ms/step - loss: 0.0737 - accuracy: 0.6667\n",
      "Epoch 12/24\n",
      "2/2 [==============================] - 0s 7ms/step - loss: 0.0227 - accuracy: 0.6250\n",
      "Epoch 13/24\n",
      "2/2 [==============================] - 0s 7ms/step - loss: 0.0689 - accuracy: 0.6458\n",
      "Epoch 14/24\n",
      "2/2 [==============================] - 0s 7ms/step - loss: -0.0603 - accuracy: 0.6458\n",
      "Epoch 15/24\n",
      "2/2 [==============================] - 0s 8ms/step - loss: -0.0965 - accuracy: 0.6354\n",
      "Epoch 16/24\n",
      "2/2 [==============================] - 0s 7ms/step - loss: -0.2352 - accuracy: 0.6250\n",
      "Epoch 17/24\n",
      "2/2 [==============================] - 0s 7ms/step - loss: -0.2483 - accuracy: 0.6042\n",
      "Epoch 18/24\n",
      "2/2 [==============================] - 0s 8ms/step - loss: -0.2199 - accuracy: 0.6354\n",
      "Epoch 19/24\n",
      "2/2 [==============================] - 0s 6ms/step - loss: -0.2181 - accuracy: 0.6562\n",
      "Epoch 20/24\n",
      "2/2 [==============================] - 0s 6ms/step - loss: -0.2837 - accuracy: 0.6562\n",
      "Epoch 21/24\n",
      "2/2 [==============================] - 0s 6ms/step - loss: -0.2803 - accuracy: 0.6875\n",
      "Epoch 22/24\n",
      "2/2 [==============================] - 0s 7ms/step - loss: -0.3335 - accuracy: 0.6667\n",
      "Epoch 23/24\n",
      "2/2 [==============================] - 0s 7ms/step - loss: -0.5036 - accuracy: 0.6562\n",
      "Epoch 24/24\n",
      "2/2 [==============================] - 0s 7ms/step - loss: -0.4424 - accuracy: 0.6458\n",
      "1/1 [==============================] - 0s 202ms/step - loss: -0.2346 - accuracy: 0.5625\n"
     ]
    },
    {
     "name": "stderr",
     "output_type": "stream",
     "text": [
      "2022-02-12 13:42:45.551122: I tensorflow/core/grappler/optimizers/custom_graph_optimizer_registry.cc:112] Plugin optimizer for device_type GPU is enabled.\n"
     ]
    },
    {
     "name": "stdout",
     "output_type": "stream",
     "text": [
      "Epoch 1/24\n",
      "2/2 [==============================] - 1s 14ms/step - loss: 0.5574 - accuracy: 0.7396\n",
      "Epoch 2/24\n",
      "2/2 [==============================] - 0s 18ms/step - loss: 0.5179 - accuracy: 0.7292\n"
     ]
    },
    {
     "name": "stderr",
     "output_type": "stream",
     "text": [
      "2022-02-12 13:42:46.192816: I tensorflow/core/grappler/optimizers/custom_graph_optimizer_registry.cc:112] Plugin optimizer for device_type GPU is enabled.\n"
     ]
    },
    {
     "name": "stdout",
     "output_type": "stream",
     "text": [
      "Epoch 3/24\n",
      "2/2 [==============================] - 0s 15ms/step - loss: 0.4660 - accuracy: 0.6875\n",
      "Epoch 4/24\n",
      "2/2 [==============================] - 0s 6ms/step - loss: 0.4476 - accuracy: 0.7292\n",
      "Epoch 5/24\n",
      "2/2 [==============================] - 0s 7ms/step - loss: 0.3898 - accuracy: 0.6562\n",
      "Epoch 6/24\n",
      "2/2 [==============================] - 0s 7ms/step - loss: 0.3723 - accuracy: 0.6979\n",
      "Epoch 7/24\n",
      "2/2 [==============================] - 0s 18ms/step - loss: 0.3440 - accuracy: 0.6667\n",
      "Epoch 8/24\n",
      "2/2 [==============================] - 0s 11ms/step - loss: 0.3115 - accuracy: 0.6667\n",
      "Epoch 9/24\n",
      "2/2 [==============================] - 0s 7ms/step - loss: 0.3000 - accuracy: 0.6667\n",
      "Epoch 10/24\n",
      "2/2 [==============================] - 0s 7ms/step - loss: 0.2625 - accuracy: 0.6562\n",
      "Epoch 11/24\n",
      "2/2 [==============================] - 0s 6ms/step - loss: 0.2305 - accuracy: 0.6458\n",
      "Epoch 12/24\n",
      "2/2 [==============================] - 0s 7ms/step - loss: 0.2244 - accuracy: 0.6771\n",
      "Epoch 13/24\n",
      "2/2 [==============================] - 0s 7ms/step - loss: 0.1899 - accuracy: 0.6458\n",
      "Epoch 14/24\n",
      "2/2 [==============================] - 0s 7ms/step - loss: 0.1435 - accuracy: 0.6354\n",
      "Epoch 15/24\n",
      "2/2 [==============================] - 0s 13ms/step - loss: 0.1144 - accuracy: 0.6250\n",
      "Epoch 16/24\n",
      "2/2 [==============================] - 0s 8ms/step - loss: 0.1536 - accuracy: 0.6562\n",
      "Epoch 17/24\n",
      "2/2 [==============================] - 0s 7ms/step - loss: 0.1138 - accuracy: 0.6875\n",
      "Epoch 18/24\n",
      "2/2 [==============================] - 0s 7ms/step - loss: 0.0668 - accuracy: 0.6667\n",
      "Epoch 19/24\n",
      "2/2 [==============================] - 0s 7ms/step - loss: -0.0036 - accuracy: 0.6458\n",
      "Epoch 20/24\n",
      "2/2 [==============================] - 0s 6ms/step - loss: 0.0445 - accuracy: 0.6875\n",
      "Epoch 21/24\n",
      "2/2 [==============================] - 0s 6ms/step - loss: 0.0275 - accuracy: 0.6771\n",
      "Epoch 22/24\n",
      "2/2 [==============================] - 0s 7ms/step - loss: -0.0428 - accuracy: 0.6562\n",
      "Epoch 23/24\n",
      "2/2 [==============================] - 0s 6ms/step - loss: -0.1065 - accuracy: 0.6354\n",
      "Epoch 24/24\n",
      "2/2 [==============================] - 0s 6ms/step - loss: -0.1054 - accuracy: 0.6562\n",
      "1/1 [==============================] - 0s 212ms/step - loss: -0.0702 - accuracy: 0.5625\n"
     ]
    },
    {
     "name": "stderr",
     "output_type": "stream",
     "text": [
      "2022-02-12 13:42:46.914780: I tensorflow/core/grappler/optimizers/custom_graph_optimizer_registry.cc:112] Plugin optimizer for device_type GPU is enabled.\n"
     ]
    },
    {
     "name": "stdout",
     "output_type": "stream",
     "text": [
      "Epoch 1/24\n",
      "1/2 [==============>...............] - ETA: 0s - loss: 0.5738 - accuracy: 0.7500"
     ]
    },
    {
     "name": "stderr",
     "output_type": "stream",
     "text": [
      "2022-02-12 13:42:47.445361: I tensorflow/core/grappler/optimizers/custom_graph_optimizer_registry.cc:112] Plugin optimizer for device_type GPU is enabled.\n"
     ]
    },
    {
     "name": "stdout",
     "output_type": "stream",
     "text": [
      "2/2 [==============================] - 1s 12ms/step - loss: 0.4959 - accuracy: 0.6875\n",
      "Epoch 2/24\n",
      "2/2 [==============================] - 0s 12ms/step - loss: 0.3666 - accuracy: 0.6250\n",
      "Epoch 3/24\n",
      "2/2 [==============================] - 0s 6ms/step - loss: 0.3402 - accuracy: 0.6771\n",
      "Epoch 4/24\n",
      "2/2 [==============================] - 0s 8ms/step - loss: 0.2822 - accuracy: 0.6667\n",
      "Epoch 5/24\n",
      "2/2 [==============================] - 0s 11ms/step - loss: 0.2431 - accuracy: 0.6771\n",
      "Epoch 6/24\n",
      "2/2 [==============================] - 0s 6ms/step - loss: 0.1796 - accuracy: 0.6771\n",
      "Epoch 7/24\n",
      "2/2 [==============================] - 0s 8ms/step - loss: 0.1895 - accuracy: 0.6771\n",
      "Epoch 8/24\n",
      "2/2 [==============================] - 0s 8ms/step - loss: 0.1068 - accuracy: 0.6875\n",
      "Epoch 9/24\n",
      "2/2 [==============================] - 0s 7ms/step - loss: 0.1434 - accuracy: 0.6667\n",
      "Epoch 10/24\n",
      "2/2 [==============================] - 0s 7ms/step - loss: -0.0084 - accuracy: 0.6667\n",
      "Epoch 11/24\n",
      "2/2 [==============================] - 0s 6ms/step - loss: 0.0136 - accuracy: 0.6771\n",
      "Epoch 12/24\n",
      "2/2 [==============================] - 0s 6ms/step - loss: -0.0432 - accuracy: 0.6562\n",
      "Epoch 13/24\n",
      "2/2 [==============================] - 0s 6ms/step - loss: -0.0685 - accuracy: 0.6562\n",
      "Epoch 14/24\n",
      "2/2 [==============================] - 0s 27ms/step - loss: -0.1204 - accuracy: 0.6250\n",
      "Epoch 15/24\n",
      "2/2 [==============================] - 0s 22ms/step - loss: -0.1840 - accuracy: 0.6562\n",
      "Epoch 16/24\n",
      "2/2 [==============================] - 0s 45ms/step - loss: -0.1924 - accuracy: 0.6771\n",
      "Epoch 17/24\n",
      "2/2 [==============================] - 0s 11ms/step - loss: -0.2091 - accuracy: 0.6771\n",
      "Epoch 18/24\n",
      "2/2 [==============================] - 0s 8ms/step - loss: -0.2665 - accuracy: 0.6667\n",
      "Epoch 19/24\n",
      "2/2 [==============================] - 0s 32ms/step - loss: -0.2719 - accuracy: 0.6667\n",
      "Epoch 20/24\n",
      "2/2 [==============================] - 0s 8ms/step - loss: -0.2846 - accuracy: 0.6771\n",
      "Epoch 21/24\n",
      "2/2 [==============================] - 0s 10ms/step - loss: -0.4012 - accuracy: 0.6562\n",
      "Epoch 22/24\n",
      "2/2 [==============================] - 0s 9ms/step - loss: -0.5179 - accuracy: 0.6562\n",
      "Epoch 23/24\n",
      "2/2 [==============================] - 0s 7ms/step - loss: -0.7303 - accuracy: 0.6250\n",
      "Epoch 24/24\n",
      "2/2 [==============================] - 0s 7ms/step - loss: -0.5172 - accuracy: 0.6562\n",
      "1/1 [==============================] - 0s 240ms/step - loss: -1.9409 - accuracy: 0.6250\n"
     ]
    },
    {
     "name": "stderr",
     "output_type": "stream",
     "text": [
      "2022-02-12 13:42:48.385557: I tensorflow/core/grappler/optimizers/custom_graph_optimizer_registry.cc:112] Plugin optimizer for device_type GPU is enabled.\n"
     ]
    },
    {
     "name": "stdout",
     "output_type": "stream",
     "text": [
      "Epoch 1/24\n",
      "2/2 [==============================] - 1s 17ms/step - loss: 0.6833 - accuracy: 0.5000\n"
     ]
    },
    {
     "name": "stderr",
     "output_type": "stream",
     "text": [
      "2022-02-12 13:42:48.913545: I tensorflow/core/grappler/optimizers/custom_graph_optimizer_registry.cc:112] Plugin optimizer for device_type GPU is enabled.\n"
     ]
    },
    {
     "name": "stdout",
     "output_type": "stream",
     "text": [
      "Epoch 2/24\n",
      "2/2 [==============================] - 0s 16ms/step - loss: 0.5894 - accuracy: 0.6146\n",
      "Epoch 3/24\n",
      "2/2 [==============================] - 0s 7ms/step - loss: 0.5272 - accuracy: 0.6354\n",
      "Epoch 4/24\n",
      "2/2 [==============================] - 0s 6ms/step - loss: 0.4524 - accuracy: 0.6146\n",
      "Epoch 5/24\n",
      "2/2 [==============================] - 0s 17ms/step - loss: 0.4051 - accuracy: 0.5625\n",
      "Epoch 6/24\n",
      "2/2 [==============================] - 0s 15ms/step - loss: 0.3698 - accuracy: 0.5833\n",
      "Epoch 7/24\n",
      "2/2 [==============================] - 0s 7ms/step - loss: 0.3414 - accuracy: 0.5521\n",
      "Epoch 8/24\n",
      "2/2 [==============================] - 0s 7ms/step - loss: 0.3137 - accuracy: 0.6146\n",
      "Epoch 9/24\n",
      "2/2 [==============================] - 0s 19ms/step - loss: 0.2955 - accuracy: 0.6354\n",
      "Epoch 10/24\n",
      "2/2 [==============================] - 0s 8ms/step - loss: 0.2718 - accuracy: 0.6146\n",
      "Epoch 11/24\n",
      "2/2 [==============================] - 0s 7ms/step - loss: 0.1973 - accuracy: 0.5833\n",
      "Epoch 12/24\n",
      "2/2 [==============================] - 0s 72ms/step - loss: 0.1609 - accuracy: 0.5938\n",
      "Epoch 13/24\n",
      "2/2 [==============================] - 0s 12ms/step - loss: 0.1343 - accuracy: 0.5625\n",
      "Epoch 14/24\n",
      "2/2 [==============================] - 0s 6ms/step - loss: 0.0560 - accuracy: 0.5417\n",
      "Epoch 15/24\n",
      "2/2 [==============================] - 0s 32ms/step - loss: 0.0121 - accuracy: 0.5625\n",
      "Epoch 16/24\n",
      "2/2 [==============================] - 0s 6ms/step - loss: 0.0820 - accuracy: 0.5729\n",
      "Epoch 17/24\n",
      "2/2 [==============================] - 0s 7ms/step - loss: -0.0412 - accuracy: 0.5729\n",
      "Epoch 18/24\n",
      "2/2 [==============================] - 0s 6ms/step - loss: -0.0920 - accuracy: 0.5417\n",
      "Epoch 19/24\n",
      "2/2 [==============================] - 0s 7ms/step - loss: -0.0547 - accuracy: 0.5938\n",
      "Epoch 20/24\n",
      "2/2 [==============================] - 0s 6ms/step - loss: -0.0554 - accuracy: 0.5938\n",
      "Epoch 21/24\n",
      "2/2 [==============================] - 0s 6ms/step - loss: -0.1153 - accuracy: 0.5833\n",
      "Epoch 22/24\n",
      "2/2 [==============================] - 0s 6ms/step - loss: -0.0933 - accuracy: 0.5833\n",
      "Epoch 23/24\n",
      "2/2 [==============================] - 0s 6ms/step - loss: -0.2287 - accuracy: 0.5729\n",
      "Epoch 24/24\n",
      "2/2 [==============================] - 0s 6ms/step - loss: -0.2279 - accuracy: 0.5625\n",
      "1/1 [==============================] - 0s 203ms/step - loss: 0.1092 - accuracy: 0.6250\n"
     ]
    },
    {
     "name": "stderr",
     "output_type": "stream",
     "text": [
      "2022-02-12 13:42:49.754873: I tensorflow/core/grappler/optimizers/custom_graph_optimizer_registry.cc:112] Plugin optimizer for device_type GPU is enabled.\n"
     ]
    },
    {
     "name": "stdout",
     "output_type": "stream",
     "text": [
      "Epoch 1/24\n",
      "2/2 [==============================] - 0s 7ms/step - loss: 0.7767 - accuracy: 0.3125\n",
      "Epoch 2/24\n",
      "2/2 [==============================] - 0s 16ms/step - loss: 0.7103 - accuracy: 0.3438\n",
      "Epoch 3/24\n",
      "2/2 [==============================] - 0s 7ms/step - loss: 0.6191 - accuracy: 0.3542\n"
     ]
    },
    {
     "name": "stderr",
     "output_type": "stream",
     "text": [
      "2022-02-12 13:42:50.208247: I tensorflow/core/grappler/optimizers/custom_graph_optimizer_registry.cc:112] Plugin optimizer for device_type GPU is enabled.\n"
     ]
    },
    {
     "name": "stdout",
     "output_type": "stream",
     "text": [
      "Epoch 4/24\n",
      "2/2 [==============================] - 0s 7ms/step - loss: 0.5548 - accuracy: 0.3750\n",
      "Epoch 5/24\n",
      "2/2 [==============================] - 0s 7ms/step - loss: 0.5183 - accuracy: 0.3958\n",
      "Epoch 6/24\n",
      "2/2 [==============================] - 0s 16ms/step - loss: 0.4840 - accuracy: 0.3854\n",
      "Epoch 7/24\n",
      "2/2 [==============================] - 0s 6ms/step - loss: 0.4170 - accuracy: 0.4792\n",
      "Epoch 8/24\n",
      "2/2 [==============================] - 0s 6ms/step - loss: 0.3703 - accuracy: 0.4375\n",
      "Epoch 9/24\n",
      "2/2 [==============================] - 0s 6ms/step - loss: 0.2952 - accuracy: 0.3958\n",
      "Epoch 10/24\n",
      "2/2 [==============================] - 0s 6ms/step - loss: 0.2539 - accuracy: 0.3958\n",
      "Epoch 11/24\n",
      "2/2 [==============================] - 0s 6ms/step - loss: 0.2934 - accuracy: 0.4271\n",
      "Epoch 12/24\n",
      "2/2 [==============================] - 0s 7ms/step - loss: 0.1744 - accuracy: 0.4062\n",
      "Epoch 13/24\n",
      "2/2 [==============================] - 0s 6ms/step - loss: 0.1490 - accuracy: 0.4271\n",
      "Epoch 14/24\n",
      "2/2 [==============================] - 0s 6ms/step - loss: 0.1564 - accuracy: 0.4062\n",
      "Epoch 15/24\n",
      "2/2 [==============================] - 0s 7ms/step - loss: 0.0931 - accuracy: 0.4062\n",
      "Epoch 16/24\n",
      "2/2 [==============================] - 0s 9ms/step - loss: 0.0262 - accuracy: 0.3958\n",
      "Epoch 17/24\n",
      "2/2 [==============================] - 0s 8ms/step - loss: -0.0162 - accuracy: 0.4167\n",
      "Epoch 18/24\n",
      "2/2 [==============================] - 0s 6ms/step - loss: -0.0511 - accuracy: 0.4375\n",
      "Epoch 19/24\n",
      "2/2 [==============================] - 0s 6ms/step - loss: -0.1176 - accuracy: 0.4479\n",
      "Epoch 20/24\n",
      "2/2 [==============================] - 0s 6ms/step - loss: -0.0932 - accuracy: 0.4167\n",
      "Epoch 21/24\n",
      "2/2 [==============================] - 0s 6ms/step - loss: -0.2199 - accuracy: 0.4271\n",
      "Epoch 22/24\n",
      "2/2 [==============================] - 0s 6ms/step - loss: -0.2100 - accuracy: 0.4167\n",
      "Epoch 23/24\n",
      "2/2 [==============================] - 0s 6ms/step - loss: -0.2879 - accuracy: 0.4792\n",
      "Epoch 24/24\n",
      "2/2 [==============================] - 0s 6ms/step - loss: -0.2377 - accuracy: 0.5104\n",
      "1/1 [==============================] - 0s 235ms/step - loss: -0.4097 - accuracy: 0.6250\n"
     ]
    },
    {
     "name": "stderr",
     "output_type": "stream",
     "text": [
      "2022-02-12 13:42:50.891721: I tensorflow/core/grappler/optimizers/custom_graph_optimizer_registry.cc:112] Plugin optimizer for device_type GPU is enabled.\n"
     ]
    },
    {
     "name": "stdout",
     "output_type": "stream",
     "text": [
      "Epoch 1/18\n"
     ]
    },
    {
     "name": "stderr",
     "output_type": "stream",
     "text": [
      "2022-02-12 13:42:52.529957: I tensorflow/core/grappler/optimizers/custom_graph_optimizer_registry.cc:112] Plugin optimizer for device_type GPU is enabled.\n"
     ]
    },
    {
     "name": "stdout",
     "output_type": "stream",
     "text": [
      "3/3 [==============================] - 2s 55ms/step - loss: 0.5276 - accuracy: 0.4711\n",
      "Epoch 2/18\n",
      "3/3 [==============================] - 0s 16ms/step - loss: 0.3859 - accuracy: 0.4164\n",
      "Epoch 3/18\n",
      "3/3 [==============================] - 0s 11ms/step - loss: 0.3396 - accuracy: 0.4672\n",
      "Epoch 4/18\n",
      "3/3 [==============================] - 0s 15ms/step - loss: 0.2517 - accuracy: 0.4750\n",
      "Epoch 5/18\n",
      "3/3 [==============================] - 0s 10ms/step - loss: 0.2045 - accuracy: 0.4711\n",
      "Epoch 6/18\n",
      "3/3 [==============================] - 0s 23ms/step - loss: 0.1614 - accuracy: 0.4438\n",
      "Epoch 7/18\n",
      "3/3 [==============================] - 0s 12ms/step - loss: 0.1243 - accuracy: 0.4906\n",
      "Epoch 8/18\n",
      "3/3 [==============================] - 0s 9ms/step - loss: 0.0212 - accuracy: 0.4320\n",
      "Epoch 9/18\n",
      "3/3 [==============================] - 0s 10ms/step - loss: -0.0820 - accuracy: 0.4672\n",
      "Epoch 10/18\n",
      "3/3 [==============================] - 0s 11ms/step - loss: 0.0195 - accuracy: 0.4906\n",
      "Epoch 11/18\n",
      "3/3 [==============================] - 0s 10ms/step - loss: -0.1480 - accuracy: 0.4555\n",
      "Epoch 12/18\n",
      "3/3 [==============================] - 0s 7ms/step - loss: -0.1912 - accuracy: 0.4555\n",
      "Epoch 13/18\n",
      "3/3 [==============================] - 0s 7ms/step - loss: -0.3120 - accuracy: 0.4438\n",
      "Epoch 14/18\n",
      "3/3 [==============================] - 0s 7ms/step - loss: -0.3390 - accuracy: 0.4477\n",
      "Epoch 15/18\n",
      "3/3 [==============================] - 0s 7ms/step - loss: -0.3006 - accuracy: 0.4438\n",
      "Epoch 16/18\n",
      "3/3 [==============================] - 0s 6ms/step - loss: -0.4382 - accuracy: 0.4703\n",
      "Epoch 17/18\n",
      "3/3 [==============================] - 0s 6ms/step - loss: -0.5384 - accuracy: 0.5625\n",
      "Epoch 18/18\n",
      "3/3 [==============================] - 0s 7ms/step - loss: -0.4430 - accuracy: 0.5922\n"
     ]
    }
   ],
   "source": [
    "my_grid1,my_grid2,my_grid3,my_pipe1,my_pipe2,my_pipe3 = train_hyper_tune(X_train, y_train)"
   ]
  },
  {
   "cell_type": "code",
   "execution_count": 19,
   "id": "515676f0",
   "metadata": {},
   "outputs": [
    {
     "data": {
      "text/plain": [
       "0.9783625730994151"
      ]
     },
     "execution_count": 19,
     "metadata": {},
     "output_type": "execute_result"
    }
   ],
   "source": [
    "my_grid1.best_score_"
   ]
  },
  {
   "cell_type": "code",
   "execution_count": 22,
   "id": "1a3ae391",
   "metadata": {},
   "outputs": [
    {
     "data": {
      "text/plain": [
       "0.9473684210526315"
      ]
     },
     "execution_count": 22,
     "metadata": {},
     "output_type": "execute_result"
    }
   ],
   "source": [
    "my_grid2.best_score_"
   ]
  },
  {
   "cell_type": "code",
   "execution_count": 21,
   "id": "338b3fae",
   "metadata": {},
   "outputs": [
    {
     "data": {
      "text/plain": [
       "0.6122807085514068"
      ]
     },
     "execution_count": 21,
     "metadata": {},
     "output_type": "execute_result"
    }
   ],
   "source": [
    "my_grid3.best_score_"
   ]
  },
  {
   "cell_type": "code",
   "execution_count": 23,
   "id": "d950eeb9",
   "metadata": {},
   "outputs": [],
   "source": [
    "def train_on_entire(X,y,pipe,grid_res):\n",
    "    # fit pipeline\n",
    "    pipe.set_params(**grid_res.best_params_).fit(X, y)\n",
    "    # return the newly trained pipeline\n",
    "    return pipe"
   ]
  },
  {
   "cell_type": "code",
   "execution_count": 24,
   "id": "478cf385",
   "metadata": {},
   "outputs": [
    {
     "name": "stderr",
     "output_type": "stream",
     "text": [
      "/opt/homebrew/Caskroom/miniforge/base/envs/tensorflow/lib/python3.9/site-packages/sklearn/linear_model/_sag.py:352: ConvergenceWarning: The max_iter was reached which means the coef_ did not converge\n",
      "  warnings.warn(\n"
     ]
    },
    {
     "name": "stdout",
     "output_type": "stream",
     "text": [
      "Epoch 1/12\n",
      "1/3 [=========>....................] - ETA: 1s - loss: 0.6559 - accuracy: 0.3438"
     ]
    },
    {
     "name": "stderr",
     "output_type": "stream",
     "text": [
      "2022-02-12 13:40:15.313065: I tensorflow/core/grappler/optimizers/custom_graph_optimizer_registry.cc:112] Plugin optimizer for device_type GPU is enabled.\n"
     ]
    },
    {
     "name": "stdout",
     "output_type": "stream",
     "text": [
      "3/3 [==============================] - 1s 39ms/step - loss: 0.6133 - accuracy: 0.3753\n",
      "Epoch 2/12\n",
      "3/3 [==============================] - 0s 12ms/step - loss: 0.5007 - accuracy: 0.6114\n",
      "Epoch 3/12\n",
      "3/3 [==============================] - 0s 11ms/step - loss: 0.4568 - accuracy: 0.6316\n",
      "Epoch 4/12\n",
      "3/3 [==============================] - 0s 12ms/step - loss: 0.3911 - accuracy: 0.6379\n",
      "Epoch 5/12\n",
      "3/3 [==============================] - 0s 10ms/step - loss: 0.3561 - accuracy: 0.6106\n",
      "Epoch 6/12\n",
      "3/3 [==============================] - 0s 12ms/step - loss: 0.2933 - accuracy: 0.6177\n",
      "Epoch 7/12\n",
      "3/3 [==============================] - 0s 10ms/step - loss: 0.2304 - accuracy: 0.5732\n",
      "Epoch 8/12\n",
      "3/3 [==============================] - 0s 9ms/step - loss: 0.2208 - accuracy: 0.5654\n",
      "Epoch 9/12\n",
      "3/3 [==============================] - 0s 8ms/step - loss: 0.1347 - accuracy: 0.6240\n",
      "Epoch 10/12\n",
      "3/3 [==============================] - 0s 13ms/step - loss: 0.0687 - accuracy: 0.5693\n",
      "Epoch 11/12\n",
      "3/3 [==============================] - 0s 11ms/step - loss: 0.0616 - accuracy: 0.5654\n",
      "Epoch 12/12\n",
      "3/3 [==============================] - 0s 10ms/step - loss: -0.0109 - accuracy: 0.5491\n",
      "1/1 [==============================] - 0s 130ms/step - loss: -0.3440 - accuracy: 0.6522\n"
     ]
    },
    {
     "name": "stderr",
     "output_type": "stream",
     "text": [
      "2022-02-12 13:40:15.999937: I tensorflow/core/grappler/optimizers/custom_graph_optimizer_registry.cc:112] Plugin optimizer for device_type GPU is enabled.\n"
     ]
    },
    {
     "data": {
      "text/plain": [
       "0.6521739363670349"
      ]
     },
     "execution_count": 24,
     "metadata": {},
     "output_type": "execute_result"
    }
   ],
   "source": [
    "train_on_entire(X_train,y_train,my_pipe1,my_grid1).score(X_test,y_test)\n",
    "train_on_entire(X_train,y_train,my_pipe2,my_grid2).score(X_test,y_test)\n",
    "train_on_entire(X_train,y_train,my_pipe3,my_grid3).score(X_test,y_test)"
   ]
  },
  {
   "cell_type": "code",
   "execution_count": 25,
   "id": "eb9144d1",
   "metadata": {},
   "outputs": [
    {
     "name": "stderr",
     "output_type": "stream",
     "text": [
      "/opt/homebrew/Caskroom/miniforge/base/envs/tensorflow/lib/python3.9/site-packages/sklearn/linear_model/_sag.py:352: ConvergenceWarning: The max_iter was reached which means the coef_ did not converge\n",
      "  warnings.warn(\n"
     ]
    },
    {
     "data": {
      "text/plain": [
       "1.0"
      ]
     },
     "execution_count": 25,
     "metadata": {},
     "output_type": "execute_result"
    }
   ],
   "source": [
    "train_on_entire(X_train,y_train,my_pipe1,my_grid1).score(X_test,y_test)"
   ]
  },
  {
   "cell_type": "code",
   "execution_count": 26,
   "id": "0705b9ee",
   "metadata": {},
   "outputs": [
    {
     "data": {
      "text/plain": [
       "0.9565217391304348"
      ]
     },
     "execution_count": 26,
     "metadata": {},
     "output_type": "execute_result"
    }
   ],
   "source": [
    "train_on_entire(X_train,y_train,my_pipe2,my_grid2).score(X_test,y_test)"
   ]
  },
  {
   "cell_type": "code",
   "execution_count": 27,
   "id": "5e6da578",
   "metadata": {},
   "outputs": [
    {
     "name": "stdout",
     "output_type": "stream",
     "text": [
      "Epoch 1/12\n",
      "1/3 [=========>....................] - ETA: 1s - loss: 0.4969 - accuracy: 0.3750"
     ]
    },
    {
     "name": "stderr",
     "output_type": "stream",
     "text": [
      "2022-02-12 13:40:57.083897: I tensorflow/core/grappler/optimizers/custom_graph_optimizer_registry.cc:112] Plugin optimizer for device_type GPU is enabled.\n"
     ]
    },
    {
     "name": "stdout",
     "output_type": "stream",
     "text": [
      "3/3 [==============================] - 1s 37ms/step - loss: 0.5165 - accuracy: 0.4073\n",
      "Epoch 2/12\n",
      "3/3 [==============================] - 0s 14ms/step - loss: 0.3823 - accuracy: 0.4236\n",
      "Epoch 3/12\n",
      "3/3 [==============================] - 0s 11ms/step - loss: 0.2920 - accuracy: 0.4650\n",
      "Epoch 4/12\n",
      "3/3 [==============================] - 0s 11ms/step - loss: 0.2129 - accuracy: 0.4377\n",
      "Epoch 5/12\n",
      "3/3 [==============================] - 0s 11ms/step - loss: 0.1946 - accuracy: 0.4377\n",
      "Epoch 6/12\n",
      "3/3 [==============================] - 0s 8ms/step - loss: 0.1135 - accuracy: 0.4338\n",
      "Epoch 7/12\n",
      "3/3 [==============================] - 0s 12ms/step - loss: -0.0525 - accuracy: 0.4611\n",
      "Epoch 8/12\n",
      "3/3 [==============================] - 0s 8ms/step - loss: 0.0133 - accuracy: 0.4299\n",
      "Epoch 9/12\n",
      "3/3 [==============================] - 0s 8ms/step - loss: -0.0162 - accuracy: 0.4572\n",
      "Epoch 10/12\n",
      "3/3 [==============================] - 0s 8ms/step - loss: -0.0526 - accuracy: 0.4103\n",
      "Epoch 11/12\n",
      "3/3 [==============================] - 0s 10ms/step - loss: -0.2334 - accuracy: 0.4338\n",
      "Epoch 12/12\n",
      "3/3 [==============================] - 0s 8ms/step - loss: -0.2123 - accuracy: 0.4572\n",
      "1/1 [==============================] - 0s 150ms/step - loss: -0.1346 - accuracy: 0.4783\n"
     ]
    },
    {
     "name": "stderr",
     "output_type": "stream",
     "text": [
      "2022-02-12 13:40:57.733621: I tensorflow/core/grappler/optimizers/custom_graph_optimizer_registry.cc:112] Plugin optimizer for device_type GPU is enabled.\n"
     ]
    },
    {
     "data": {
      "text/plain": [
       "0.47826087474823"
      ]
     },
     "execution_count": 27,
     "metadata": {},
     "output_type": "execute_result"
    }
   ],
   "source": [
    "train_on_entire(X_train,y_train,my_pipe3,my_grid3).score(X_test,y_test)"
   ]
  },
  {
   "cell_type": "code",
   "execution_count": null,
   "id": "255ce20d",
   "metadata": {},
   "outputs": [],
   "source": []
  }
 ],
 "metadata": {
  "kernelspec": {
   "display_name": "Python 3.9 (tensorflow)",
   "language": "python",
   "name": "tensorflow"
  },
  "language_info": {
   "codemirror_mode": {
    "name": "ipython",
    "version": 3
   },
   "file_extension": ".py",
   "mimetype": "text/x-python",
   "name": "python",
   "nbconvert_exporter": "python",
   "pygments_lexer": "ipython3",
   "version": "3.9.10"
  }
 },
 "nbformat": 4,
 "nbformat_minor": 5
}
