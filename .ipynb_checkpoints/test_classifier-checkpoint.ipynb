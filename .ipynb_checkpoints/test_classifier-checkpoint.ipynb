{
 "cells": [
  {
   "cell_type": "code",
   "execution_count": 2,
   "id": "e42cc3f5",
   "metadata": {},
   "outputs": [],
   "source": [
    "import pandas as pd\n",
    "import numpy as np\n",
    "from sklearn.model_selection import train_test_split\n",
    "from sklearn.model_selection import StratifiedKFold\n",
    "from sklearn.impute import SimpleImputer\n",
    "from sklearn.preprocessing import StandardScaler\n",
    "from sklearn.pipeline import Pipeline\n",
    "from sklearn.linear_model import LogisticRegression\n",
    "from sklearn.ensemble import RandomForestClassifier\n",
    "from keras.layers import Dense, Dropout\n",
    "from keras.models import Model, Sequential\n",
    "from keras.wrappers.scikit_learn import KerasClassifier\n",
    "from sklearn.model_selection import GridSearchCV\n",
    "from sklearn.cluster import KMeans"
   ]
  },
  {
   "cell_type": "code",
   "execution_count": 45,
   "id": "60e7ec5a",
   "metadata": {},
   "outputs": [
    {
     "ename": "ValueError",
     "evalue": "could not convert string to float: 'Asparagus Cooked'",
     "output_type": "error",
     "traceback": [
      "\u001b[0;31m---------------------------------------------------------------------------\u001b[0m",
      "\u001b[0;31mValueError\u001b[0m                                Traceback (most recent call last)",
      "Input \u001b[0;32mIn [45]\u001b[0m, in \u001b[0;36m<module>\u001b[0;34m\u001b[0m\n\u001b[1;32m      1\u001b[0m df \u001b[38;5;241m=\u001b[39m pd\u001b[38;5;241m.\u001b[39mread_csv(\u001b[38;5;124m'\u001b[39m\u001b[38;5;124mfood.csv\u001b[39m\u001b[38;5;124m'\u001b[39m)\n\u001b[0;32m----> 2\u001b[0m df \u001b[38;5;241m=\u001b[39m \u001b[43mdf\u001b[49m\u001b[38;5;241;43m.\u001b[39;49m\u001b[43mastype\u001b[49m\u001b[43m(\u001b[49m\u001b[38;5;124;43m'\u001b[39;49m\u001b[38;5;124;43mfloat32\u001b[39;49m\u001b[38;5;124;43m'\u001b[39;49m\u001b[43m)\u001b[49m\n\u001b[1;32m      3\u001b[0m \u001b[38;5;28mprint\u001b[39m(df\u001b[38;5;241m.\u001b[39mhead())\n",
      "File \u001b[0;32m/opt/homebrew/Caskroom/miniforge/base/envs/tensorflow/lib/python3.9/site-packages/pandas/core/generic.py:5920\u001b[0m, in \u001b[0;36mNDFrame.astype\u001b[0;34m(self, dtype, copy, errors)\u001b[0m\n\u001b[1;32m   5913\u001b[0m     results \u001b[38;5;241m=\u001b[39m [\n\u001b[1;32m   5914\u001b[0m         \u001b[38;5;28mself\u001b[39m\u001b[38;5;241m.\u001b[39miloc[:, i]\u001b[38;5;241m.\u001b[39mastype(dtype, copy\u001b[38;5;241m=\u001b[39mcopy)\n\u001b[1;32m   5915\u001b[0m         \u001b[38;5;28;01mfor\u001b[39;00m i \u001b[38;5;129;01min\u001b[39;00m \u001b[38;5;28mrange\u001b[39m(\u001b[38;5;28mlen\u001b[39m(\u001b[38;5;28mself\u001b[39m\u001b[38;5;241m.\u001b[39mcolumns))\n\u001b[1;32m   5916\u001b[0m     ]\n\u001b[1;32m   5918\u001b[0m \u001b[38;5;28;01melse\u001b[39;00m:\n\u001b[1;32m   5919\u001b[0m     \u001b[38;5;66;03m# else, only a single dtype is given\u001b[39;00m\n\u001b[0;32m-> 5920\u001b[0m     new_data \u001b[38;5;241m=\u001b[39m \u001b[38;5;28;43mself\u001b[39;49m\u001b[38;5;241;43m.\u001b[39;49m\u001b[43m_mgr\u001b[49m\u001b[38;5;241;43m.\u001b[39;49m\u001b[43mastype\u001b[49m\u001b[43m(\u001b[49m\u001b[43mdtype\u001b[49m\u001b[38;5;241;43m=\u001b[39;49m\u001b[43mdtype\u001b[49m\u001b[43m,\u001b[49m\u001b[43m \u001b[49m\u001b[43mcopy\u001b[49m\u001b[38;5;241;43m=\u001b[39;49m\u001b[43mcopy\u001b[49m\u001b[43m,\u001b[49m\u001b[43m \u001b[49m\u001b[43merrors\u001b[49m\u001b[38;5;241;43m=\u001b[39;49m\u001b[43merrors\u001b[49m\u001b[43m)\u001b[49m\n\u001b[1;32m   5921\u001b[0m     \u001b[38;5;28;01mreturn\u001b[39;00m \u001b[38;5;28mself\u001b[39m\u001b[38;5;241m.\u001b[39m_constructor(new_data)\u001b[38;5;241m.\u001b[39m__finalize__(\u001b[38;5;28mself\u001b[39m, method\u001b[38;5;241m=\u001b[39m\u001b[38;5;124m\"\u001b[39m\u001b[38;5;124mastype\u001b[39m\u001b[38;5;124m\"\u001b[39m)\n\u001b[1;32m   5923\u001b[0m \u001b[38;5;66;03m# GH 33113: handle empty frame or series\u001b[39;00m\n",
      "File \u001b[0;32m/opt/homebrew/Caskroom/miniforge/base/envs/tensorflow/lib/python3.9/site-packages/pandas/core/internals/managers.py:419\u001b[0m, in \u001b[0;36mBaseBlockManager.astype\u001b[0;34m(self, dtype, copy, errors)\u001b[0m\n\u001b[1;32m    418\u001b[0m \u001b[38;5;28;01mdef\u001b[39;00m \u001b[38;5;21mastype\u001b[39m(\u001b[38;5;28mself\u001b[39m: T, dtype, copy: \u001b[38;5;28mbool\u001b[39m \u001b[38;5;241m=\u001b[39m \u001b[38;5;28;01mFalse\u001b[39;00m, errors: \u001b[38;5;28mstr\u001b[39m \u001b[38;5;241m=\u001b[39m \u001b[38;5;124m\"\u001b[39m\u001b[38;5;124mraise\u001b[39m\u001b[38;5;124m\"\u001b[39m) \u001b[38;5;241m-\u001b[39m\u001b[38;5;241m>\u001b[39m T:\n\u001b[0;32m--> 419\u001b[0m     \u001b[38;5;28;01mreturn\u001b[39;00m \u001b[38;5;28;43mself\u001b[39;49m\u001b[38;5;241;43m.\u001b[39;49m\u001b[43mapply\u001b[49m\u001b[43m(\u001b[49m\u001b[38;5;124;43m\"\u001b[39;49m\u001b[38;5;124;43mastype\u001b[39;49m\u001b[38;5;124;43m\"\u001b[39;49m\u001b[43m,\u001b[49m\u001b[43m \u001b[49m\u001b[43mdtype\u001b[49m\u001b[38;5;241;43m=\u001b[39;49m\u001b[43mdtype\u001b[49m\u001b[43m,\u001b[49m\u001b[43m \u001b[49m\u001b[43mcopy\u001b[49m\u001b[38;5;241;43m=\u001b[39;49m\u001b[43mcopy\u001b[49m\u001b[43m,\u001b[49m\u001b[43m \u001b[49m\u001b[43merrors\u001b[49m\u001b[38;5;241;43m=\u001b[39;49m\u001b[43merrors\u001b[49m\u001b[43m)\u001b[49m\n",
      "File \u001b[0;32m/opt/homebrew/Caskroom/miniforge/base/envs/tensorflow/lib/python3.9/site-packages/pandas/core/internals/managers.py:304\u001b[0m, in \u001b[0;36mBaseBlockManager.apply\u001b[0;34m(self, f, align_keys, ignore_failures, **kwargs)\u001b[0m\n\u001b[1;32m    302\u001b[0m         applied \u001b[38;5;241m=\u001b[39m b\u001b[38;5;241m.\u001b[39mapply(f, \u001b[38;5;241m*\u001b[39m\u001b[38;5;241m*\u001b[39mkwargs)\n\u001b[1;32m    303\u001b[0m     \u001b[38;5;28;01melse\u001b[39;00m:\n\u001b[0;32m--> 304\u001b[0m         applied \u001b[38;5;241m=\u001b[39m \u001b[38;5;28;43mgetattr\u001b[39;49m\u001b[43m(\u001b[49m\u001b[43mb\u001b[49m\u001b[43m,\u001b[49m\u001b[43m \u001b[49m\u001b[43mf\u001b[49m\u001b[43m)\u001b[49m\u001b[43m(\u001b[49m\u001b[38;5;241;43m*\u001b[39;49m\u001b[38;5;241;43m*\u001b[39;49m\u001b[43mkwargs\u001b[49m\u001b[43m)\u001b[49m\n\u001b[1;32m    305\u001b[0m \u001b[38;5;28;01mexcept\u001b[39;00m (\u001b[38;5;167;01mTypeError\u001b[39;00m, \u001b[38;5;167;01mNotImplementedError\u001b[39;00m):\n\u001b[1;32m    306\u001b[0m     \u001b[38;5;28;01mif\u001b[39;00m \u001b[38;5;129;01mnot\u001b[39;00m ignore_failures:\n",
      "File \u001b[0;32m/opt/homebrew/Caskroom/miniforge/base/envs/tensorflow/lib/python3.9/site-packages/pandas/core/internals/blocks.py:582\u001b[0m, in \u001b[0;36mBlock.astype\u001b[0;34m(self, dtype, copy, errors)\u001b[0m\n\u001b[1;32m    564\u001b[0m \u001b[38;5;124;03m\"\"\"\u001b[39;00m\n\u001b[1;32m    565\u001b[0m \u001b[38;5;124;03mCoerce to the new dtype.\u001b[39;00m\n\u001b[1;32m    566\u001b[0m \n\u001b[0;32m   (...)\u001b[0m\n\u001b[1;32m    578\u001b[0m \u001b[38;5;124;03mBlock\u001b[39;00m\n\u001b[1;32m    579\u001b[0m \u001b[38;5;124;03m\"\"\"\u001b[39;00m\n\u001b[1;32m    580\u001b[0m values \u001b[38;5;241m=\u001b[39m \u001b[38;5;28mself\u001b[39m\u001b[38;5;241m.\u001b[39mvalues\n\u001b[0;32m--> 582\u001b[0m new_values \u001b[38;5;241m=\u001b[39m \u001b[43mastype_array_safe\u001b[49m\u001b[43m(\u001b[49m\u001b[43mvalues\u001b[49m\u001b[43m,\u001b[49m\u001b[43m \u001b[49m\u001b[43mdtype\u001b[49m\u001b[43m,\u001b[49m\u001b[43m \u001b[49m\u001b[43mcopy\u001b[49m\u001b[38;5;241;43m=\u001b[39;49m\u001b[43mcopy\u001b[49m\u001b[43m,\u001b[49m\u001b[43m \u001b[49m\u001b[43merrors\u001b[49m\u001b[38;5;241;43m=\u001b[39;49m\u001b[43merrors\u001b[49m\u001b[43m)\u001b[49m\n\u001b[1;32m    584\u001b[0m new_values \u001b[38;5;241m=\u001b[39m maybe_coerce_values(new_values)\n\u001b[1;32m    585\u001b[0m newb \u001b[38;5;241m=\u001b[39m \u001b[38;5;28mself\u001b[39m\u001b[38;5;241m.\u001b[39mmake_block(new_values)\n",
      "File \u001b[0;32m/opt/homebrew/Caskroom/miniforge/base/envs/tensorflow/lib/python3.9/site-packages/pandas/core/dtypes/cast.py:1292\u001b[0m, in \u001b[0;36mastype_array_safe\u001b[0;34m(values, dtype, copy, errors)\u001b[0m\n\u001b[1;32m   1289\u001b[0m     dtype \u001b[38;5;241m=\u001b[39m dtype\u001b[38;5;241m.\u001b[39mnumpy_dtype\n\u001b[1;32m   1291\u001b[0m \u001b[38;5;28;01mtry\u001b[39;00m:\n\u001b[0;32m-> 1292\u001b[0m     new_values \u001b[38;5;241m=\u001b[39m \u001b[43mastype_array\u001b[49m\u001b[43m(\u001b[49m\u001b[43mvalues\u001b[49m\u001b[43m,\u001b[49m\u001b[43m \u001b[49m\u001b[43mdtype\u001b[49m\u001b[43m,\u001b[49m\u001b[43m \u001b[49m\u001b[43mcopy\u001b[49m\u001b[38;5;241;43m=\u001b[39;49m\u001b[43mcopy\u001b[49m\u001b[43m)\u001b[49m\n\u001b[1;32m   1293\u001b[0m \u001b[38;5;28;01mexcept\u001b[39;00m (\u001b[38;5;167;01mValueError\u001b[39;00m, \u001b[38;5;167;01mTypeError\u001b[39;00m):\n\u001b[1;32m   1294\u001b[0m     \u001b[38;5;66;03m# e.g. astype_nansafe can fail on object-dtype of strings\u001b[39;00m\n\u001b[1;32m   1295\u001b[0m     \u001b[38;5;66;03m#  trying to convert to float\u001b[39;00m\n\u001b[1;32m   1296\u001b[0m     \u001b[38;5;28;01mif\u001b[39;00m errors \u001b[38;5;241m==\u001b[39m \u001b[38;5;124m\"\u001b[39m\u001b[38;5;124mignore\u001b[39m\u001b[38;5;124m\"\u001b[39m:\n",
      "File \u001b[0;32m/opt/homebrew/Caskroom/miniforge/base/envs/tensorflow/lib/python3.9/site-packages/pandas/core/dtypes/cast.py:1237\u001b[0m, in \u001b[0;36mastype_array\u001b[0;34m(values, dtype, copy)\u001b[0m\n\u001b[1;32m   1234\u001b[0m     values \u001b[38;5;241m=\u001b[39m values\u001b[38;5;241m.\u001b[39mastype(dtype, copy\u001b[38;5;241m=\u001b[39mcopy)\n\u001b[1;32m   1236\u001b[0m \u001b[38;5;28;01melse\u001b[39;00m:\n\u001b[0;32m-> 1237\u001b[0m     values \u001b[38;5;241m=\u001b[39m \u001b[43mastype_nansafe\u001b[49m\u001b[43m(\u001b[49m\u001b[43mvalues\u001b[49m\u001b[43m,\u001b[49m\u001b[43m \u001b[49m\u001b[43mdtype\u001b[49m\u001b[43m,\u001b[49m\u001b[43m \u001b[49m\u001b[43mcopy\u001b[49m\u001b[38;5;241;43m=\u001b[39;49m\u001b[43mcopy\u001b[49m\u001b[43m)\u001b[49m\n\u001b[1;32m   1239\u001b[0m \u001b[38;5;66;03m# in pandas we don't store numpy str dtypes, so convert to object\u001b[39;00m\n\u001b[1;32m   1240\u001b[0m \u001b[38;5;28;01mif\u001b[39;00m \u001b[38;5;28misinstance\u001b[39m(dtype, np\u001b[38;5;241m.\u001b[39mdtype) \u001b[38;5;129;01mand\u001b[39;00m \u001b[38;5;28missubclass\u001b[39m(values\u001b[38;5;241m.\u001b[39mdtype\u001b[38;5;241m.\u001b[39mtype, \u001b[38;5;28mstr\u001b[39m):\n",
      "File \u001b[0;32m/opt/homebrew/Caskroom/miniforge/base/envs/tensorflow/lib/python3.9/site-packages/pandas/core/dtypes/cast.py:1098\u001b[0m, in \u001b[0;36mastype_nansafe\u001b[0;34m(arr, dtype, copy, skipna)\u001b[0m\n\u001b[1;32m   1096\u001b[0m \u001b[38;5;28;01mif\u001b[39;00m arr\u001b[38;5;241m.\u001b[39mndim \u001b[38;5;241m>\u001b[39m \u001b[38;5;241m1\u001b[39m:\n\u001b[1;32m   1097\u001b[0m     flat \u001b[38;5;241m=\u001b[39m arr\u001b[38;5;241m.\u001b[39mravel()\n\u001b[0;32m-> 1098\u001b[0m     result \u001b[38;5;241m=\u001b[39m \u001b[43mastype_nansafe\u001b[49m\u001b[43m(\u001b[49m\u001b[43mflat\u001b[49m\u001b[43m,\u001b[49m\u001b[43m \u001b[49m\u001b[43mdtype\u001b[49m\u001b[43m,\u001b[49m\u001b[43m \u001b[49m\u001b[43mcopy\u001b[49m\u001b[38;5;241;43m=\u001b[39;49m\u001b[43mcopy\u001b[49m\u001b[43m,\u001b[49m\u001b[43m \u001b[49m\u001b[43mskipna\u001b[49m\u001b[38;5;241;43m=\u001b[39;49m\u001b[43mskipna\u001b[49m\u001b[43m)\u001b[49m\n\u001b[1;32m   1099\u001b[0m     \u001b[38;5;66;03m# error: Item \"ExtensionArray\" of \"Union[ExtensionArray, ndarray]\" has no\u001b[39;00m\n\u001b[1;32m   1100\u001b[0m     \u001b[38;5;66;03m# attribute \"reshape\"\u001b[39;00m\n\u001b[1;32m   1101\u001b[0m     \u001b[38;5;28;01mreturn\u001b[39;00m result\u001b[38;5;241m.\u001b[39mreshape(arr\u001b[38;5;241m.\u001b[39mshape)  \u001b[38;5;66;03m# type: ignore[union-attr]\u001b[39;00m\n",
      "File \u001b[0;32m/opt/homebrew/Caskroom/miniforge/base/envs/tensorflow/lib/python3.9/site-packages/pandas/core/dtypes/cast.py:1181\u001b[0m, in \u001b[0;36mastype_nansafe\u001b[0;34m(arr, dtype, copy, skipna)\u001b[0m\n\u001b[1;32m   1177\u001b[0m     \u001b[38;5;28;01mraise\u001b[39;00m \u001b[38;5;167;01mValueError\u001b[39;00m(msg)\n\u001b[1;32m   1179\u001b[0m \u001b[38;5;28;01mif\u001b[39;00m copy \u001b[38;5;129;01mor\u001b[39;00m is_object_dtype(arr\u001b[38;5;241m.\u001b[39mdtype) \u001b[38;5;129;01mor\u001b[39;00m is_object_dtype(dtype):\n\u001b[1;32m   1180\u001b[0m     \u001b[38;5;66;03m# Explicit copy, or required since NumPy can't view from / to object.\u001b[39;00m\n\u001b[0;32m-> 1181\u001b[0m     \u001b[38;5;28;01mreturn\u001b[39;00m \u001b[43marr\u001b[49m\u001b[38;5;241;43m.\u001b[39;49m\u001b[43mastype\u001b[49m\u001b[43m(\u001b[49m\u001b[43mdtype\u001b[49m\u001b[43m,\u001b[49m\u001b[43m \u001b[49m\u001b[43mcopy\u001b[49m\u001b[38;5;241;43m=\u001b[39;49m\u001b[38;5;28;43;01mTrue\u001b[39;49;00m\u001b[43m)\u001b[49m\n\u001b[1;32m   1183\u001b[0m \u001b[38;5;28;01mreturn\u001b[39;00m arr\u001b[38;5;241m.\u001b[39mastype(dtype, copy\u001b[38;5;241m=\u001b[39mcopy)\n",
      "\u001b[0;31mValueError\u001b[0m: could not convert string to float: 'Asparagus Cooked'"
     ]
    }
   ],
   "source": [
    "df = pd.read_csv('food.csv')\n",
    "df = df.astype('float32')\n",
    "print(df.head())"
   ]
  },
  {
   "cell_type": "code",
   "execution_count": 46,
   "id": "16fd8dde",
   "metadata": {},
   "outputs": [],
   "source": [
    "def cluster_food(FoodItemIDData, FoodItem_Test):\n",
    "    ###### K-MEANS FOR ALL FOOD\n",
    "    \n",
    "    MealDatacalorie=FoodItemIDData[0:,2:len(FoodItemIDData)] #nutrion data\n",
    "    MealDatacalorie = MealDatacalorie[:, [0,1,2,7,8]]\n",
    "\n",
    "    # print(MealDatacalorie)\n",
    "    S = StandardScaler()\n",
    "    foods_scaled_data = S.fit_transform(MealDatacalorie)\n",
    "    # print(foods_scaled_data)\n",
    "\n",
    "    k_means_meals = KMeans(init=\"k-means++\", n_clusters=3, n_init=50, max_iter=500, random_state=42)\n",
    "    k_means_meals.fit(foods_scaled_data)\n",
    "    labels=k_means_meals.labels_\n",
    "\n",
    "    FoodItem_Test['KMCluster'] = labels\n",
    "\n",
    "    # df1 = FoodItem_Test[FoodItem_Test.KMCluster==0]\n",
    "    # df2 = FoodItem_Test[FoodItem_Test.KMCluster==1]\n",
    "    # df3 = FoodItem_Test[FoodItem_Test.KMCluster==2]\n",
    "    # df4 = FoodItem_Test[FoodItem_Test.KMCluster==3]\n",
    "    # fig = plt.figure(figsize = (10, 5))\n",
    "    # plt.scatter(df1.Carbohydrates,df1['Calories'],color='green')\n",
    "    # plt.scatter(df2.Carbohydrates,df2['Calories'],color='red')\n",
    "    # plt.scatter(df3.Carbohydrates,df3['Calories'],color='black')\n",
    "    # plt.scatter(df4.Carbohydrates,df4['Calories'],color='yellow')\n",
    "    # plt.scatter(k_means_meals.cluster_centers_[:,1],k_means_meals.cluster_centers_[:,0],color='purple',marker='*',label='centroid')\n",
    "    # plt.xlabel('Carbohydrates')\n",
    "    # plt.ylabel('Calories')\n",
    "    # plt.legend()\n",
    "    # st.pyplot(fig)\n",
    "\n",
    "    # from sklearn.decomposition import PCA\n",
    "    # fig = plt.figure(figsize = (10, 5))\n",
    "    # reduced_data = PCA(n_components=2).fit_transform(foods_scaled_data)\n",
    "    # results = pd.DataFrame(reduced_data, columns=['pca1','pca2'])\n",
    "    # sns.scatterplot(x=results[\"pca1\"], y=results[\"pca2\"], hue=k_means_meals)\n",
    "    # plt.title('K-means Clustering with 2 dimensions')\n",
    "    # st.pyplot(fig)\n",
    "\n",
    "    # Check Elbow plot\n",
    "    # wss =[] \n",
    "    # for i in range(1,11):\n",
    "    #     KM_Meals = KMeans(init=\"k-means++\", n_clusters=i, n_init=50, max_iter=500, random_state=42)\n",
    "    #     KM_Meals.fit(foods_scaled_data)\n",
    "    #     wss.append(KM_Meals.inertia_)\n",
    "    # fig = plt.figure(figsize = (10, 5))\n",
    "    # plt.plot(range(1,11), wss, marker = '*')\n",
    "    # st.pyplot(fig)\n",
    "\n",
    "    # # Check silhouette score\n",
    "    # for i in range(2,10):\n",
    "    #     k_means_three_meals = KMeans(init=\"k-means++\", n_clusters=i, n_init=50, max_iter=500, random_state=42)\n",
    "    #     k_means_three_meals.fit(foods_scaled_data)\n",
    "    #     print('WSS for K=:',k_means_three_meals.inertia_)\n",
    "    #     labels_three = k_means_three_meals.labels_\n",
    "    #     st.write(silhouette_score(foods_scaled_data, labels_three))\n",
    "    \n",
    "    # Overview data in clusters\n",
    "    length = len(FoodItemIDData) + 2\n",
    "    FoodItem_Test['KMCluster'] = labels\n",
    "    clust_profile=FoodItem_Test.iloc[:,[2,3,4,9,10]].astype(float).groupby(FoodItem_Test['KMCluster']).mean()\n",
    "    clust_profile['KMFrequency']=FoodItem_Test.KMCluster.value_counts().sort_index()\n",
    "    clust = pd.DataFrame(clust_profile)\n",
    "    print(clust)\n",
    "\n",
    "    # c_data_path = \"/Users/hoaibao/DATN/DATN_ML/image\"\n",
    "    # L = FoodItem_Test['Food_items']\n",
    "    # n_row = 6\n",
    "    # n_col=6\n",
    "    # for i in range(4):\n",
    "    #     fig1 = plt.figure(figsize = (10, 5))\n",
    "    #     fig, axs = plt.subplots(n_row, n_col, figsize=(7, 7))\n",
    "    #     axs = axs.flatten()\n",
    "    #     for img, ax in zip(L[ k_means_meals.labels_ == i][:36], axs):\n",
    "    #         ax.imshow(mpimg.imread(os.path.join(c_data_path,img+'.jpeg')))\n",
    "    #     plt.tight_layout()\n",
    "    #     st.pyplot(fig)\n",
    "    #     st.write('----------------------------------------------------------------------')\n",
    "\n",
    "    return labels"
   ]
  },
  {
   "cell_type": "code",
   "execution_count": 47,
   "id": "563edf02",
   "metadata": {},
   "outputs": [],
   "source": [
    "def food_data():\n",
    "    FoodsData = df\n",
    "    FoodsData=FoodsData.T \n",
    "    val=list(np.arange(5,16))\n",
    "    Valapnd=[0]+[4]+val \n",
    "    FoodItemIDData=FoodsData.iloc[Valapnd]\n",
    "    FoodItemIDData=FoodItemIDData.T\n",
    "\n",
    "    return FoodItemIDData"
   ]
  },
  {
   "cell_type": "code",
   "execution_count": 48,
   "id": "0be177ef",
   "metadata": {},
   "outputs": [
    {
     "name": "stdout",
     "output_type": "stream",
     "text": [
      "             Calories       Fats   Proteins  Carbohydrates     Fibre  \\\n",
      "KMCluster                                                              \n",
      "0          174.354839   7.267419  23.206452       3.122258  0.441935   \n",
      "1           82.980769   2.140577   3.150192      13.534231  1.994231   \n",
      "2          377.531250  18.165625  11.643750      46.250000  5.009375   \n",
      "\n",
      "           KMFrequency  \n",
      "KMCluster               \n",
      "0                   31  \n",
      "1                   52  \n",
      "2                   32  \n",
      "                 Food_items VegNovVeg Calories  Fats Proteins  Iron Calcium  \\\n",
      "0          Asparagus Cooked         0       39   2.2      2.4  0.91    23.0   \n",
      "1                  Avocados         0      160  15.0      2.0  0.55    12.0   \n",
      "2                   Bananas         0       89   0.3      1.1  0.26     5.0   \n",
      "3      Bagels made in wheat         0      250   1.5     10.0  2.76    20.0   \n",
      "4                   Berries         0       57   0.3      0.7   0.0     6.0   \n",
      "..                      ...       ...      ...   ...      ...   ...     ...   \n",
      "110                   Mango         0       60   0.4      0.8   0.0    11.0   \n",
      "111           Cabbage green         0       25   0.0      1.2   0.0    40.0   \n",
      "112              Soy boiled         0      173   9.0     16.6   5.0   102.0   \n",
      "113  Coca-Cola Zero calorie         0        0   0.0      0.0   0.0     0.0   \n",
      "114     Sliced bell peppers         0       26   0.0      1.0   0.0     9.0   \n",
      "\n",
      "    Sodium Potassium Carbohydrates Fibre VitaminD Sugars  KMCluster  \n",
      "0       14     224.0           4.1   2.0      0.0    1.3          1  \n",
      "1        7     485.0           8.5   6.7      0.0    0.7          1  \n",
      "2        1     358.0          23.0   2.6      0.0   12.0          1  \n",
      "3      439     165.0          49.0   4.1      0.0    6.1          2  \n",
      "4        1      77.0          14.5   2.4      0.0   10.0          1  \n",
      "..     ...       ...           ...   ...      ...    ...        ...  \n",
      "110      1     168.0          15.0   1.6      0.0   14.0          1  \n",
      "111     18     170.0           5.8   2.5      0.0    3.2          1  \n",
      "112    232     512.0          10.0   6.0      0.0    3.0          0  \n",
      "113     11      17.0           0.0   0.0      0.0    0.0          1  \n",
      "114      0       0.0           6.2   1.3      0.0    0.4          1  \n",
      "\n",
      "[115 rows x 14 columns]\n",
      "    Calories  Fats Proteins Carbohydrates Fibre\n",
      "0         39   2.2      2.4           4.1   2.0\n",
      "1        160  15.0      2.0           8.5   6.7\n",
      "2         89   0.3      1.1          23.0   2.6\n",
      "3        250   1.5     10.0          49.0   4.1\n",
      "4         57   0.3      0.7          14.5   2.4\n",
      "..       ...   ...      ...           ...   ...\n",
      "110       60   0.4      0.8          15.0   1.6\n",
      "111       25   0.0      1.2           5.8   2.5\n",
      "112      173   9.0     16.6          10.0   6.0\n",
      "113        0   0.0      0.0           0.0   0.0\n",
      "114       26   0.0      1.0           6.2   1.3\n",
      "\n",
      "[115 rows x 5 columns]\n"
     ]
    }
   ],
   "source": [
    "FoodItemIDData = food_data()\n",
    "\n",
    "FoodNutrion = FoodItemIDData\n",
    "\n",
    "FoodItemIDData=FoodItemIDData.to_numpy()\n",
    "\n",
    "foodlbs = cluster_food(FoodItemIDData, FoodNutrion)\n",
    "\n",
    "print(FoodNutrion)\n",
    "df = FoodNutrion\n",
    "\n",
    "y = df['KMCluster']\n",
    "X = df.drop(columns=['KMCluster','Food_items','VegNovVeg','Iron', 'Calcium', 'Sodium', 'Potassium','VitaminD','Sugars'])\n",
    "print(X)\n",
    "\n",
    "X_train, X_test, y_train, y_test = train_test_split(X, y, test_size=0.3,stratify=y, random_state=42)"
   ]
  },
  {
   "cell_type": "code",
   "execution_count": 49,
   "id": "1b79ee61",
   "metadata": {},
   "outputs": [],
   "source": [
    "def my_DL(epochs=6,batchsize=512):\n",
    "    model = Sequential()\n",
    "    model.add(Dense(32,activation='relu'))\n",
    "    model.add(Dense(16,activation='relu'))\n",
    "    model.add(Dense(1,activation='sigmoid'))\n",
    "    model.compile(loss='binary_crossentropy',optimizer='rmsprop', metrics=['accuracy'])\n",
    "    return model"
   ]
  },
  {
   "cell_type": "code",
   "execution_count": 50,
   "id": "88ab686c",
   "metadata": {},
   "outputs": [],
   "source": [
    "def train_hyper_tune(X,y):\n",
    "    # create the pre-processing component\n",
    "    my_scaler = StandardScaler()\n",
    "    my_imputer = SimpleImputer(strategy=\"median\")\n",
    "    \n",
    "    # define classifiers\n",
    "    ## Classifier 1: Logistic Regression\n",
    "    clf_LR = LogisticRegression(random_state=0,penalty='elasticnet',solver='saga')\n",
    "    ## Classifier 2: Random Forest Classifier\n",
    "    clf_RF = RandomForestClassifier(random_state=0)\n",
    "    ## Classifier 3: Deep Learning Binary Classifier\n",
    "    clf_DL = KerasClassifier(build_fn=my_DL)\n",
    "    \n",
    "    # define pipeline for three classifiers\n",
    "    ## clf_LR\n",
    "    pipe1 = Pipeline([('imputer', my_imputer), ('scaler', my_scaler), ('lr_model',clf_LR)])\n",
    "    ## clf_RF\n",
    "    pipe2 = Pipeline([('imputer', my_imputer), ('scaler', my_scaler), ('rf_model',clf_RF)])\n",
    "    ## clf_DL\n",
    "    pipe3 = Pipeline([('imputer', my_imputer), ('scaler', my_scaler), ('dl_model',clf_DL)])\n",
    "    \n",
    "    # create hyperparameter space of the three models\n",
    "    ## clf_LR\n",
    "    param_grid1 = {\n",
    "        'lr_model__C' : [1e-1,1,10],\n",
    "        'lr_model__l1_ratio' : [0,0.5,1]\n",
    "    }\n",
    "    ## clf_RF\n",
    "    param_grid2 = {\n",
    "        'rf_model__n_estimators' : [50,100],\n",
    "        'rf_model__max_features' : [0.8,\"auto\"],\n",
    "        'rf_model__max_depth' : [4,5]\n",
    "    }\n",
    "    ## clf_DL\n",
    "    param_grid3 = {\n",
    "        'dl_model__epochs' : [6,12,18,24],\n",
    "        'dl_model__batchsize' : [256,512]\n",
    "    }\n",
    "    \n",
    "    # set GridSearch via 5-fold cross-validation\n",
    "    ## clf_LR\n",
    "    grid1 = GridSearchCV(pipe1, cv=5, param_grid=param_grid1)\n",
    "    ## clf_RF\n",
    "    grid2 = GridSearchCV(pipe2, cv=5, param_grid=param_grid2)\n",
    "    ## clf_DL\n",
    "    grid3 = GridSearchCV(pipe3, cv=5, param_grid=param_grid3)\n",
    "    \n",
    "    # run the hyperparameter tunning process\n",
    "    grid1.fit(X,y)\n",
    "    grid2.fit(X,y)\n",
    "    grid3.fit(X,y)\n",
    "    \n",
    "    # return results of the tunning process\n",
    "    return grid1,grid2,grid3,pipe1,pipe2,pipe3"
   ]
  },
  {
   "cell_type": "code",
   "execution_count": 54,
   "id": "e7d6aaa2",
   "metadata": {},
   "outputs": [
    {
     "name": "stderr",
     "output_type": "stream",
     "text": [
      "/opt/homebrew/Caskroom/miniforge/base/envs/tensorflow/lib/python3.9/site-packages/sklearn/linear_model/_sag.py:352: ConvergenceWarning: The max_iter was reached which means the coef_ did not converge\n",
      "  warnings.warn(\n",
      "/opt/homebrew/Caskroom/miniforge/base/envs/tensorflow/lib/python3.9/site-packages/sklearn/linear_model/_sag.py:352: ConvergenceWarning: The max_iter was reached which means the coef_ did not converge\n",
      "  warnings.warn(\n",
      "/opt/homebrew/Caskroom/miniforge/base/envs/tensorflow/lib/python3.9/site-packages/sklearn/linear_model/_sag.py:352: ConvergenceWarning: The max_iter was reached which means the coef_ did not converge\n",
      "  warnings.warn(\n",
      "/opt/homebrew/Caskroom/miniforge/base/envs/tensorflow/lib/python3.9/site-packages/sklearn/linear_model/_sag.py:352: ConvergenceWarning: The max_iter was reached which means the coef_ did not converge\n",
      "  warnings.warn(\n",
      "/opt/homebrew/Caskroom/miniforge/base/envs/tensorflow/lib/python3.9/site-packages/sklearn/linear_model/_sag.py:352: ConvergenceWarning: The max_iter was reached which means the coef_ did not converge\n",
      "  warnings.warn(\n",
      "/opt/homebrew/Caskroom/miniforge/base/envs/tensorflow/lib/python3.9/site-packages/sklearn/linear_model/_sag.py:352: ConvergenceWarning: The max_iter was reached which means the coef_ did not converge\n",
      "  warnings.warn(\n",
      "/opt/homebrew/Caskroom/miniforge/base/envs/tensorflow/lib/python3.9/site-packages/sklearn/linear_model/_sag.py:352: ConvergenceWarning: The max_iter was reached which means the coef_ did not converge\n",
      "  warnings.warn(\n",
      "/opt/homebrew/Caskroom/miniforge/base/envs/tensorflow/lib/python3.9/site-packages/sklearn/linear_model/_sag.py:352: ConvergenceWarning: The max_iter was reached which means the coef_ did not converge\n",
      "  warnings.warn(\n",
      "/opt/homebrew/Caskroom/miniforge/base/envs/tensorflow/lib/python3.9/site-packages/sklearn/linear_model/_sag.py:352: ConvergenceWarning: The max_iter was reached which means the coef_ did not converge\n",
      "  warnings.warn(\n",
      "/opt/homebrew/Caskroom/miniforge/base/envs/tensorflow/lib/python3.9/site-packages/sklearn/linear_model/_sag.py:352: ConvergenceWarning: The max_iter was reached which means the coef_ did not converge\n",
      "  warnings.warn(\n",
      "/opt/homebrew/Caskroom/miniforge/base/envs/tensorflow/lib/python3.9/site-packages/sklearn/linear_model/_sag.py:352: ConvergenceWarning: The max_iter was reached which means the coef_ did not converge\n",
      "  warnings.warn(\n",
      "/opt/homebrew/Caskroom/miniforge/base/envs/tensorflow/lib/python3.9/site-packages/sklearn/linear_model/_sag.py:352: ConvergenceWarning: The max_iter was reached which means the coef_ did not converge\n",
      "  warnings.warn(\n",
      "/opt/homebrew/Caskroom/miniforge/base/envs/tensorflow/lib/python3.9/site-packages/sklearn/linear_model/_sag.py:352: ConvergenceWarning: The max_iter was reached which means the coef_ did not converge\n",
      "  warnings.warn(\n",
      "/opt/homebrew/Caskroom/miniforge/base/envs/tensorflow/lib/python3.9/site-packages/sklearn/linear_model/_sag.py:352: ConvergenceWarning: The max_iter was reached which means the coef_ did not converge\n",
      "  warnings.warn(\n",
      "/opt/homebrew/Caskroom/miniforge/base/envs/tensorflow/lib/python3.9/site-packages/sklearn/linear_model/_sag.py:352: ConvergenceWarning: The max_iter was reached which means the coef_ did not converge\n",
      "  warnings.warn(\n",
      "/opt/homebrew/Caskroom/miniforge/base/envs/tensorflow/lib/python3.9/site-packages/sklearn/linear_model/_sag.py:352: ConvergenceWarning: The max_iter was reached which means the coef_ did not converge\n",
      "  warnings.warn(\n",
      "/opt/homebrew/Caskroom/miniforge/base/envs/tensorflow/lib/python3.9/site-packages/sklearn/linear_model/_sag.py:352: ConvergenceWarning: The max_iter was reached which means the coef_ did not converge\n",
      "  warnings.warn(\n",
      "/opt/homebrew/Caskroom/miniforge/base/envs/tensorflow/lib/python3.9/site-packages/sklearn/linear_model/_sag.py:352: ConvergenceWarning: The max_iter was reached which means the coef_ did not converge\n",
      "  warnings.warn(\n",
      "/opt/homebrew/Caskroom/miniforge/base/envs/tensorflow/lib/python3.9/site-packages/sklearn/linear_model/_sag.py:352: ConvergenceWarning: The max_iter was reached which means the coef_ did not converge\n",
      "  warnings.warn(\n",
      "/opt/homebrew/Caskroom/miniforge/base/envs/tensorflow/lib/python3.9/site-packages/sklearn/linear_model/_sag.py:352: ConvergenceWarning: The max_iter was reached which means the coef_ did not converge\n",
      "  warnings.warn(\n",
      "/opt/homebrew/Caskroom/miniforge/base/envs/tensorflow/lib/python3.9/site-packages/sklearn/linear_model/_sag.py:352: ConvergenceWarning: The max_iter was reached which means the coef_ did not converge\n",
      "  warnings.warn(\n",
      "/opt/homebrew/Caskroom/miniforge/base/envs/tensorflow/lib/python3.9/site-packages/sklearn/linear_model/_sag.py:352: ConvergenceWarning: The max_iter was reached which means the coef_ did not converge\n",
      "  warnings.warn(\n",
      "/opt/homebrew/Caskroom/miniforge/base/envs/tensorflow/lib/python3.9/site-packages/sklearn/linear_model/_sag.py:352: ConvergenceWarning: The max_iter was reached which means the coef_ did not converge\n",
      "  warnings.warn(\n",
      "/opt/homebrew/Caskroom/miniforge/base/envs/tensorflow/lib/python3.9/site-packages/sklearn/linear_model/_sag.py:352: ConvergenceWarning: The max_iter was reached which means the coef_ did not converge\n",
      "  warnings.warn(\n",
      "/opt/homebrew/Caskroom/miniforge/base/envs/tensorflow/lib/python3.9/site-packages/sklearn/linear_model/_sag.py:352: ConvergenceWarning: The max_iter was reached which means the coef_ did not converge\n",
      "  warnings.warn(\n",
      "/opt/homebrew/Caskroom/miniforge/base/envs/tensorflow/lib/python3.9/site-packages/sklearn/linear_model/_sag.py:352: ConvergenceWarning: The max_iter was reached which means the coef_ did not converge\n",
      "  warnings.warn(\n",
      "/opt/homebrew/Caskroom/miniforge/base/envs/tensorflow/lib/python3.9/site-packages/sklearn/linear_model/_sag.py:352: ConvergenceWarning: The max_iter was reached which means the coef_ did not converge\n",
      "  warnings.warn(\n"
     ]
    },
    {
     "name": "stdout",
     "output_type": "stream",
     "text": [
      "Epoch 1/6\n"
     ]
    },
    {
     "name": "stderr",
     "output_type": "stream",
     "text": [
      "2022-02-12 13:57:07.009296: I tensorflow/core/grappler/optimizers/custom_graph_optimizer_registry.cc:112] Plugin optimizer for device_type GPU is enabled.\n"
     ]
    },
    {
     "name": "stdout",
     "output_type": "stream",
     "text": [
      "2/2 [==============================] - 1s 25ms/step - loss: 0.6130 - accuracy: 0.3021\n",
      "Epoch 2/6\n",
      "2/2 [==============================] - 0s 7ms/step - loss: 0.5083 - accuracy: 0.4688\n",
      "Epoch 3/6\n",
      "2/2 [==============================] - 0s 7ms/step - loss: 0.4513 - accuracy: 0.4375\n",
      "Epoch 4/6\n",
      "2/2 [==============================] - 0s 8ms/step - loss: 0.4426 - accuracy: 0.4688\n",
      "Epoch 5/6\n",
      "2/2 [==============================] - 0s 7ms/step - loss: 0.3629 - accuracy: 0.4896\n",
      "Epoch 6/6\n",
      "2/2 [==============================] - 0s 10ms/step - loss: 0.3505 - accuracy: 0.4688\n",
      "1/1 [==============================] - 0s 223ms/step - loss: 0.4761 - accuracy: 0.3750\n"
     ]
    },
    {
     "name": "stderr",
     "output_type": "stream",
     "text": [
      "2022-02-12 13:57:07.474425: I tensorflow/core/grappler/optimizers/custom_graph_optimizer_registry.cc:112] Plugin optimizer for device_type GPU is enabled.\n"
     ]
    },
    {
     "name": "stdout",
     "output_type": "stream",
     "text": [
      "Epoch 1/6\n",
      "2/2 [==============================] - 1s 7ms/step - loss: 0.9784 - accuracy: 0.2812\n"
     ]
    },
    {
     "name": "stderr",
     "output_type": "stream",
     "text": [
      "2022-02-12 13:57:07.939404: I tensorflow/core/grappler/optimizers/custom_graph_optimizer_registry.cc:112] Plugin optimizer for device_type GPU is enabled.\n"
     ]
    },
    {
     "name": "stdout",
     "output_type": "stream",
     "text": [
      "Epoch 2/6\n",
      "2/2 [==============================] - 0s 7ms/step - loss: 0.8674 - accuracy: 0.3125\n",
      "Epoch 3/6\n",
      "2/2 [==============================] - 0s 16ms/step - loss: 0.8428 - accuracy: 0.3333\n",
      "Epoch 4/6\n",
      "2/2 [==============================] - 0s 12ms/step - loss: 0.8147 - accuracy: 0.3958\n",
      "Epoch 5/6\n",
      "2/2 [==============================] - 0s 6ms/step - loss: 0.7701 - accuracy: 0.4375\n",
      "Epoch 6/6\n",
      "2/2 [==============================] - 0s 17ms/step - loss: 0.6797 - accuracy: 0.5312\n",
      "1/1 [==============================] - 0s 202ms/step - loss: 0.6706 - accuracy: 0.6250\n"
     ]
    },
    {
     "name": "stderr",
     "output_type": "stream",
     "text": [
      "2022-02-12 13:57:08.366515: I tensorflow/core/grappler/optimizers/custom_graph_optimizer_registry.cc:112] Plugin optimizer for device_type GPU is enabled.\n"
     ]
    },
    {
     "name": "stdout",
     "output_type": "stream",
     "text": [
      "Epoch 1/6\n",
      "2/2 [==============================] - 1s 16ms/step - loss: 0.8247 - accuracy: 0.3438\n"
     ]
    },
    {
     "name": "stderr",
     "output_type": "stream",
     "text": [
      "2022-02-12 13:57:08.804457: I tensorflow/core/grappler/optimizers/custom_graph_optimizer_registry.cc:112] Plugin optimizer for device_type GPU is enabled.\n"
     ]
    },
    {
     "name": "stdout",
     "output_type": "stream",
     "text": [
      "Epoch 2/6\n",
      "2/2 [==============================] - 0s 6ms/step - loss: 0.7233 - accuracy: 0.5417\n",
      "Epoch 3/6\n",
      "2/2 [==============================] - 0s 7ms/step - loss: 0.6441 - accuracy: 0.6667\n",
      "Epoch 4/6\n",
      "2/2 [==============================] - 0s 6ms/step - loss: 0.5765 - accuracy: 0.7188\n",
      "Epoch 5/6\n",
      "2/2 [==============================] - 0s 6ms/step - loss: 0.5569 - accuracy: 0.7083\n",
      "Epoch 6/6\n",
      "2/2 [==============================] - 0s 7ms/step - loss: 0.4929 - accuracy: 0.7188\n",
      "1/1 [==============================] - 0s 205ms/step - loss: 0.2167 - accuracy: 0.6250\n"
     ]
    },
    {
     "name": "stderr",
     "output_type": "stream",
     "text": [
      "2022-02-12 13:57:09.224193: I tensorflow/core/grappler/optimizers/custom_graph_optimizer_registry.cc:112] Plugin optimizer for device_type GPU is enabled.\n"
     ]
    },
    {
     "name": "stdout",
     "output_type": "stream",
     "text": [
      "Epoch 1/6\n",
      "2/2 [==============================] - 1s 6ms/step - loss: 0.9261 - accuracy: 0.2292\n",
      "Epoch 2/6\n",
      "2/2 [==============================] - 0s 6ms/step - loss: 0.8500 - accuracy: 0.2812\n"
     ]
    },
    {
     "name": "stderr",
     "output_type": "stream",
     "text": [
      "2022-02-12 13:57:09.659540: I tensorflow/core/grappler/optimizers/custom_graph_optimizer_registry.cc:112] Plugin optimizer for device_type GPU is enabled.\n"
     ]
    },
    {
     "name": "stdout",
     "output_type": "stream",
     "text": [
      "Epoch 3/6\n",
      "2/2 [==============================] - 0s 16ms/step - loss: 0.8162 - accuracy: 0.3021\n",
      "Epoch 4/6\n",
      "2/2 [==============================] - 0s 7ms/step - loss: 0.7658 - accuracy: 0.2604\n",
      "Epoch 5/6\n",
      "2/2 [==============================] - 0s 11ms/step - loss: 0.7396 - accuracy: 0.3229\n",
      "Epoch 6/6\n",
      "2/2 [==============================] - 0s 6ms/step - loss: 0.7013 - accuracy: 0.3021\n",
      "1/1 [==============================] - 1s 1s/step - loss: 0.7244 - accuracy: 0.3750\n"
     ]
    },
    {
     "name": "stderr",
     "output_type": "stream",
     "text": [
      "2022-02-12 13:57:10.946952: I tensorflow/core/grappler/optimizers/custom_graph_optimizer_registry.cc:112] Plugin optimizer for device_type GPU is enabled.\n"
     ]
    },
    {
     "name": "stdout",
     "output_type": "stream",
     "text": [
      "Epoch 1/6\n",
      "2/2 [==============================] - 1s 6ms/step - loss: 0.6606 - accuracy: 0.3958\n",
      "Epoch 2/6\n",
      "2/2 [==============================] - 0s 6ms/step - loss: 0.6090 - accuracy: 0.3958\n",
      "Epoch 3/6\n",
      "1/2 [==============>...............] - ETA: 0s - loss: 0.5838 - accuracy: 0.4375"
     ]
    },
    {
     "name": "stderr",
     "output_type": "stream",
     "text": [
      "2022-02-12 13:57:11.419517: I tensorflow/core/grappler/optimizers/custom_graph_optimizer_registry.cc:112] Plugin optimizer for device_type GPU is enabled.\n"
     ]
    },
    {
     "name": "stdout",
     "output_type": "stream",
     "text": [
      "2/2 [==============================] - 0s 16ms/step - loss: 0.5738 - accuracy: 0.4167\n",
      "Epoch 4/6\n",
      "2/2 [==============================] - 0s 17ms/step - loss: 0.5532 - accuracy: 0.4271\n",
      "Epoch 5/6\n",
      "2/2 [==============================] - 0s 6ms/step - loss: 0.4967 - accuracy: 0.4688\n",
      "Epoch 6/6\n",
      "2/2 [==============================] - 0s 8ms/step - loss: 0.4797 - accuracy: 0.4271\n",
      "1/1 [==============================] - 0s 188ms/step - loss: 0.4072 - accuracy: 0.6250\n"
     ]
    },
    {
     "name": "stderr",
     "output_type": "stream",
     "text": [
      "2022-02-12 13:57:11.812092: I tensorflow/core/grappler/optimizers/custom_graph_optimizer_registry.cc:112] Plugin optimizer for device_type GPU is enabled.\n"
     ]
    },
    {
     "name": "stdout",
     "output_type": "stream",
     "text": [
      "Epoch 1/12\n",
      "2/2 [==============================] - 0s 8ms/step - loss: 0.6938 - accuracy: 0.2500\n",
      "Epoch 2/12\n",
      "2/2 [==============================] - 0s 17ms/step - loss: 0.6344 - accuracy: 0.3750\n"
     ]
    },
    {
     "name": "stderr",
     "output_type": "stream",
     "text": [
      "2022-02-12 13:57:12.239693: I tensorflow/core/grappler/optimizers/custom_graph_optimizer_registry.cc:112] Plugin optimizer for device_type GPU is enabled.\n"
     ]
    },
    {
     "name": "stdout",
     "output_type": "stream",
     "text": [
      "Epoch 3/12\n",
      "2/2 [==============================] - 0s 7ms/step - loss: 0.5826 - accuracy: 0.3542\n",
      "Epoch 4/12\n",
      "2/2 [==============================] - 0s 16ms/step - loss: 0.5572 - accuracy: 0.4792\n",
      "Epoch 5/12\n",
      "2/2 [==============================] - 0s 7ms/step - loss: 0.5282 - accuracy: 0.5729\n",
      "Epoch 6/12\n",
      "2/2 [==============================] - 0s 7ms/step - loss: 0.4847 - accuracy: 0.6250\n",
      "Epoch 7/12\n",
      "2/2 [==============================] - 0s 17ms/step - loss: 0.4641 - accuracy: 0.6250\n",
      "Epoch 8/12\n",
      "2/2 [==============================] - 0s 10ms/step - loss: 0.4198 - accuracy: 0.6458\n",
      "Epoch 9/12\n",
      "2/2 [==============================] - 0s 7ms/step - loss: 0.3715 - accuracy: 0.6250\n",
      "Epoch 10/12\n",
      "2/2 [==============================] - 0s 7ms/step - loss: 0.3898 - accuracy: 0.6458\n",
      "Epoch 11/12\n",
      "2/2 [==============================] - 0s 7ms/step - loss: 0.3995 - accuracy: 0.6771\n",
      "Epoch 12/12\n",
      "2/2 [==============================] - 0s 7ms/step - loss: 0.2999 - accuracy: 0.6354\n",
      "1/1 [==============================] - 0s 194ms/step - loss: 0.4261 - accuracy: 0.6250\n"
     ]
    },
    {
     "name": "stderr",
     "output_type": "stream",
     "text": [
      "2022-02-12 13:57:12.758315: I tensorflow/core/grappler/optimizers/custom_graph_optimizer_registry.cc:112] Plugin optimizer for device_type GPU is enabled.\n"
     ]
    },
    {
     "name": "stdout",
     "output_type": "stream",
     "text": [
      "Epoch 1/12\n",
      "2/2 [==============================] - 1s 15ms/step - loss: 1.2592 - accuracy: 0.2812\n",
      "Epoch 2/12\n",
      "2/2 [==============================] - 0s 6ms/step - loss: 1.1520 - accuracy: 0.2917\n",
      "Epoch 3/12\n",
      "1/2 [==============>...............] - ETA: 0s - loss: 1.0730 - accuracy: 0.2812"
     ]
    },
    {
     "name": "stderr",
     "output_type": "stream",
     "text": [
      "2022-02-12 13:57:13.189856: I tensorflow/core/grappler/optimizers/custom_graph_optimizer_registry.cc:112] Plugin optimizer for device_type GPU is enabled.\n"
     ]
    },
    {
     "name": "stdout",
     "output_type": "stream",
     "text": [
      "2/2 [==============================] - 0s 5ms/step - loss: 1.0785 - accuracy: 0.2708\n",
      "Epoch 4/12\n",
      "2/2 [==============================] - 0s 16ms/step - loss: 1.0693 - accuracy: 0.2604\n",
      "Epoch 5/12\n",
      "2/2 [==============================] - 0s 6ms/step - loss: 1.0012 - accuracy: 0.2604\n",
      "Epoch 6/12\n",
      "2/2 [==============================] - 0s 7ms/step - loss: 0.9235 - accuracy: 0.2708\n",
      "Epoch 7/12\n",
      "2/2 [==============================] - 0s 7ms/step - loss: 0.8664 - accuracy: 0.2917\n",
      "Epoch 8/12\n",
      "2/2 [==============================] - 0s 7ms/step - loss: 0.8414 - accuracy: 0.2500\n",
      "Epoch 9/12\n",
      "2/2 [==============================] - 0s 7ms/step - loss: 0.7890 - accuracy: 0.3021\n",
      "Epoch 10/12\n",
      "2/2 [==============================] - 0s 6ms/step - loss: 0.7824 - accuracy: 0.2812\n",
      "Epoch 11/12\n",
      "2/2 [==============================] - 0s 7ms/step - loss: 0.7278 - accuracy: 0.2708\n",
      "Epoch 12/12\n",
      "2/2 [==============================] - 0s 7ms/step - loss: 0.7394 - accuracy: 0.2708\n",
      "1/1 [==============================] - 0s 201ms/step - loss: 0.6905 - accuracy: 0.4375\n"
     ]
    },
    {
     "name": "stderr",
     "output_type": "stream",
     "text": [
      "2022-02-12 13:57:13.693823: I tensorflow/core/grappler/optimizers/custom_graph_optimizer_registry.cc:112] Plugin optimizer for device_type GPU is enabled.\n"
     ]
    },
    {
     "name": "stdout",
     "output_type": "stream",
     "text": [
      "Epoch 1/12\n",
      "2/2 [==============================] - 1s 6ms/step - loss: 0.7175 - accuracy: 0.0729\n",
      "Epoch 2/12\n",
      "2/2 [==============================] - 0s 6ms/step - loss: 0.6259 - accuracy: 0.1146\n"
     ]
    },
    {
     "name": "stderr",
     "output_type": "stream",
     "text": [
      "2022-02-12 13:57:14.124178: I tensorflow/core/grappler/optimizers/custom_graph_optimizer_registry.cc:112] Plugin optimizer for device_type GPU is enabled.\n"
     ]
    },
    {
     "name": "stdout",
     "output_type": "stream",
     "text": [
      "Epoch 3/12\n",
      "2/2 [==============================] - 0s 18ms/step - loss: 0.6184 - accuracy: 0.1458\n",
      "Epoch 4/12\n",
      "2/2 [==============================] - 0s 6ms/step - loss: 0.5855 - accuracy: 0.2812\n",
      "Epoch 5/12\n",
      "2/2 [==============================] - 0s 7ms/step - loss: 0.5212 - accuracy: 0.4062\n",
      "Epoch 6/12\n",
      "2/2 [==============================] - 0s 16ms/step - loss: 0.5254 - accuracy: 0.4583\n",
      "Epoch 7/12\n",
      "2/2 [==============================] - 0s 6ms/step - loss: 0.4986 - accuracy: 0.4688\n",
      "Epoch 8/12\n",
      "2/2 [==============================] - 0s 17ms/step - loss: 0.4454 - accuracy: 0.4896\n",
      "Epoch 9/12\n",
      "2/2 [==============================] - 0s 6ms/step - loss: 0.4398 - accuracy: 0.3854\n",
      "Epoch 10/12\n",
      "2/2 [==============================] - 0s 6ms/step - loss: 0.4740 - accuracy: 0.4792\n",
      "Epoch 11/12\n",
      "2/2 [==============================] - 0s 6ms/step - loss: 0.4164 - accuracy: 0.4479\n",
      "Epoch 12/12\n",
      "2/2 [==============================] - 0s 7ms/step - loss: 0.4585 - accuracy: 0.5000\n",
      "1/1 [==============================] - 0s 203ms/step - loss: 0.0840 - accuracy: 0.4375\n"
     ]
    },
    {
     "name": "stderr",
     "output_type": "stream",
     "text": [
      "2022-02-12 13:57:14.630979: I tensorflow/core/grappler/optimizers/custom_graph_optimizer_registry.cc:112] Plugin optimizer for device_type GPU is enabled.\n"
     ]
    },
    {
     "name": "stdout",
     "output_type": "stream",
     "text": [
      "Epoch 1/12\n",
      "2/2 [==============================] - 1s 18ms/step - loss: 0.7712 - accuracy: 0.3750\n"
     ]
    },
    {
     "name": "stderr",
     "output_type": "stream",
     "text": [
      "2022-02-12 13:57:15.079717: I tensorflow/core/grappler/optimizers/custom_graph_optimizer_registry.cc:112] Plugin optimizer for device_type GPU is enabled.\n"
     ]
    },
    {
     "name": "stdout",
     "output_type": "stream",
     "text": [
      "Epoch 2/12\n",
      "2/2 [==============================] - 0s 6ms/step - loss: 0.6676 - accuracy: 0.5000\n",
      "Epoch 3/12\n",
      "2/2 [==============================] - 0s 7ms/step - loss: 0.6404 - accuracy: 0.6562\n",
      "Epoch 4/12\n",
      "2/2 [==============================] - 0s 7ms/step - loss: 0.5928 - accuracy: 0.6771\n",
      "Epoch 5/12\n",
      "2/2 [==============================] - 0s 6ms/step - loss: 0.5386 - accuracy: 0.6667\n",
      "Epoch 6/12\n",
      "2/2 [==============================] - 0s 7ms/step - loss: 0.5113 - accuracy: 0.6875\n",
      "Epoch 7/12\n",
      "2/2 [==============================] - 0s 6ms/step - loss: 0.4535 - accuracy: 0.6875\n",
      "Epoch 8/12\n",
      "2/2 [==============================] - 0s 7ms/step - loss: 0.4484 - accuracy: 0.6979\n",
      "Epoch 9/12\n",
      "2/2 [==============================] - 0s 7ms/step - loss: 0.4264 - accuracy: 0.6458\n",
      "Epoch 10/12\n",
      "2/2 [==============================] - 0s 6ms/step - loss: 0.3545 - accuracy: 0.6042\n",
      "Epoch 11/12\n",
      "2/2 [==============================] - 0s 6ms/step - loss: 0.3238 - accuracy: 0.6146\n",
      "Epoch 12/12\n",
      "2/2 [==============================] - 0s 6ms/step - loss: 0.3268 - accuracy: 0.6354\n",
      "1/1 [==============================] - 0s 196ms/step - loss: 0.4570 - accuracy: 0.7500\n"
     ]
    },
    {
     "name": "stderr",
     "output_type": "stream",
     "text": [
      "2022-02-12 13:57:15.614140: I tensorflow/core/grappler/optimizers/custom_graph_optimizer_registry.cc:112] Plugin optimizer for device_type GPU is enabled.\n"
     ]
    },
    {
     "name": "stdout",
     "output_type": "stream",
     "text": [
      "Epoch 1/12\n",
      "2/2 [==============================] - 1s 17ms/step - loss: 0.9893 - accuracy: 0.2083\n"
     ]
    },
    {
     "name": "stderr",
     "output_type": "stream",
     "text": [
      "2022-02-12 13:57:16.046777: I tensorflow/core/grappler/optimizers/custom_graph_optimizer_registry.cc:112] Plugin optimizer for device_type GPU is enabled.\n"
     ]
    },
    {
     "name": "stdout",
     "output_type": "stream",
     "text": [
      "Epoch 2/12\n",
      "2/2 [==============================] - 0s 18ms/step - loss: 0.8754 - accuracy: 0.1875\n",
      "Epoch 3/12\n",
      "2/2 [==============================] - 0s 17ms/step - loss: 0.8011 - accuracy: 0.1979\n",
      "Epoch 4/12\n",
      "2/2 [==============================] - 0s 7ms/step - loss: 0.7354 - accuracy: 0.2083\n",
      "Epoch 5/12\n",
      "2/2 [==============================] - 0s 6ms/step - loss: 0.6723 - accuracy: 0.1875\n",
      "Epoch 6/12\n",
      "2/2 [==============================] - 0s 7ms/step - loss: 0.6351 - accuracy: 0.1979\n",
      "Epoch 7/12\n",
      "2/2 [==============================] - 0s 7ms/step - loss: 0.6237 - accuracy: 0.2500\n",
      "Epoch 8/12\n",
      "2/2 [==============================] - 0s 7ms/step - loss: 0.5685 - accuracy: 0.2812\n",
      "Epoch 9/12\n",
      "2/2 [==============================] - 0s 7ms/step - loss: 0.5009 - accuracy: 0.3021\n",
      "Epoch 10/12\n",
      "2/2 [==============================] - 0s 7ms/step - loss: 0.4724 - accuracy: 0.3542\n",
      "Epoch 11/12\n",
      "2/2 [==============================] - 0s 6ms/step - loss: 0.4471 - accuracy: 0.4479\n",
      "Epoch 12/12\n",
      "2/2 [==============================] - 0s 6ms/step - loss: 0.3213 - accuracy: 0.4792\n",
      "1/1 [==============================] - 0s 211ms/step - loss: 0.3989 - accuracy: 0.5625\n"
     ]
    },
    {
     "name": "stderr",
     "output_type": "stream",
     "text": [
      "2022-02-12 13:57:16.578932: I tensorflow/core/grappler/optimizers/custom_graph_optimizer_registry.cc:112] Plugin optimizer for device_type GPU is enabled.\n"
     ]
    },
    {
     "name": "stdout",
     "output_type": "stream",
     "text": [
      "Epoch 1/18\n",
      "2/2 [==============================] - 1s 7ms/step - loss: 0.7264 - accuracy: 0.5625\n"
     ]
    },
    {
     "name": "stderr",
     "output_type": "stream",
     "text": [
      "2022-02-12 13:57:17.034656: I tensorflow/core/grappler/optimizers/custom_graph_optimizer_registry.cc:112] Plugin optimizer for device_type GPU is enabled.\n"
     ]
    },
    {
     "name": "stdout",
     "output_type": "stream",
     "text": [
      "Epoch 2/18\n",
      "2/2 [==============================] - 0s 6ms/step - loss: 0.6570 - accuracy: 0.6250\n",
      "Epoch 3/18\n",
      "2/2 [==============================] - 0s 6ms/step - loss: 0.6173 - accuracy: 0.6562\n",
      "Epoch 4/18\n",
      "2/2 [==============================] - 0s 6ms/step - loss: 0.5752 - accuracy: 0.6667\n",
      "Epoch 5/18\n",
      "2/2 [==============================] - 0s 17ms/step - loss: 0.5590 - accuracy: 0.6562\n",
      "Epoch 6/18\n",
      "2/2 [==============================] - 0s 7ms/step - loss: 0.5268 - accuracy: 0.6667\n",
      "Epoch 7/18\n",
      "2/2 [==============================] - 0s 7ms/step - loss: 0.5029 - accuracy: 0.6771\n",
      "Epoch 8/18\n",
      "2/2 [==============================] - 0s 19ms/step - loss: 0.4821 - accuracy: 0.6771\n",
      "Epoch 9/18\n",
      "2/2 [==============================] - 0s 18ms/step - loss: 0.4562 - accuracy: 0.6979\n",
      "Epoch 10/18\n",
      "2/2 [==============================] - 0s 7ms/step - loss: 0.4197 - accuracy: 0.6875\n",
      "Epoch 11/18\n",
      "2/2 [==============================] - 0s 7ms/step - loss: 0.4066 - accuracy: 0.7188\n",
      "Epoch 12/18\n",
      "2/2 [==============================] - 0s 7ms/step - loss: 0.4010 - accuracy: 0.6979\n",
      "Epoch 13/18\n",
      "2/2 [==============================] - 0s 7ms/step - loss: 0.3645 - accuracy: 0.6875\n",
      "Epoch 14/18\n",
      "2/2 [==============================] - 0s 6ms/step - loss: 0.3537 - accuracy: 0.7188\n",
      "Epoch 15/18\n",
      "2/2 [==============================] - 0s 6ms/step - loss: 0.2977 - accuracy: 0.6771\n",
      "Epoch 16/18\n",
      "2/2 [==============================] - 0s 7ms/step - loss: 0.2906 - accuracy: 0.6979\n",
      "Epoch 17/18\n",
      "2/2 [==============================] - 0s 6ms/step - loss: 0.2769 - accuracy: 0.7188\n",
      "Epoch 18/18\n",
      "2/2 [==============================] - 0s 6ms/step - loss: 0.2237 - accuracy: 0.6875\n",
      "1/1 [==============================] - 0s 208ms/step - loss: 0.3191 - accuracy: 0.6875\n"
     ]
    },
    {
     "name": "stderr",
     "output_type": "stream",
     "text": [
      "2022-02-12 13:57:17.677675: I tensorflow/core/grappler/optimizers/custom_graph_optimizer_registry.cc:112] Plugin optimizer for device_type GPU is enabled.\n"
     ]
    },
    {
     "name": "stdout",
     "output_type": "stream",
     "text": [
      "Epoch 1/18\n"
     ]
    },
    {
     "name": "stderr",
     "output_type": "stream",
     "text": [
      "2022-02-12 13:57:18.143873: I tensorflow/core/grappler/optimizers/custom_graph_optimizer_registry.cc:112] Plugin optimizer for device_type GPU is enabled.\n"
     ]
    },
    {
     "name": "stdout",
     "output_type": "stream",
     "text": [
      "2/2 [==============================] - 1s 17ms/step - loss: 0.4364 - accuracy: 0.4167\n",
      "Epoch 2/18\n",
      "2/2 [==============================] - 0s 7ms/step - loss: 0.3152 - accuracy: 0.4792\n",
      "Epoch 3/18\n",
      "2/2 [==============================] - 0s 6ms/step - loss: 0.2363 - accuracy: 0.4583\n",
      "Epoch 4/18\n",
      "2/2 [==============================] - 0s 7ms/step - loss: 0.1511 - accuracy: 0.4375\n",
      "Epoch 5/18\n",
      "2/2 [==============================] - 0s 17ms/step - loss: 0.1344 - accuracy: 0.4896\n",
      "Epoch 6/18\n",
      "2/2 [==============================] - 0s 17ms/step - loss: 0.1566 - accuracy: 0.4792\n",
      "Epoch 7/18\n",
      "2/2 [==============================] - 0s 7ms/step - loss: 0.0839 - accuracy: 0.5000\n",
      "Epoch 8/18\n",
      "2/2 [==============================] - 0s 7ms/step - loss: -0.0348 - accuracy: 0.4479\n",
      "Epoch 9/18\n",
      "2/2 [==============================] - 0s 7ms/step - loss: -0.0953 - accuracy: 0.4688\n",
      "Epoch 10/18\n",
      "2/2 [==============================] - 0s 8ms/step - loss: -0.0125 - accuracy: 0.5000\n",
      "Epoch 11/18\n",
      "2/2 [==============================] - 0s 6ms/step - loss: -0.1155 - accuracy: 0.4792\n",
      "Epoch 12/18\n",
      "2/2 [==============================] - 0s 6ms/step - loss: -0.2003 - accuracy: 0.4688\n",
      "Epoch 13/18\n",
      "2/2 [==============================] - 0s 7ms/step - loss: -0.2128 - accuracy: 0.4688\n",
      "Epoch 14/18\n",
      "2/2 [==============================] - 0s 7ms/step - loss: -0.1802 - accuracy: 0.4583\n",
      "Epoch 15/18\n",
      "2/2 [==============================] - 0s 10ms/step - loss: -0.3122 - accuracy: 0.4896\n",
      "Epoch 16/18\n",
      "2/2 [==============================] - 0s 7ms/step - loss: -0.3100 - accuracy: 0.4792\n",
      "Epoch 17/18\n",
      "2/2 [==============================] - 0s 6ms/step - loss: -0.4517 - accuracy: 0.5104\n",
      "Epoch 18/18\n",
      "2/2 [==============================] - 0s 7ms/step - loss: -0.5276 - accuracy: 0.4896\n",
      "1/1 [==============================] - 0s 260ms/step - loss: -0.4238 - accuracy: 0.4375\n"
     ]
    },
    {
     "name": "stderr",
     "output_type": "stream",
     "text": [
      "2022-02-12 13:57:18.800413: I tensorflow/core/grappler/optimizers/custom_graph_optimizer_registry.cc:112] Plugin optimizer for device_type GPU is enabled.\n"
     ]
    },
    {
     "name": "stdout",
     "output_type": "stream",
     "text": [
      "Epoch 1/18\n",
      "1/2 [==============>...............] - ETA: 0s - loss: 0.8411 - accuracy: 0.2500"
     ]
    },
    {
     "name": "stderr",
     "output_type": "stream",
     "text": [
      "2022-02-12 13:57:19.309618: I tensorflow/core/grappler/optimizers/custom_graph_optimizer_registry.cc:112] Plugin optimizer for device_type GPU is enabled.\n"
     ]
    },
    {
     "name": "stdout",
     "output_type": "stream",
     "text": [
      "2/2 [==============================] - 1s 16ms/step - loss: 0.8105 - accuracy: 0.1979\n",
      "Epoch 2/18\n",
      "2/2 [==============================] - 0s 16ms/step - loss: 0.7320 - accuracy: 0.1771\n",
      "Epoch 3/18\n",
      "2/2 [==============================] - 0s 17ms/step - loss: 0.7135 - accuracy: 0.2812\n",
      "Epoch 4/18\n",
      "2/2 [==============================] - 0s 6ms/step - loss: 0.6658 - accuracy: 0.4688\n",
      "Epoch 5/18\n",
      "2/2 [==============================] - 0s 6ms/step - loss: 0.6423 - accuracy: 0.5000\n",
      "Epoch 6/18\n",
      "2/2 [==============================] - 0s 16ms/step - loss: 0.6158 - accuracy: 0.5833\n",
      "Epoch 7/18\n",
      "2/2 [==============================] - 0s 21ms/step - loss: 0.5848 - accuracy: 0.6250\n",
      "Epoch 8/18\n",
      "2/2 [==============================] - 0s 8ms/step - loss: 0.5422 - accuracy: 0.6354\n",
      "Epoch 9/18\n",
      "2/2 [==============================] - 0s 7ms/step - loss: 0.5177 - accuracy: 0.6354\n",
      "Epoch 10/18\n",
      "2/2 [==============================] - 0s 7ms/step - loss: 0.4926 - accuracy: 0.6250\n",
      "Epoch 11/18\n",
      "2/2 [==============================] - 0s 14ms/step - loss: 0.4618 - accuracy: 0.6042\n",
      "Epoch 12/18\n",
      "2/2 [==============================] - 0s 13ms/step - loss: 0.4389 - accuracy: 0.6250\n",
      "Epoch 13/18\n",
      "2/2 [==============================] - 0s 7ms/step - loss: 0.4248 - accuracy: 0.6458\n",
      "Epoch 14/18\n",
      "2/2 [==============================] - 0s 7ms/step - loss: 0.3826 - accuracy: 0.6458\n",
      "Epoch 15/18\n",
      "2/2 [==============================] - 0s 6ms/step - loss: 0.3464 - accuracy: 0.6458\n",
      "Epoch 16/18\n",
      "2/2 [==============================] - 0s 6ms/step - loss: 0.3400 - accuracy: 0.6562\n",
      "Epoch 17/18\n",
      "2/2 [==============================] - 0s 6ms/step - loss: 0.2728 - accuracy: 0.6250\n",
      "Epoch 18/18\n",
      "2/2 [==============================] - 0s 6ms/step - loss: 0.2628 - accuracy: 0.6250\n",
      "1/1 [==============================] - 0s 221ms/step - loss: -0.1617 - accuracy: 0.6250\n"
     ]
    },
    {
     "name": "stderr",
     "output_type": "stream",
     "text": [
      "2022-02-12 13:57:19.996717: I tensorflow/core/grappler/optimizers/custom_graph_optimizer_registry.cc:112] Plugin optimizer for device_type GPU is enabled.\n"
     ]
    },
    {
     "name": "stdout",
     "output_type": "stream",
     "text": [
      "Epoch 1/18\n"
     ]
    },
    {
     "name": "stderr",
     "output_type": "stream",
     "text": [
      "2022-02-12 13:57:20.468107: I tensorflow/core/grappler/optimizers/custom_graph_optimizer_registry.cc:112] Plugin optimizer for device_type GPU is enabled.\n"
     ]
    },
    {
     "name": "stdout",
     "output_type": "stream",
     "text": [
      "2/2 [==============================] - 1s 12ms/step - loss: 0.6701 - accuracy: 0.3021\n",
      "Epoch 2/18\n",
      "2/2 [==============================] - 0s 6ms/step - loss: 0.5955 - accuracy: 0.3542\n",
      "Epoch 3/18\n",
      "2/2 [==============================] - 0s 6ms/step - loss: 0.5638 - accuracy: 0.5521\n",
      "Epoch 4/18\n",
      "2/2 [==============================] - 0s 6ms/step - loss: 0.5299 - accuracy: 0.6146\n",
      "Epoch 5/18\n",
      "2/2 [==============================] - 0s 11ms/step - loss: 0.4936 - accuracy: 0.6562\n",
      "Epoch 6/18\n",
      "2/2 [==============================] - 0s 17ms/step - loss: 0.4883 - accuracy: 0.6667\n",
      "Epoch 7/18\n",
      "2/2 [==============================] - 0s 18ms/step - loss: 0.4569 - accuracy: 0.6458\n",
      "Epoch 8/18\n",
      "2/2 [==============================] - 0s 6ms/step - loss: 0.4097 - accuracy: 0.6250\n",
      "Epoch 9/18\n",
      "2/2 [==============================] - 0s 6ms/step - loss: 0.3991 - accuracy: 0.6458\n",
      "Epoch 10/18\n",
      "2/2 [==============================] - 0s 16ms/step - loss: 0.3577 - accuracy: 0.6354\n",
      "Epoch 11/18\n",
      "2/2 [==============================] - 0s 6ms/step - loss: 0.3220 - accuracy: 0.5938\n",
      "Epoch 12/18\n",
      "2/2 [==============================] - 0s 6ms/step - loss: 0.2846 - accuracy: 0.5729\n",
      "Epoch 13/18\n",
      "2/2 [==============================] - 0s 15ms/step - loss: 0.2691 - accuracy: 0.5729\n",
      "Epoch 14/18\n",
      "2/2 [==============================] - 0s 5ms/step - loss: 0.2219 - accuracy: 0.5625\n",
      "Epoch 15/18\n",
      "2/2 [==============================] - 0s 6ms/step - loss: 0.2393 - accuracy: 0.5938\n",
      "Epoch 16/18\n",
      "2/2 [==============================] - 0s 6ms/step - loss: 0.1322 - accuracy: 0.5417\n",
      "Epoch 17/18\n",
      "2/2 [==============================] - 0s 6ms/step - loss: 0.1396 - accuracy: 0.5625\n",
      "Epoch 18/18\n",
      "2/2 [==============================] - 0s 6ms/step - loss: 0.1624 - accuracy: 0.6354\n",
      "1/1 [==============================] - 0s 266ms/step - loss: 0.2988 - accuracy: 0.8125\n"
     ]
    },
    {
     "name": "stderr",
     "output_type": "stream",
     "text": [
      "2022-02-12 13:57:21.168332: I tensorflow/core/grappler/optimizers/custom_graph_optimizer_registry.cc:112] Plugin optimizer for device_type GPU is enabled.\n"
     ]
    },
    {
     "name": "stdout",
     "output_type": "stream",
     "text": [
      "Epoch 1/18\n",
      "2/2 [==============================] - 1s 7ms/step - loss: 0.7294 - accuracy: 0.5312\n"
     ]
    },
    {
     "name": "stderr",
     "output_type": "stream",
     "text": [
      "2022-02-12 13:57:21.671437: I tensorflow/core/grappler/optimizers/custom_graph_optimizer_registry.cc:112] Plugin optimizer for device_type GPU is enabled.\n"
     ]
    },
    {
     "name": "stdout",
     "output_type": "stream",
     "text": [
      "Epoch 2/18\n",
      "2/2 [==============================] - 0s 16ms/step - loss: 0.6538 - accuracy: 0.6458\n",
      "Epoch 3/18\n",
      "2/2 [==============================] - 0s 6ms/step - loss: 0.6150 - accuracy: 0.6458\n",
      "Epoch 4/18\n",
      "2/2 [==============================] - 0s 6ms/step - loss: 0.5499 - accuracy: 0.6562\n",
      "Epoch 5/18\n",
      "2/2 [==============================] - 0s 6ms/step - loss: 0.5041 - accuracy: 0.6875\n",
      "Epoch 6/18\n",
      "2/2 [==============================] - 0s 6ms/step - loss: 0.4723 - accuracy: 0.6875\n",
      "Epoch 7/18\n",
      "2/2 [==============================] - 0s 6ms/step - loss: 0.4100 - accuracy: 0.6146\n",
      "Epoch 8/18\n",
      "2/2 [==============================] - 0s 9ms/step - loss: 0.4155 - accuracy: 0.6771\n",
      "Epoch 9/18\n",
      "2/2 [==============================] - 0s 6ms/step - loss: 0.3623 - accuracy: 0.6771\n",
      "Epoch 10/18\n",
      "2/2 [==============================] - 0s 17ms/step - loss: 0.3194 - accuracy: 0.6667\n",
      "Epoch 11/18\n",
      "2/2 [==============================] - 0s 6ms/step - loss: 0.3153 - accuracy: 0.6667\n",
      "Epoch 12/18\n",
      "2/2 [==============================] - 0s 6ms/step - loss: 0.2705 - accuracy: 0.6771\n",
      "Epoch 13/18\n",
      "2/2 [==============================] - 0s 6ms/step - loss: 0.2114 - accuracy: 0.6354\n",
      "Epoch 14/18\n",
      "2/2 [==============================] - 0s 6ms/step - loss: 0.1767 - accuracy: 0.6354\n",
      "Epoch 15/18\n",
      "2/2 [==============================] - 0s 10ms/step - loss: 0.1868 - accuracy: 0.6771\n",
      "Epoch 16/18\n",
      "2/2 [==============================] - 0s 8ms/step - loss: 0.1507 - accuracy: 0.6875\n",
      "Epoch 17/18\n",
      "2/2 [==============================] - 0s 7ms/step - loss: 0.1224 - accuracy: 0.6875\n",
      "Epoch 18/18\n",
      "2/2 [==============================] - 0s 11ms/step - loss: 0.0558 - accuracy: 0.6562\n",
      "1/1 [==============================] - 0s 421ms/step - loss: 0.1062 - accuracy: 0.6875\n"
     ]
    },
    {
     "name": "stderr",
     "output_type": "stream",
     "text": [
      "2022-02-12 13:57:22.492879: I tensorflow/core/grappler/optimizers/custom_graph_optimizer_registry.cc:112] Plugin optimizer for device_type GPU is enabled.\n"
     ]
    },
    {
     "name": "stdout",
     "output_type": "stream",
     "text": [
      "Epoch 1/24\n"
     ]
    },
    {
     "name": "stderr",
     "output_type": "stream",
     "text": [
      "2022-02-12 13:57:23.169875: I tensorflow/core/grappler/optimizers/custom_graph_optimizer_registry.cc:112] Plugin optimizer for device_type GPU is enabled.\n"
     ]
    },
    {
     "name": "stdout",
     "output_type": "stream",
     "text": [
      "2/2 [==============================] - 1s 17ms/step - loss: 0.4776 - accuracy: 0.1875\n",
      "Epoch 2/24\n",
      "2/2 [==============================] - 0s 15ms/step - loss: 0.3664 - accuracy: 0.3021\n",
      "Epoch 3/24\n",
      "2/2 [==============================] - 0s 6ms/step - loss: 0.3474 - accuracy: 0.4688\n",
      "Epoch 4/24\n",
      "2/2 [==============================] - 0s 8ms/step - loss: 0.2445 - accuracy: 0.4896\n",
      "Epoch 5/24\n",
      "2/2 [==============================] - 0s 16ms/step - loss: 0.2088 - accuracy: 0.5729\n",
      "Epoch 6/24\n",
      "2/2 [==============================] - 0s 6ms/step - loss: 0.0756 - accuracy: 0.5625\n",
      "Epoch 7/24\n",
      "2/2 [==============================] - 0s 6ms/step - loss: 0.0642 - accuracy: 0.5729\n",
      "Epoch 8/24\n",
      "2/2 [==============================] - 0s 6ms/step - loss: 0.0806 - accuracy: 0.5833\n",
      "Epoch 9/24\n",
      "2/2 [==============================] - 0s 6ms/step - loss: 0.0645 - accuracy: 0.6458\n",
      "Epoch 10/24\n",
      "2/2 [==============================] - 0s 16ms/step - loss: 0.0484 - accuracy: 0.6042\n",
      "Epoch 11/24\n",
      "2/2 [==============================] - 0s 17ms/step - loss: -0.0819 - accuracy: 0.6250\n",
      "Epoch 12/24\n",
      "2/2 [==============================] - 0s 7ms/step - loss: -0.1591 - accuracy: 0.6250\n",
      "Epoch 13/24\n",
      "2/2 [==============================] - 0s 6ms/step - loss: -0.1201 - accuracy: 0.6562\n",
      "Epoch 14/24\n",
      "2/2 [==============================] - 0s 6ms/step - loss: -0.2051 - accuracy: 0.6354\n",
      "Epoch 15/24\n",
      "2/2 [==============================] - 0s 6ms/step - loss: -0.2564 - accuracy: 0.6354\n",
      "Epoch 16/24\n",
      "2/2 [==============================] - 0s 6ms/step - loss: -0.3811 - accuracy: 0.6146\n",
      "Epoch 17/24\n",
      "2/2 [==============================] - 0s 6ms/step - loss: -0.3002 - accuracy: 0.6250\n",
      "Epoch 18/24\n",
      "2/2 [==============================] - 0s 6ms/step - loss: -0.3506 - accuracy: 0.6250\n",
      "Epoch 19/24\n",
      "2/2 [==============================] - 0s 6ms/step - loss: -0.4084 - accuracy: 0.6042\n",
      "Epoch 20/24\n",
      "2/2 [==============================] - 0s 6ms/step - loss: -0.4892 - accuracy: 0.6250\n",
      "Epoch 21/24\n",
      "2/2 [==============================] - 0s 6ms/step - loss: -0.3414 - accuracy: 0.6667\n",
      "Epoch 22/24\n",
      "2/2 [==============================] - 0s 5ms/step - loss: -0.5555 - accuracy: 0.6562\n",
      "Epoch 23/24\n",
      "2/2 [==============================] - 0s 7ms/step - loss: -0.6325 - accuracy: 0.6562\n",
      "Epoch 24/24\n",
      "2/2 [==============================] - 0s 7ms/step - loss: -0.6815 - accuracy: 0.6458\n",
      "1/1 [==============================] - 0s 237ms/step - loss: -0.3901 - accuracy: 0.5625\n"
     ]
    },
    {
     "name": "stderr",
     "output_type": "stream",
     "text": [
      "2022-02-12 13:57:23.939356: I tensorflow/core/grappler/optimizers/custom_graph_optimizer_registry.cc:112] Plugin optimizer for device_type GPU is enabled.\n"
     ]
    },
    {
     "name": "stdout",
     "output_type": "stream",
     "text": [
      "Epoch 1/24\n",
      "2/2 [==============================] - 1s 7ms/step - loss: 0.8965 - accuracy: 0.2188\n"
     ]
    },
    {
     "name": "stderr",
     "output_type": "stream",
     "text": [
      "2022-02-12 13:57:24.411093: I tensorflow/core/grappler/optimizers/custom_graph_optimizer_registry.cc:112] Plugin optimizer for device_type GPU is enabled.\n"
     ]
    },
    {
     "name": "stdout",
     "output_type": "stream",
     "text": [
      "Epoch 2/24\n",
      "2/2 [==============================] - 0s 16ms/step - loss: 0.7850 - accuracy: 0.2812\n",
      "Epoch 3/24\n",
      "2/2 [==============================] - 0s 6ms/step - loss: 0.7087 - accuracy: 0.2812\n",
      "Epoch 4/24\n",
      "2/2 [==============================] - 0s 6ms/step - loss: 0.6422 - accuracy: 0.3333\n",
      "Epoch 5/24\n",
      "2/2 [==============================] - 0s 6ms/step - loss: 0.6006 - accuracy: 0.4375\n",
      "Epoch 6/24\n",
      "2/2 [==============================] - 0s 6ms/step - loss: 0.5467 - accuracy: 0.5938\n",
      "Epoch 7/24\n",
      "2/2 [==============================] - 0s 6ms/step - loss: 0.4883 - accuracy: 0.6562\n",
      "Epoch 8/24\n",
      "2/2 [==============================] - 0s 16ms/step - loss: 0.4684 - accuracy: 0.6458\n",
      "Epoch 9/24\n",
      "2/2 [==============================] - 0s 6ms/step - loss: 0.4123 - accuracy: 0.6667\n",
      "Epoch 10/24\n",
      "2/2 [==============================] - 0s 12ms/step - loss: 0.4256 - accuracy: 0.6875\n",
      "Epoch 11/24\n",
      "2/2 [==============================] - 0s 9ms/step - loss: 0.3593 - accuracy: 0.6979\n",
      "Epoch 12/24\n",
      "2/2 [==============================] - 0s 6ms/step - loss: 0.2849 - accuracy: 0.6771\n",
      "Epoch 13/24\n",
      "2/2 [==============================] - 0s 6ms/step - loss: 0.3037 - accuracy: 0.7083\n",
      "Epoch 14/24\n",
      "2/2 [==============================] - 0s 6ms/step - loss: 0.2104 - accuracy: 0.6979\n",
      "Epoch 15/24\n",
      "2/2 [==============================] - 0s 16ms/step - loss: 0.2593 - accuracy: 0.7292\n",
      "Epoch 16/24\n",
      "2/2 [==============================] - 0s 8ms/step - loss: 0.1712 - accuracy: 0.6979\n",
      "Epoch 17/24\n",
      "2/2 [==============================] - 0s 6ms/step - loss: 0.1693 - accuracy: 0.7292\n",
      "Epoch 18/24\n",
      "2/2 [==============================] - 0s 9ms/step - loss: 0.0534 - accuracy: 0.6771\n",
      "Epoch 19/24\n",
      "2/2 [==============================] - 0s 6ms/step - loss: 0.0375 - accuracy: 0.6771\n",
      "Epoch 20/24\n",
      "2/2 [==============================] - 0s 6ms/step - loss: 0.1196 - accuracy: 0.7396\n",
      "Epoch 21/24\n",
      "2/2 [==============================] - 0s 6ms/step - loss: 0.0154 - accuracy: 0.7083\n",
      "Epoch 22/24\n",
      "2/2 [==============================] - 0s 5ms/step - loss: -0.0662 - accuracy: 0.6875\n",
      "Epoch 23/24\n",
      "2/2 [==============================] - 0s 6ms/step - loss: -0.0995 - accuracy: 0.6875\n",
      "Epoch 24/24\n",
      "2/2 [==============================] - 0s 6ms/step - loss: -0.1278 - accuracy: 0.7083\n",
      "1/1 [==============================] - 0s 209ms/step - loss: -0.0701 - accuracy: 0.5000\n"
     ]
    },
    {
     "name": "stderr",
     "output_type": "stream",
     "text": [
      "2022-02-12 13:57:25.124450: I tensorflow/core/grappler/optimizers/custom_graph_optimizer_registry.cc:112] Plugin optimizer for device_type GPU is enabled.\n"
     ]
    },
    {
     "name": "stdout",
     "output_type": "stream",
     "text": [
      "Epoch 1/24\n",
      "2/2 [==============================] - 1s 16ms/step - loss: 0.7506 - accuracy: 0.4792\n"
     ]
    },
    {
     "name": "stderr",
     "output_type": "stream",
     "text": [
      "2022-02-12 13:57:25.561612: I tensorflow/core/grappler/optimizers/custom_graph_optimizer_registry.cc:112] Plugin optimizer for device_type GPU is enabled.\n"
     ]
    },
    {
     "name": "stdout",
     "output_type": "stream",
     "text": [
      "Epoch 2/24\n",
      "2/2 [==============================] - 0s 6ms/step - loss: 0.6823 - accuracy: 0.6146\n",
      "Epoch 3/24\n",
      "2/2 [==============================] - 0s 16ms/step - loss: 0.6262 - accuracy: 0.6667\n",
      "Epoch 4/24\n",
      "2/2 [==============================] - 0s 6ms/step - loss: 0.5626 - accuracy: 0.7396\n",
      "Epoch 5/24\n",
      "2/2 [==============================] - 0s 6ms/step - loss: 0.5238 - accuracy: 0.7083\n",
      "Epoch 6/24\n",
      "2/2 [==============================] - 0s 6ms/step - loss: 0.5235 - accuracy: 0.7396\n",
      "Epoch 7/24\n",
      "2/2 [==============================] - 0s 6ms/step - loss: 0.4659 - accuracy: 0.7292\n",
      "Epoch 8/24\n",
      "2/2 [==============================] - 0s 6ms/step - loss: 0.4345 - accuracy: 0.7188\n",
      "Epoch 9/24\n",
      "2/2 [==============================] - 0s 6ms/step - loss: 0.3926 - accuracy: 0.7292\n",
      "Epoch 10/24\n",
      "2/2 [==============================] - 0s 17ms/step - loss: 0.3732 - accuracy: 0.7292\n",
      "Epoch 11/24\n",
      "2/2 [==============================] - 0s 6ms/step - loss: 0.4033 - accuracy: 0.7188\n",
      "Epoch 12/24\n",
      "2/2 [==============================] - 0s 8ms/step - loss: 0.3319 - accuracy: 0.7083\n",
      "Epoch 13/24\n",
      "2/2 [==============================] - 0s 6ms/step - loss: 0.3198 - accuracy: 0.7396\n",
      "Epoch 14/24\n",
      "2/2 [==============================] - 0s 6ms/step - loss: 0.3066 - accuracy: 0.7292\n",
      "Epoch 15/24\n",
      "2/2 [==============================] - 0s 6ms/step - loss: 0.2759 - accuracy: 0.7188\n",
      "Epoch 16/24\n",
      "2/2 [==============================] - 0s 6ms/step - loss: 0.2123 - accuracy: 0.7083\n",
      "Epoch 17/24\n",
      "2/2 [==============================] - 0s 6ms/step - loss: 0.1814 - accuracy: 0.7083\n",
      "Epoch 18/24\n",
      "2/2 [==============================] - 0s 6ms/step - loss: 0.1473 - accuracy: 0.6979\n",
      "Epoch 19/24\n",
      "2/2 [==============================] - 0s 6ms/step - loss: 0.1553 - accuracy: 0.7083\n",
      "Epoch 20/24\n",
      "2/2 [==============================] - 0s 6ms/step - loss: 0.1126 - accuracy: 0.6771\n",
      "Epoch 21/24\n",
      "2/2 [==============================] - 0s 6ms/step - loss: 0.1157 - accuracy: 0.7188\n",
      "Epoch 22/24\n",
      "2/2 [==============================] - 1s 850ms/step - loss: 0.0331 - accuracy: 0.6979\n",
      "Epoch 23/24\n",
      "2/2 [==============================] - 0s 6ms/step - loss: 0.0079 - accuracy: 0.7188\n",
      "Epoch 24/24\n",
      "2/2 [==============================] - 0s 5ms/step - loss: 0.0370 - accuracy: 0.7083\n",
      "1/1 [==============================] - 0s 308ms/step - loss: -0.7067 - accuracy: 0.6250\n"
     ]
    },
    {
     "name": "stderr",
     "output_type": "stream",
     "text": [
      "2022-02-12 13:57:27.130061: I tensorflow/core/grappler/optimizers/custom_graph_optimizer_registry.cc:112] Plugin optimizer for device_type GPU is enabled.\n"
     ]
    },
    {
     "name": "stdout",
     "output_type": "stream",
     "text": [
      "Epoch 1/24\n",
      "2/2 [==============================] - 1s 6ms/step - loss: -0.1213 - accuracy: 0.4688\n",
      "Epoch 2/24\n",
      "1/2 [==============>...............] - ETA: 0s - loss: -0.2600 - accuracy: 0.5312"
     ]
    },
    {
     "name": "stderr",
     "output_type": "stream",
     "text": [
      "2022-02-12 13:57:27.633339: I tensorflow/core/grappler/optimizers/custom_graph_optimizer_registry.cc:112] Plugin optimizer for device_type GPU is enabled.\n"
     ]
    },
    {
     "name": "stdout",
     "output_type": "stream",
     "text": [
      "2/2 [==============================] - 0s 9ms/step - loss: -0.2567 - accuracy: 0.4792\n",
      "Epoch 3/24\n",
      "2/2 [==============================] - 0s 17ms/step - loss: -0.2472 - accuracy: 0.4896\n",
      "Epoch 4/24\n",
      "2/2 [==============================] - 0s 19ms/step - loss: -0.5151 - accuracy: 0.4583\n",
      "Epoch 5/24\n",
      "2/2 [==============================] - 0s 14ms/step - loss: -0.3710 - accuracy: 0.4792\n",
      "Epoch 6/24\n",
      "2/2 [==============================] - 0s 20ms/step - loss: -0.4614 - accuracy: 0.4583\n",
      "Epoch 7/24\n",
      "2/2 [==============================] - 0s 21ms/step - loss: -0.8406 - accuracy: 0.4167\n",
      "Epoch 8/24\n",
      "2/2 [==============================] - 0s 7ms/step - loss: -0.6106 - accuracy: 0.4688\n",
      "Epoch 9/24\n",
      "2/2 [==============================] - 0s 7ms/step - loss: -0.8372 - accuracy: 0.4479\n",
      "Epoch 10/24\n",
      "2/2 [==============================] - 0s 7ms/step - loss: -0.8233 - accuracy: 0.4479\n",
      "Epoch 11/24\n",
      "2/2 [==============================] - 0s 7ms/step - loss: -0.8122 - accuracy: 0.4792\n",
      "Epoch 12/24\n",
      "2/2 [==============================] - 0s 7ms/step - loss: -1.0567 - accuracy: 0.4375\n",
      "Epoch 13/24\n",
      "2/2 [==============================] - 0s 10ms/step - loss: -0.9252 - accuracy: 0.4479\n",
      "Epoch 14/24\n",
      "2/2 [==============================] - 0s 17ms/step - loss: -1.0910 - accuracy: 0.4271\n",
      "Epoch 15/24\n",
      "2/2 [==============================] - 0s 7ms/step - loss: -1.2849 - accuracy: 0.4271\n",
      "Epoch 16/24\n",
      "2/2 [==============================] - 0s 7ms/step - loss: -1.2302 - accuracy: 0.4271\n",
      "Epoch 17/24\n",
      "2/2 [==============================] - 0s 7ms/step - loss: -1.0812 - accuracy: 0.4688\n",
      "Epoch 18/24\n",
      "2/2 [==============================] - 0s 7ms/step - loss: -1.6692 - accuracy: 0.4271\n",
      "Epoch 19/24\n",
      "2/2 [==============================] - 0s 7ms/step - loss: -1.4340 - accuracy: 0.4792\n",
      "Epoch 20/24\n",
      "2/2 [==============================] - 0s 6ms/step - loss: -1.5588 - accuracy: 0.4167\n",
      "Epoch 21/24\n",
      "2/2 [==============================] - 0s 7ms/step - loss: -1.5552 - accuracy: 0.4583\n",
      "Epoch 22/24\n",
      "2/2 [==============================] - 0s 7ms/step - loss: -1.7511 - accuracy: 0.4583\n",
      "Epoch 23/24\n",
      "2/2 [==============================] - 0s 7ms/step - loss: -1.5258 - accuracy: 0.4896\n",
      "Epoch 24/24\n",
      "2/2 [==============================] - 0s 7ms/step - loss: -1.5358 - accuracy: 0.4688\n",
      "1/1 [==============================] - 0s 207ms/step - loss: -0.5950 - accuracy: 0.4375\n"
     ]
    },
    {
     "name": "stderr",
     "output_type": "stream",
     "text": [
      "2022-02-12 13:57:28.407888: I tensorflow/core/grappler/optimizers/custom_graph_optimizer_registry.cc:112] Plugin optimizer for device_type GPU is enabled.\n"
     ]
    },
    {
     "name": "stdout",
     "output_type": "stream",
     "text": [
      "Epoch 1/24\n"
     ]
    },
    {
     "name": "stderr",
     "output_type": "stream",
     "text": [
      "2022-02-12 13:57:28.871241: I tensorflow/core/grappler/optimizers/custom_graph_optimizer_registry.cc:112] Plugin optimizer for device_type GPU is enabled.\n"
     ]
    },
    {
     "name": "stdout",
     "output_type": "stream",
     "text": [
      "2/2 [==============================] - 1s 6ms/step - loss: 0.5851 - accuracy: 0.2292\n",
      "Epoch 2/24\n",
      "2/2 [==============================] - 0s 6ms/step - loss: 0.4676 - accuracy: 0.2708\n",
      "Epoch 3/24\n",
      "2/2 [==============================] - 0s 17ms/step - loss: 0.4844 - accuracy: 0.2292\n",
      "Epoch 4/24\n",
      "2/2 [==============================] - 0s 7ms/step - loss: 0.4082 - accuracy: 0.2917\n",
      "Epoch 5/24\n",
      "2/2 [==============================] - 0s 7ms/step - loss: 0.3772 - accuracy: 0.3125\n",
      "Epoch 6/24\n",
      "2/2 [==============================] - 0s 7ms/step - loss: 0.3294 - accuracy: 0.3646\n",
      "Epoch 7/24\n",
      "2/2 [==============================] - 0s 7ms/step - loss: 0.2922 - accuracy: 0.4479\n",
      "Epoch 8/24\n",
      "2/2 [==============================] - 0s 7ms/step - loss: 0.1835 - accuracy: 0.4375\n",
      "Epoch 9/24\n",
      "2/2 [==============================] - 0s 7ms/step - loss: 0.2703 - accuracy: 0.5625\n",
      "Epoch 10/24\n",
      "2/2 [==============================] - 0s 7ms/step - loss: 0.0968 - accuracy: 0.5521\n",
      "Epoch 11/24\n",
      "2/2 [==============================] - 0s 6ms/step - loss: 0.1002 - accuracy: 0.5938\n",
      "Epoch 12/24\n",
      "2/2 [==============================] - 0s 7ms/step - loss: 0.0349 - accuracy: 0.5938\n",
      "Epoch 13/24\n",
      "2/2 [==============================] - 0s 7ms/step - loss: -0.0265 - accuracy: 0.5729\n",
      "Epoch 14/24\n",
      "2/2 [==============================] - 0s 7ms/step - loss: 0.0029 - accuracy: 0.6146\n",
      "Epoch 15/24\n",
      "2/2 [==============================] - 0s 7ms/step - loss: -0.1853 - accuracy: 0.5833\n",
      "Epoch 16/24\n",
      "2/2 [==============================] - 0s 7ms/step - loss: -0.0807 - accuracy: 0.6042\n",
      "Epoch 17/24\n",
      "2/2 [==============================] - 0s 6ms/step - loss: -0.0727 - accuracy: 0.6250\n",
      "Epoch 18/24\n",
      "2/2 [==============================] - 0s 6ms/step - loss: -0.1552 - accuracy: 0.6042\n",
      "Epoch 19/24\n",
      "2/2 [==============================] - 0s 6ms/step - loss: -0.2128 - accuracy: 0.5729\n",
      "Epoch 20/24\n",
      "2/2 [==============================] - 0s 7ms/step - loss: -0.3136 - accuracy: 0.5938\n",
      "Epoch 21/24\n",
      "2/2 [==============================] - 0s 6ms/step - loss: -0.4228 - accuracy: 0.5938\n",
      "Epoch 22/24\n",
      "2/2 [==============================] - 0s 6ms/step - loss: -0.2845 - accuracy: 0.6042\n",
      "Epoch 23/24\n",
      "2/2 [==============================] - 0s 6ms/step - loss: -0.3439 - accuracy: 0.5938\n",
      "Epoch 24/24\n",
      "2/2 [==============================] - 0s 6ms/step - loss: -0.4430 - accuracy: 0.6042\n",
      "1/1 [==============================] - 0s 210ms/step - loss: -0.4495 - accuracy: 0.7500\n"
     ]
    },
    {
     "name": "stderr",
     "output_type": "stream",
     "text": [
      "2022-02-12 13:57:29.658768: I tensorflow/core/grappler/optimizers/custom_graph_optimizer_registry.cc:112] Plugin optimizer for device_type GPU is enabled.\n"
     ]
    },
    {
     "name": "stdout",
     "output_type": "stream",
     "text": [
      "Epoch 1/6\n",
      "2/2 [==============================] - 1s 17ms/step - loss: 0.9889 - accuracy: 0.2604\n"
     ]
    },
    {
     "name": "stderr",
     "output_type": "stream",
     "text": [
      "2022-02-12 13:57:30.122570: I tensorflow/core/grappler/optimizers/custom_graph_optimizer_registry.cc:112] Plugin optimizer for device_type GPU is enabled.\n"
     ]
    },
    {
     "name": "stdout",
     "output_type": "stream",
     "text": [
      "Epoch 2/6\n",
      "2/2 [==============================] - 0s 6ms/step - loss: 0.8914 - accuracy: 0.2604\n",
      "Epoch 3/6\n",
      "2/2 [==============================] - 0s 6ms/step - loss: 0.8173 - accuracy: 0.2917\n",
      "Epoch 4/6\n",
      "2/2 [==============================] - 0s 17ms/step - loss: 0.7749 - accuracy: 0.3750\n",
      "Epoch 5/6\n",
      "2/2 [==============================] - 0s 6ms/step - loss: 0.6972 - accuracy: 0.4271\n",
      "Epoch 6/6\n",
      "2/2 [==============================] - 0s 5ms/step - loss: 0.6414 - accuracy: 0.4479\n",
      "1/1 [==============================] - 0s 210ms/step - loss: 0.5309 - accuracy: 0.5625\n"
     ]
    },
    {
     "name": "stderr",
     "output_type": "stream",
     "text": [
      "2022-02-12 13:57:30.547048: I tensorflow/core/grappler/optimizers/custom_graph_optimizer_registry.cc:112] Plugin optimizer for device_type GPU is enabled.\n"
     ]
    },
    {
     "name": "stdout",
     "output_type": "stream",
     "text": [
      "Epoch 1/6\n"
     ]
    },
    {
     "name": "stderr",
     "output_type": "stream",
     "text": [
      "2022-02-12 13:57:31.129010: I tensorflow/core/grappler/optimizers/custom_graph_optimizer_registry.cc:112] Plugin optimizer for device_type GPU is enabled.\n"
     ]
    },
    {
     "name": "stdout",
     "output_type": "stream",
     "text": [
      "2/2 [==============================] - 1s 19ms/step - loss: 0.4283 - accuracy: 0.3438\n",
      "Epoch 2/6\n",
      "2/2 [==============================] - 0s 16ms/step - loss: 0.2436 - accuracy: 0.4792\n",
      "Epoch 3/6\n",
      "2/2 [==============================] - 0s 6ms/step - loss: 0.2246 - accuracy: 0.5104\n",
      "Epoch 4/6\n",
      "2/2 [==============================] - 0s 6ms/step - loss: 0.1728 - accuracy: 0.5729\n",
      "Epoch 5/6\n",
      "2/2 [==============================] - 0s 5ms/step - loss: 0.0479 - accuracy: 0.5312\n",
      "Epoch 6/6\n",
      "2/2 [==============================] - 0s 5ms/step - loss: 0.0419 - accuracy: 0.5417\n",
      "1/1 [==============================] - 0s 284ms/step - loss: 0.0331 - accuracy: 0.3750\n"
     ]
    },
    {
     "name": "stderr",
     "output_type": "stream",
     "text": [
      "2022-02-12 13:57:31.656788: I tensorflow/core/grappler/optimizers/custom_graph_optimizer_registry.cc:112] Plugin optimizer for device_type GPU is enabled.\n"
     ]
    },
    {
     "name": "stdout",
     "output_type": "stream",
     "text": [
      "Epoch 1/6\n",
      "1/2 [==============>...............] - ETA: 0s - loss: 0.4367 - accuracy: 0.6250"
     ]
    },
    {
     "name": "stderr",
     "output_type": "stream",
     "text": [
      "2022-02-12 13:57:32.192179: I tensorflow/core/grappler/optimizers/custom_graph_optimizer_registry.cc:112] Plugin optimizer for device_type GPU is enabled.\n"
     ]
    },
    {
     "name": "stdout",
     "output_type": "stream",
     "text": [
      "2/2 [==============================] - 1s 13ms/step - loss: 0.2367 - accuracy: 0.5625\n",
      "Epoch 2/6\n",
      "2/2 [==============================] - 0s 8ms/step - loss: 0.0451 - accuracy: 0.5208\n",
      "Epoch 3/6\n",
      "2/2 [==============================] - 0s 7ms/step - loss: -0.0174 - accuracy: 0.5521\n",
      "Epoch 4/6\n",
      "2/2 [==============================] - 0s 18ms/step - loss: -0.1853 - accuracy: 0.5312\n",
      "Epoch 5/6\n",
      "2/2 [==============================] - 0s 8ms/step - loss: -0.0827 - accuracy: 0.5208\n",
      "Epoch 6/6\n",
      "2/2 [==============================] - 0s 8ms/step - loss: -0.0815 - accuracy: 0.5625\n",
      "1/1 [==============================] - 0s 237ms/step - loss: -1.3593 - accuracy: 0.4375\n"
     ]
    },
    {
     "name": "stderr",
     "output_type": "stream",
     "text": [
      "2022-02-12 13:57:32.671437: I tensorflow/core/grappler/optimizers/custom_graph_optimizer_registry.cc:112] Plugin optimizer for device_type GPU is enabled.\n"
     ]
    },
    {
     "name": "stdout",
     "output_type": "stream",
     "text": [
      "Epoch 1/6\n",
      "1/2 [==============>...............] - ETA: 0s - loss: 0.7539 - accuracy: 0.1875"
     ]
    },
    {
     "name": "stderr",
     "output_type": "stream",
     "text": [
      "2022-02-12 13:57:33.191786: I tensorflow/core/grappler/optimizers/custom_graph_optimizer_registry.cc:112] Plugin optimizer for device_type GPU is enabled.\n"
     ]
    },
    {
     "name": "stdout",
     "output_type": "stream",
     "text": [
      "2/2 [==============================] - 1s 11ms/step - loss: 0.7410 - accuracy: 0.1875\n",
      "Epoch 2/6\n",
      "2/2 [==============================] - 0s 6ms/step - loss: 0.6632 - accuracy: 0.1771\n",
      "Epoch 3/6\n",
      "2/2 [==============================] - 0s 24ms/step - loss: 0.6122 - accuracy: 0.2083\n",
      "Epoch 4/6\n",
      "2/2 [==============================] - 0s 6ms/step - loss: 0.5590 - accuracy: 0.2917\n",
      "Epoch 5/6\n",
      "2/2 [==============================] - 0s 7ms/step - loss: 0.5424 - accuracy: 0.3229\n",
      "Epoch 6/6\n",
      "2/2 [==============================] - 0s 7ms/step - loss: 0.4787 - accuracy: 0.4167\n",
      "1/1 [==============================] - 0s 250ms/step - loss: 0.5971 - accuracy: 0.5000\n"
     ]
    },
    {
     "name": "stderr",
     "output_type": "stream",
     "text": [
      "2022-02-12 13:57:33.667376: I tensorflow/core/grappler/optimizers/custom_graph_optimizer_registry.cc:112] Plugin optimizer for device_type GPU is enabled.\n"
     ]
    },
    {
     "name": "stdout",
     "output_type": "stream",
     "text": [
      "Epoch 1/6\n",
      "2/2 [==============================] - 1s 17ms/step - loss: 0.6103 - accuracy: 0.4896\n"
     ]
    },
    {
     "name": "stderr",
     "output_type": "stream",
     "text": [
      "2022-02-12 13:57:34.248957: I tensorflow/core/grappler/optimizers/custom_graph_optimizer_registry.cc:112] Plugin optimizer for device_type GPU is enabled.\n"
     ]
    },
    {
     "name": "stdout",
     "output_type": "stream",
     "text": [
      "Epoch 2/6\n",
      "2/2 [==============================] - 0s 17ms/step - loss: 0.5423 - accuracy: 0.4792\n",
      "Epoch 3/6\n",
      "2/2 [==============================] - 0s 18ms/step - loss: 0.4974 - accuracy: 0.6042\n",
      "Epoch 4/6\n",
      "2/2 [==============================] - 0s 18ms/step - loss: 0.4387 - accuracy: 0.6250\n",
      "Epoch 5/6\n",
      "2/2 [==============================] - 0s 7ms/step - loss: 0.4179 - accuracy: 0.6146\n",
      "Epoch 6/6\n",
      "2/2 [==============================] - 0s 7ms/step - loss: 0.3828 - accuracy: 0.5833\n",
      "1/1 [==============================] - 0s 222ms/step - loss: 0.3568 - accuracy: 0.6250\n"
     ]
    },
    {
     "name": "stderr",
     "output_type": "stream",
     "text": [
      "2022-02-12 13:57:34.713494: I tensorflow/core/grappler/optimizers/custom_graph_optimizer_registry.cc:112] Plugin optimizer for device_type GPU is enabled.\n"
     ]
    },
    {
     "name": "stdout",
     "output_type": "stream",
     "text": [
      "Epoch 1/12\n",
      "2/2 [==============================] - 1s 7ms/step - loss: 0.8114 - accuracy: 0.2604\n",
      "Epoch 2/12\n",
      "1/2 [==============>...............] - ETA: 0s - loss: 0.7267 - accuracy: 0.4062"
     ]
    },
    {
     "name": "stderr",
     "output_type": "stream",
     "text": [
      "2022-02-12 13:57:35.178869: I tensorflow/core/grappler/optimizers/custom_graph_optimizer_registry.cc:112] Plugin optimizer for device_type GPU is enabled.\n"
     ]
    },
    {
     "name": "stdout",
     "output_type": "stream",
     "text": [
      "2/2 [==============================] - 0s 16ms/step - loss: 0.7229 - accuracy: 0.4062\n",
      "Epoch 3/12\n",
      "2/2 [==============================] - 0s 6ms/step - loss: 0.6463 - accuracy: 0.4479\n",
      "Epoch 4/12\n",
      "2/2 [==============================] - 0s 6ms/step - loss: 0.5945 - accuracy: 0.4688\n",
      "Epoch 5/12\n",
      "2/2 [==============================] - 0s 8ms/step - loss: 0.5388 - accuracy: 0.4479\n",
      "Epoch 6/12\n",
      "2/2 [==============================] - 0s 8ms/step - loss: 0.5169 - accuracy: 0.4583\n",
      "Epoch 7/12\n",
      "2/2 [==============================] - 0s 6ms/step - loss: 0.4964 - accuracy: 0.4896\n",
      "Epoch 8/12\n",
      "2/2 [==============================] - 0s 6ms/step - loss: 0.4478 - accuracy: 0.5104\n",
      "Epoch 9/12\n",
      "2/2 [==============================] - 0s 6ms/step - loss: 0.4169 - accuracy: 0.5104\n",
      "Epoch 10/12\n",
      "2/2 [==============================] - 0s 6ms/step - loss: 0.3653 - accuracy: 0.4792\n",
      "Epoch 11/12\n",
      "2/2 [==============================] - 0s 6ms/step - loss: 0.3723 - accuracy: 0.4688\n",
      "Epoch 12/12\n",
      "2/2 [==============================] - 0s 7ms/step - loss: 0.3236 - accuracy: 0.4792\n",
      "1/1 [==============================] - 0s 219ms/step - loss: 0.4393 - accuracy: 0.3750\n"
     ]
    },
    {
     "name": "stderr",
     "output_type": "stream",
     "text": [
      "2022-02-12 13:57:35.718467: I tensorflow/core/grappler/optimizers/custom_graph_optimizer_registry.cc:112] Plugin optimizer for device_type GPU is enabled.\n"
     ]
    },
    {
     "name": "stdout",
     "output_type": "stream",
     "text": [
      "Epoch 1/12\n",
      "1/2 [==============>...............] - ETA: 0s - loss: 0.8932 - accuracy: 0.4062"
     ]
    },
    {
     "name": "stderr",
     "output_type": "stream",
     "text": [
      "2022-02-12 13:57:36.257420: I tensorflow/core/grappler/optimizers/custom_graph_optimizer_registry.cc:112] Plugin optimizer for device_type GPU is enabled.\n"
     ]
    },
    {
     "name": "stdout",
     "output_type": "stream",
     "text": [
      "2/2 [==============================] - 1s 26ms/step - loss: 0.8809 - accuracy: 0.4479\n",
      "Epoch 2/12\n",
      "2/2 [==============================] - 0s 18ms/step - loss: 0.7620 - accuracy: 0.4375\n",
      "Epoch 3/12\n",
      "2/2 [==============================] - 0s 5ms/step - loss: 0.6812 - accuracy: 0.4688\n",
      "Epoch 4/12\n",
      "2/2 [==============================] - 0s 6ms/step - loss: 0.6299 - accuracy: 0.4792\n",
      "Epoch 5/12\n",
      "2/2 [==============================] - 0s 21ms/step - loss: 0.5499 - accuracy: 0.4896\n",
      "Epoch 6/12\n",
      "2/2 [==============================] - 0s 6ms/step - loss: 0.5044 - accuracy: 0.4583\n",
      "Epoch 7/12\n",
      "2/2 [==============================] - 0s 5ms/step - loss: 0.4729 - accuracy: 0.4479\n",
      "Epoch 8/12\n",
      "2/2 [==============================] - 0s 16ms/step - loss: 0.4329 - accuracy: 0.4583\n",
      "Epoch 9/12\n",
      "2/2 [==============================] - 0s 6ms/step - loss: 0.3583 - accuracy: 0.4896\n",
      "Epoch 10/12\n",
      "2/2 [==============================] - 0s 5ms/step - loss: 0.2809 - accuracy: 0.4583\n",
      "Epoch 11/12\n",
      "2/2 [==============================] - 0s 6ms/step - loss: 0.2434 - accuracy: 0.4896\n",
      "Epoch 12/12\n",
      "2/2 [==============================] - 0s 6ms/step - loss: 0.2544 - accuracy: 0.4583\n",
      "1/1 [==============================] - 0s 212ms/step - loss: 0.1689 - accuracy: 0.3750\n"
     ]
    },
    {
     "name": "stderr",
     "output_type": "stream",
     "text": [
      "2022-02-12 13:57:36.804666: I tensorflow/core/grappler/optimizers/custom_graph_optimizer_registry.cc:112] Plugin optimizer for device_type GPU is enabled.\n"
     ]
    },
    {
     "name": "stdout",
     "output_type": "stream",
     "text": [
      "Epoch 1/12\n",
      "2/2 [==============================] - 1s 6ms/step - loss: 0.8204 - accuracy: 0.3125\n",
      "Epoch 2/12\n",
      "1/2 [==============>...............] - ETA: 0s - loss: 0.7206 - accuracy: 0.3125"
     ]
    },
    {
     "name": "stderr",
     "output_type": "stream",
     "text": [
      "2022-02-12 13:57:37.266520: I tensorflow/core/grappler/optimizers/custom_graph_optimizer_registry.cc:112] Plugin optimizer for device_type GPU is enabled.\n"
     ]
    },
    {
     "name": "stdout",
     "output_type": "stream",
     "text": [
      "2/2 [==============================] - 0s 16ms/step - loss: 0.7492 - accuracy: 0.3438\n",
      "Epoch 3/12\n",
      "2/2 [==============================] - 0s 6ms/step - loss: 0.7193 - accuracy: 0.3750\n",
      "Epoch 4/12\n",
      "2/2 [==============================] - 0s 20ms/step - loss: 0.6927 - accuracy: 0.3854\n",
      "Epoch 5/12\n",
      "2/2 [==============================] - 0s 6ms/step - loss: 0.6566 - accuracy: 0.4167\n",
      "Epoch 6/12\n",
      "2/2 [==============================] - 0s 6ms/step - loss: 0.6228 - accuracy: 0.5104\n",
      "Epoch 7/12\n",
      "2/2 [==============================] - 0s 6ms/step - loss: 0.5973 - accuracy: 0.4896\n",
      "Epoch 8/12\n",
      "2/2 [==============================] - 0s 17ms/step - loss: 0.5806 - accuracy: 0.5729\n",
      "Epoch 9/12\n",
      "2/2 [==============================] - 0s 6ms/step - loss: 0.5501 - accuracy: 0.6458\n",
      "Epoch 10/12\n",
      "2/2 [==============================] - 0s 6ms/step - loss: 0.5246 - accuracy: 0.6562\n",
      "Epoch 11/12\n",
      "2/2 [==============================] - 0s 6ms/step - loss: 0.4972 - accuracy: 0.6667\n",
      "Epoch 12/12\n",
      "2/2 [==============================] - 0s 6ms/step - loss: 0.5040 - accuracy: 0.7604\n",
      "1/1 [==============================] - 0s 212ms/step - loss: 0.4500 - accuracy: 0.6250\n"
     ]
    },
    {
     "name": "stderr",
     "output_type": "stream",
     "text": [
      "2022-02-12 13:57:37.795938: I tensorflow/core/grappler/optimizers/custom_graph_optimizer_registry.cc:112] Plugin optimizer for device_type GPU is enabled.\n"
     ]
    },
    {
     "name": "stdout",
     "output_type": "stream",
     "text": [
      "Epoch 1/12\n",
      "2/2 [==============================] - 1s 6ms/step - loss: 0.7206 - accuracy: 0.2812\n"
     ]
    },
    {
     "name": "stderr",
     "output_type": "stream",
     "text": [
      "2022-02-12 13:57:38.268460: I tensorflow/core/grappler/optimizers/custom_graph_optimizer_registry.cc:112] Plugin optimizer for device_type GPU is enabled.\n"
     ]
    },
    {
     "name": "stdout",
     "output_type": "stream",
     "text": [
      "Epoch 2/12\n",
      "2/2 [==============================] - 0s 17ms/step - loss: 0.6727 - accuracy: 0.3333\n",
      "Epoch 3/12\n",
      "2/2 [==============================] - 0s 23ms/step - loss: 0.6399 - accuracy: 0.3646\n",
      "Epoch 4/12\n",
      "2/2 [==============================] - 0s 7ms/step - loss: 0.5856 - accuracy: 0.4479\n",
      "Epoch 5/12\n",
      "2/2 [==============================] - 0s 6ms/step - loss: 0.5489 - accuracy: 0.4271\n",
      "Epoch 6/12\n",
      "2/2 [==============================] - 0s 7ms/step - loss: 0.5285 - accuracy: 0.4583\n",
      "Epoch 7/12\n",
      "2/2 [==============================] - 0s 6ms/step - loss: 0.5052 - accuracy: 0.4688\n",
      "Epoch 8/12\n",
      "2/2 [==============================] - 0s 6ms/step - loss: 0.4374 - accuracy: 0.4062\n",
      "Epoch 9/12\n",
      "2/2 [==============================] - 0s 16ms/step - loss: 0.4168 - accuracy: 0.4271\n",
      "Epoch 10/12\n",
      "2/2 [==============================] - 0s 6ms/step - loss: 0.4320 - accuracy: 0.4583\n",
      "Epoch 11/12\n",
      "2/2 [==============================] - 0s 7ms/step - loss: 0.3586 - accuracy: 0.4271\n",
      "Epoch 12/12\n",
      "2/2 [==============================] - 0s 6ms/step - loss: 0.3419 - accuracy: 0.4375\n",
      "1/1 [==============================] - 0s 215ms/step - loss: 0.4912 - accuracy: 0.4375\n"
     ]
    },
    {
     "name": "stderr",
     "output_type": "stream",
     "text": [
      "2022-02-12 13:57:38.817345: I tensorflow/core/grappler/optimizers/custom_graph_optimizer_registry.cc:112] Plugin optimizer for device_type GPU is enabled.\n"
     ]
    },
    {
     "name": "stdout",
     "output_type": "stream",
     "text": [
      "Epoch 1/12\n",
      "2/2 [==============================] - 1s 17ms/step - loss: 0.7248 - accuracy: 0.3542\n"
     ]
    },
    {
     "name": "stderr",
     "output_type": "stream",
     "text": [
      "2022-02-12 13:57:39.321438: I tensorflow/core/grappler/optimizers/custom_graph_optimizer_registry.cc:112] Plugin optimizer for device_type GPU is enabled.\n"
     ]
    },
    {
     "name": "stdout",
     "output_type": "stream",
     "text": [
      "Epoch 2/12\n",
      "2/2 [==============================] - 0s 16ms/step - loss: 0.6677 - accuracy: 0.3750\n",
      "Epoch 3/12\n",
      "2/2 [==============================] - 0s 6ms/step - loss: 0.6258 - accuracy: 0.4271\n",
      "Epoch 4/12\n",
      "2/2 [==============================] - 0s 6ms/step - loss: 0.5631 - accuracy: 0.5417\n",
      "Epoch 5/12\n",
      "2/2 [==============================] - 0s 6ms/step - loss: 0.5656 - accuracy: 0.6458\n",
      "Epoch 6/12\n",
      "2/2 [==============================] - 0s 18ms/step - loss: 0.5297 - accuracy: 0.6667\n",
      "Epoch 7/12\n",
      "2/2 [==============================] - 0s 17ms/step - loss: 0.4894 - accuracy: 0.6250\n",
      "Epoch 8/12\n",
      "2/2 [==============================] - 0s 6ms/step - loss: 0.4725 - accuracy: 0.6771\n",
      "Epoch 9/12\n",
      "2/2 [==============================] - 0s 6ms/step - loss: 0.4401 - accuracy: 0.6562\n",
      "Epoch 10/12\n",
      "2/2 [==============================] - 0s 6ms/step - loss: 0.4020 - accuracy: 0.6667\n",
      "Epoch 11/12\n",
      "2/2 [==============================] - 0s 6ms/step - loss: 0.3804 - accuracy: 0.6667\n",
      "Epoch 12/12\n",
      "2/2 [==============================] - 0s 6ms/step - loss: 0.3419 - accuracy: 0.6562\n",
      "1/1 [==============================] - 0s 218ms/step - loss: 0.4047 - accuracy: 0.7500\n"
     ]
    },
    {
     "name": "stderr",
     "output_type": "stream",
     "text": [
      "2022-02-12 13:57:39.857791: I tensorflow/core/grappler/optimizers/custom_graph_optimizer_registry.cc:112] Plugin optimizer for device_type GPU is enabled.\n"
     ]
    },
    {
     "name": "stdout",
     "output_type": "stream",
     "text": [
      "Epoch 1/18\n",
      "1/2 [==============>...............] - ETA: 0s - loss: 1.0244 - accuracy: 0.1562"
     ]
    },
    {
     "name": "stderr",
     "output_type": "stream",
     "text": [
      "2022-02-12 13:57:40.328129: I tensorflow/core/grappler/optimizers/custom_graph_optimizer_registry.cc:112] Plugin optimizer for device_type GPU is enabled.\n"
     ]
    },
    {
     "name": "stdout",
     "output_type": "stream",
     "text": [
      "2/2 [==============================] - 1s 24ms/step - loss: 0.9734 - accuracy: 0.1458\n",
      "Epoch 2/18\n",
      "2/2 [==============================] - 0s 16ms/step - loss: 0.8429 - accuracy: 0.1250\n",
      "Epoch 3/18\n",
      "2/2 [==============================] - 0s 6ms/step - loss: 0.7890 - accuracy: 0.1354\n",
      "Epoch 4/18\n",
      "2/2 [==============================] - 0s 6ms/step - loss: 0.7301 - accuracy: 0.1979\n",
      "Epoch 5/18\n",
      "2/2 [==============================] - 0s 16ms/step - loss: 0.6834 - accuracy: 0.2396\n",
      "Epoch 6/18\n",
      "2/2 [==============================] - 0s 17ms/step - loss: 0.6253 - accuracy: 0.4375\n",
      "Epoch 7/18\n",
      "2/2 [==============================] - 0s 6ms/step - loss: 0.6124 - accuracy: 0.4896\n",
      "Epoch 8/18\n",
      "2/2 [==============================] - 0s 6ms/step - loss: 0.5760 - accuracy: 0.5521\n",
      "Epoch 9/18\n",
      "2/2 [==============================] - 0s 6ms/step - loss: 0.5231 - accuracy: 0.5417\n",
      "Epoch 10/18\n",
      "2/2 [==============================] - 0s 18ms/step - loss: 0.5110 - accuracy: 0.5312\n",
      "Epoch 11/18\n",
      "2/2 [==============================] - 0s 6ms/step - loss: 0.4621 - accuracy: 0.5938\n",
      "Epoch 12/18\n",
      "2/2 [==============================] - 0s 11ms/step - loss: 0.4145 - accuracy: 0.5625\n",
      "Epoch 13/18\n",
      "2/2 [==============================] - 0s 6ms/step - loss: 0.4416 - accuracy: 0.5417\n",
      "Epoch 14/18\n",
      "2/2 [==============================] - 0s 7ms/step - loss: 0.3701 - accuracy: 0.5729\n",
      "Epoch 15/18\n",
      "2/2 [==============================] - 0s 6ms/step - loss: 0.3273 - accuracy: 0.5521\n",
      "Epoch 16/18\n",
      "2/2 [==============================] - 0s 6ms/step - loss: 0.3285 - accuracy: 0.5625\n",
      "Epoch 17/18\n",
      "2/2 [==============================] - 0s 6ms/step - loss: 0.3284 - accuracy: 0.5729\n",
      "Epoch 18/18\n",
      "2/2 [==============================] - 0s 6ms/step - loss: 0.2751 - accuracy: 0.5625\n",
      "1/1 [==============================] - 0s 218ms/step - loss: 0.2976 - accuracy: 0.5000\n"
     ]
    },
    {
     "name": "stderr",
     "output_type": "stream",
     "text": [
      "2022-02-12 13:57:40.972904: I tensorflow/core/grappler/optimizers/custom_graph_optimizer_registry.cc:112] Plugin optimizer for device_type GPU is enabled.\n"
     ]
    },
    {
     "name": "stdout",
     "output_type": "stream",
     "text": [
      "Epoch 1/18\n",
      "1/2 [==============>...............] - ETA: 1s - loss: 0.9224 - accuracy: 0.3438"
     ]
    },
    {
     "name": "stderr",
     "output_type": "stream",
     "text": [
      "2022-02-12 13:57:42.227815: I tensorflow/core/grappler/optimizers/custom_graph_optimizer_registry.cc:112] Plugin optimizer for device_type GPU is enabled.\n"
     ]
    },
    {
     "name": "stdout",
     "output_type": "stream",
     "text": [
      "2/2 [==============================] - 1s 32ms/step - loss: 0.8771 - accuracy: 0.3125\n",
      "Epoch 2/18\n",
      "2/2 [==============================] - 0s 17ms/step - loss: 0.7164 - accuracy: 0.3542\n",
      "Epoch 3/18\n",
      "2/2 [==============================] - 0s 24ms/step - loss: 0.6178 - accuracy: 0.4062\n",
      "Epoch 4/18\n",
      "2/2 [==============================] - 0s 6ms/step - loss: 0.5807 - accuracy: 0.4896\n",
      "Epoch 5/18\n",
      "2/2 [==============================] - 0s 6ms/step - loss: 0.4900 - accuracy: 0.5208\n",
      "Epoch 6/18\n",
      "2/2 [==============================] - 0s 30ms/step - loss: 0.4382 - accuracy: 0.5625\n",
      "Epoch 7/18\n",
      "2/2 [==============================] - 0s 11ms/step - loss: 0.3766 - accuracy: 0.5938\n",
      "Epoch 8/18\n",
      "2/2 [==============================] - 0s 6ms/step - loss: 0.3184 - accuracy: 0.5729\n",
      "Epoch 9/18\n",
      "2/2 [==============================] - 0s 9ms/step - loss: 0.2738 - accuracy: 0.6354\n",
      "Epoch 10/18\n",
      "2/2 [==============================] - 0s 6ms/step - loss: 0.2538 - accuracy: 0.6458\n",
      "Epoch 11/18\n",
      "2/2 [==============================] - 0s 7ms/step - loss: 0.2245 - accuracy: 0.6562\n",
      "Epoch 12/18\n",
      "2/2 [==============================] - 0s 7ms/step - loss: 0.1638 - accuracy: 0.6354\n",
      "Epoch 13/18\n",
      "2/2 [==============================] - 0s 6ms/step - loss: 0.0876 - accuracy: 0.6042\n",
      "Epoch 14/18\n",
      "2/2 [==============================] - 0s 6ms/step - loss: 0.1482 - accuracy: 0.6771\n",
      "Epoch 15/18\n",
      "2/2 [==============================] - 0s 10ms/step - loss: 0.0484 - accuracy: 0.6562\n",
      "Epoch 16/18\n",
      "2/2 [==============================] - 0s 7ms/step - loss: 0.0289 - accuracy: 0.6354\n",
      "Epoch 17/18\n",
      "2/2 [==============================] - 0s 6ms/step - loss: 0.0926 - accuracy: 0.6979\n",
      "Epoch 18/18\n",
      "2/2 [==============================] - 0s 9ms/step - loss: 0.0560 - accuracy: 0.6771\n",
      "1/1 [==============================] - 0s 239ms/step - loss: -0.0389 - accuracy: 0.5625\n"
     ]
    },
    {
     "name": "stderr",
     "output_type": "stream",
     "text": [
      "2022-02-12 13:57:42.980497: I tensorflow/core/grappler/optimizers/custom_graph_optimizer_registry.cc:112] Plugin optimizer for device_type GPU is enabled.\n"
     ]
    },
    {
     "name": "stdout",
     "output_type": "stream",
     "text": [
      "Epoch 1/18\n",
      "2/2 [==============================] - 1s 17ms/step - loss: 0.8526 - accuracy: 0.6562\n",
      "Epoch 2/18\n",
      "1/2 [==============>...............] - ETA: 0s - loss: 0.7331 - accuracy: 0.7188"
     ]
    },
    {
     "name": "stderr",
     "output_type": "stream",
     "text": [
      "2022-02-12 13:57:43.459364: I tensorflow/core/grappler/optimizers/custom_graph_optimizer_registry.cc:112] Plugin optimizer for device_type GPU is enabled.\n"
     ]
    },
    {
     "name": "stdout",
     "output_type": "stream",
     "text": [
      "2/2 [==============================] - 0s 20ms/step - loss: 0.7418 - accuracy: 0.6979\n",
      "Epoch 3/18\n",
      "2/2 [==============================] - 0s 7ms/step - loss: 0.6943 - accuracy: 0.6875\n",
      "Epoch 4/18\n",
      "2/2 [==============================] - 0s 17ms/step - loss: 0.6281 - accuracy: 0.6771\n",
      "Epoch 5/18\n",
      "2/2 [==============================] - 0s 6ms/step - loss: 0.5863 - accuracy: 0.6354\n",
      "Epoch 6/18\n",
      "2/2 [==============================] - 0s 10ms/step - loss: 0.5363 - accuracy: 0.6250\n",
      "Epoch 7/18\n",
      "2/2 [==============================] - 0s 6ms/step - loss: 0.5007 - accuracy: 0.6562\n",
      "Epoch 8/18\n",
      "2/2 [==============================] - 0s 16ms/step - loss: 0.4558 - accuracy: 0.6354\n",
      "Epoch 9/18\n",
      "2/2 [==============================] - 0s 6ms/step - loss: 0.4355 - accuracy: 0.6458\n",
      "Epoch 10/18\n",
      "2/2 [==============================] - 0s 6ms/step - loss: 0.3891 - accuracy: 0.6667\n",
      "Epoch 11/18\n",
      "2/2 [==============================] - 0s 16ms/step - loss: 0.3490 - accuracy: 0.6042\n",
      "Epoch 12/18\n",
      "2/2 [==============================] - 0s 6ms/step - loss: 0.3479 - accuracy: 0.6250\n",
      "Epoch 13/18\n",
      "2/2 [==============================] - 0s 6ms/step - loss: 0.2902 - accuracy: 0.6458\n",
      "Epoch 14/18\n",
      "2/2 [==============================] - 0s 6ms/step - loss: 0.2500 - accuracy: 0.6562\n",
      "Epoch 15/18\n",
      "2/2 [==============================] - 0s 6ms/step - loss: 0.2060 - accuracy: 0.6354\n",
      "Epoch 16/18\n",
      "2/2 [==============================] - 0s 6ms/step - loss: 0.1980 - accuracy: 0.6458\n",
      "Epoch 17/18\n",
      "2/2 [==============================] - 0s 6ms/step - loss: 0.1224 - accuracy: 0.6458\n",
      "Epoch 18/18\n",
      "2/2 [==============================] - 0s 6ms/step - loss: 0.1048 - accuracy: 0.6458\n",
      "1/1 [==============================] - 0s 214ms/step - loss: -0.2540 - accuracy: 0.5625\n"
     ]
    },
    {
     "name": "stderr",
     "output_type": "stream",
     "text": [
      "2022-02-12 13:57:44.076288: I tensorflow/core/grappler/optimizers/custom_graph_optimizer_registry.cc:112] Plugin optimizer for device_type GPU is enabled.\n"
     ]
    },
    {
     "name": "stdout",
     "output_type": "stream",
     "text": [
      "Epoch 1/18\n",
      "2/2 [==============================] - 1s 6ms/step - loss: 0.7013 - accuracy: 0.0729\n",
      "Epoch 2/18\n",
      "1/2 [==============>...............] - ETA: 0s - loss: 0.5585 - accuracy: 0.1562"
     ]
    },
    {
     "name": "stderr",
     "output_type": "stream",
     "text": [
      "2022-02-12 13:57:44.574581: I tensorflow/core/grappler/optimizers/custom_graph_optimizer_registry.cc:112] Plugin optimizer for device_type GPU is enabled.\n"
     ]
    },
    {
     "name": "stdout",
     "output_type": "stream",
     "text": [
      "2/2 [==============================] - 0s 8ms/step - loss: 0.5486 - accuracy: 0.1354\n",
      "Epoch 3/18\n",
      "2/2 [==============================] - 0s 17ms/step - loss: 0.4352 - accuracy: 0.1042\n",
      "Epoch 4/18\n",
      "2/2 [==============================] - 0s 23ms/step - loss: 0.3651 - accuracy: 0.2292\n",
      "Epoch 5/18\n",
      "2/2 [==============================] - 0s 7ms/step - loss: 0.2515 - accuracy: 0.3438\n",
      "Epoch 6/18\n",
      "2/2 [==============================] - 0s 10ms/step - loss: 0.2247 - accuracy: 0.4688\n",
      "Epoch 7/18\n",
      "2/2 [==============================] - 0s 7ms/step - loss: 0.2068 - accuracy: 0.4479\n",
      "Epoch 8/18\n",
      "2/2 [==============================] - 0s 7ms/step - loss: 0.0771 - accuracy: 0.4583\n",
      "Epoch 9/18\n",
      "2/2 [==============================] - 0s 7ms/step - loss: 0.0888 - accuracy: 0.4896\n",
      "Epoch 10/18\n",
      "2/2 [==============================] - 0s 6ms/step - loss: -0.0175 - accuracy: 0.4688\n",
      "Epoch 11/18\n",
      "2/2 [==============================] - 0s 6ms/step - loss: -0.0299 - accuracy: 0.4479\n",
      "Epoch 12/18\n",
      "2/2 [==============================] - 0s 6ms/step - loss: -0.0609 - accuracy: 0.4896\n",
      "Epoch 13/18\n",
      "2/2 [==============================] - 0s 16ms/step - loss: -0.3510 - accuracy: 0.4479\n",
      "Epoch 14/18\n",
      "2/2 [==============================] - 0s 6ms/step - loss: -0.1828 - accuracy: 0.4688\n",
      "Epoch 15/18\n",
      "2/2 [==============================] - 0s 7ms/step - loss: -0.2782 - accuracy: 0.4479\n",
      "Epoch 16/18\n",
      "2/2 [==============================] - 0s 6ms/step - loss: -0.2414 - accuracy: 0.4688\n",
      "Epoch 17/18\n",
      "2/2 [==============================] - 0s 6ms/step - loss: -0.4012 - accuracy: 0.4479\n",
      "Epoch 18/18\n",
      "2/2 [==============================] - 0s 6ms/step - loss: -0.4203 - accuracy: 0.4479\n",
      "1/1 [==============================] - 0s 221ms/step - loss: 0.0344 - accuracy: 0.4375\n"
     ]
    },
    {
     "name": "stderr",
     "output_type": "stream",
     "text": [
      "2022-02-12 13:57:45.231000: I tensorflow/core/grappler/optimizers/custom_graph_optimizer_registry.cc:112] Plugin optimizer for device_type GPU is enabled.\n"
     ]
    },
    {
     "name": "stdout",
     "output_type": "stream",
     "text": [
      "Epoch 1/18\n",
      "2/2 [==============================] - 1s 16ms/step - loss: 0.6113 - accuracy: 0.3854\n",
      "Epoch 2/18\n",
      "1/2 [==============>...............] - ETA: 0s - loss: 0.5419 - accuracy: 0.4375"
     ]
    },
    {
     "name": "stderr",
     "output_type": "stream",
     "text": [
      "2022-02-12 13:57:45.731225: I tensorflow/core/grappler/optimizers/custom_graph_optimizer_registry.cc:112] Plugin optimizer for device_type GPU is enabled.\n"
     ]
    },
    {
     "name": "stdout",
     "output_type": "stream",
     "text": [
      "2/2 [==============================] - 0s 7ms/step - loss: 0.5483 - accuracy: 0.4167\n",
      "Epoch 3/18\n",
      "2/2 [==============================] - 0s 6ms/step - loss: 0.5238 - accuracy: 0.4167\n",
      "Epoch 4/18\n",
      "2/2 [==============================] - 0s 6ms/step - loss: 0.4498 - accuracy: 0.3958\n",
      "Epoch 5/18\n",
      "2/2 [==============================] - 0s 6ms/step - loss: 0.4704 - accuracy: 0.3958\n",
      "Epoch 6/18\n",
      "2/2 [==============================] - 0s 6ms/step - loss: 0.4230 - accuracy: 0.4167\n",
      "Epoch 7/18\n",
      "2/2 [==============================] - 0s 6ms/step - loss: 0.3866 - accuracy: 0.3958\n",
      "Epoch 8/18\n",
      "2/2 [==============================] - 0s 6ms/step - loss: 0.3432 - accuracy: 0.3958\n",
      "Epoch 9/18\n",
      "2/2 [==============================] - 0s 6ms/step - loss: 0.2915 - accuracy: 0.3750\n",
      "Epoch 10/18\n",
      "2/2 [==============================] - 0s 6ms/step - loss: 0.3029 - accuracy: 0.4167\n",
      "Epoch 11/18\n",
      "2/2 [==============================] - 0s 9ms/step - loss: 0.2500 - accuracy: 0.3854\n",
      "Epoch 12/18\n",
      "2/2 [==============================] - 0s 5ms/step - loss: 0.2291 - accuracy: 0.3958\n",
      "Epoch 13/18\n",
      "2/2 [==============================] - 0s 6ms/step - loss: 0.1961 - accuracy: 0.3958\n",
      "Epoch 14/18\n",
      "2/2 [==============================] - 0s 6ms/step - loss: 0.1363 - accuracy: 0.3958\n",
      "Epoch 15/18\n",
      "2/2 [==============================] - 0s 6ms/step - loss: 0.0675 - accuracy: 0.4167\n",
      "Epoch 16/18\n",
      "2/2 [==============================] - 0s 6ms/step - loss: 0.1343 - accuracy: 0.4167\n",
      "Epoch 17/18\n",
      "2/2 [==============================] - 0s 6ms/step - loss: -0.0454 - accuracy: 0.4062\n",
      "Epoch 18/18\n",
      "2/2 [==============================] - 0s 6ms/step - loss: -0.0119 - accuracy: 0.3958\n",
      "1/1 [==============================] - 0s 216ms/step - loss: -0.1076 - accuracy: 0.6250\n"
     ]
    },
    {
     "name": "stderr",
     "output_type": "stream",
     "text": [
      "2022-02-12 13:57:46.332254: I tensorflow/core/grappler/optimizers/custom_graph_optimizer_registry.cc:112] Plugin optimizer for device_type GPU is enabled.\n"
     ]
    },
    {
     "name": "stdout",
     "output_type": "stream",
     "text": [
      "Epoch 1/24\n"
     ]
    },
    {
     "name": "stderr",
     "output_type": "stream",
     "text": [
      "2022-02-12 13:57:46.808232: I tensorflow/core/grappler/optimizers/custom_graph_optimizer_registry.cc:112] Plugin optimizer for device_type GPU is enabled.\n"
     ]
    },
    {
     "name": "stdout",
     "output_type": "stream",
     "text": [
      "2/2 [==============================] - 1s 7ms/step - loss: 0.7709 - accuracy: 0.2708\n",
      "Epoch 2/24\n",
      "2/2 [==============================] - 0s 16ms/step - loss: 0.7165 - accuracy: 0.2917\n",
      "Epoch 3/24\n",
      "2/2 [==============================] - 0s 17ms/step - loss: 0.6903 - accuracy: 0.3229\n",
      "Epoch 4/24\n",
      "2/2 [==============================] - 0s 6ms/step - loss: 0.6689 - accuracy: 0.4688\n",
      "Epoch 5/24\n",
      "2/2 [==============================] - 0s 6ms/step - loss: 0.6401 - accuracy: 0.6771\n",
      "Epoch 6/24\n",
      "2/2 [==============================] - 0s 5ms/step - loss: 0.6090 - accuracy: 0.6771\n",
      "Epoch 7/24\n",
      "2/2 [==============================] - 0s 6ms/step - loss: 0.5843 - accuracy: 0.6875\n",
      "Epoch 8/24\n",
      "2/2 [==============================] - 0s 9ms/step - loss: 0.5650 - accuracy: 0.7292\n",
      "Epoch 9/24\n",
      "2/2 [==============================] - 0s 6ms/step - loss: 0.5331 - accuracy: 0.6875\n",
      "Epoch 10/24\n",
      "2/2 [==============================] - 0s 6ms/step - loss: 0.5019 - accuracy: 0.7292\n",
      "Epoch 11/24\n",
      "2/2 [==============================] - 0s 6ms/step - loss: 0.4667 - accuracy: 0.6667\n",
      "Epoch 12/24\n",
      "2/2 [==============================] - 0s 6ms/step - loss: 0.4325 - accuracy: 0.6875\n",
      "Epoch 13/24\n",
      "2/2 [==============================] - 0s 6ms/step - loss: 0.4315 - accuracy: 0.6979\n",
      "Epoch 14/24\n",
      "2/2 [==============================] - 0s 6ms/step - loss: 0.4059 - accuracy: 0.7083\n",
      "Epoch 15/24\n",
      "2/2 [==============================] - 0s 6ms/step - loss: 0.3626 - accuracy: 0.6875\n",
      "Epoch 16/24\n",
      "2/2 [==============================] - 0s 6ms/step - loss: 0.3468 - accuracy: 0.6979\n",
      "Epoch 17/24\n",
      "2/2 [==============================] - 0s 10ms/step - loss: 0.3182 - accuracy: 0.7188\n",
      "Epoch 18/24\n",
      "2/2 [==============================] - 0s 6ms/step - loss: 0.2998 - accuracy: 0.6979\n",
      "Epoch 19/24\n",
      "2/2 [==============================] - 0s 6ms/step - loss: 0.2277 - accuracy: 0.6771\n",
      "Epoch 20/24\n",
      "2/2 [==============================] - 0s 6ms/step - loss: 0.2125 - accuracy: 0.6667\n",
      "Epoch 21/24\n",
      "2/2 [==============================] - 0s 6ms/step - loss: 0.1832 - accuracy: 0.6875\n",
      "Epoch 22/24\n",
      "2/2 [==============================] - 0s 6ms/step - loss: 0.1884 - accuracy: 0.6979\n",
      "Epoch 23/24\n",
      "2/2 [==============================] - 0s 7ms/step - loss: 0.1524 - accuracy: 0.7083\n",
      "Epoch 24/24\n",
      "2/2 [==============================] - 0s 6ms/step - loss: 0.0892 - accuracy: 0.6771\n",
      "1/1 [==============================] - 0s 209ms/step - loss: 0.1791 - accuracy: 0.5625\n"
     ]
    },
    {
     "name": "stderr",
     "output_type": "stream",
     "text": [
      "2022-02-12 13:57:47.567954: I tensorflow/core/grappler/optimizers/custom_graph_optimizer_registry.cc:112] Plugin optimizer for device_type GPU is enabled.\n"
     ]
    },
    {
     "name": "stdout",
     "output_type": "stream",
     "text": [
      "Epoch 1/24\n",
      "2/2 [==============================] - 1s 22ms/step - loss: 0.4392 - accuracy: 0.4792\n"
     ]
    },
    {
     "name": "stderr",
     "output_type": "stream",
     "text": [
      "2022-02-12 13:57:48.020471: I tensorflow/core/grappler/optimizers/custom_graph_optimizer_registry.cc:112] Plugin optimizer for device_type GPU is enabled.\n"
     ]
    },
    {
     "name": "stdout",
     "output_type": "stream",
     "text": [
      "Epoch 2/24\n",
      "2/2 [==============================] - 0s 16ms/step - loss: 0.3782 - accuracy: 0.4688\n",
      "Epoch 3/24\n",
      "2/2 [==============================] - 0s 6ms/step - loss: 0.3261 - accuracy: 0.4896\n",
      "Epoch 4/24\n",
      "2/2 [==============================] - 0s 7ms/step - loss: 0.2915 - accuracy: 0.4896\n",
      "Epoch 5/24\n",
      "2/2 [==============================] - 0s 7ms/step - loss: 0.2695 - accuracy: 0.4688\n",
      "Epoch 6/24\n",
      "2/2 [==============================] - 0s 17ms/step - loss: 0.2823 - accuracy: 0.4896\n",
      "Epoch 7/24\n",
      "2/2 [==============================] - 0s 6ms/step - loss: 0.2037 - accuracy: 0.4583\n",
      "Epoch 8/24\n",
      "2/2 [==============================] - 0s 7ms/step - loss: 0.1049 - accuracy: 0.4688\n",
      "Epoch 9/24\n",
      "2/2 [==============================] - 0s 10ms/step - loss: 0.0847 - accuracy: 0.4271\n",
      "Epoch 10/24\n",
      "2/2 [==============================] - 0s 7ms/step - loss: -0.0110 - accuracy: 0.4688\n",
      "Epoch 11/24\n",
      "2/2 [==============================] - 0s 6ms/step - loss: 0.0138 - accuracy: 0.4688\n",
      "Epoch 12/24\n",
      "2/2 [==============================] - 0s 7ms/step - loss: 0.0099 - accuracy: 0.5000\n",
      "Epoch 13/24\n",
      "2/2 [==============================] - 0s 6ms/step - loss: -0.1003 - accuracy: 0.5521\n",
      "Epoch 14/24\n",
      "2/2 [==============================] - 0s 6ms/step - loss: -0.0807 - accuracy: 0.5521\n",
      "Epoch 15/24\n",
      "2/2 [==============================] - 0s 6ms/step - loss: -0.1352 - accuracy: 0.6354\n",
      "Epoch 16/24\n",
      "2/2 [==============================] - 0s 6ms/step - loss: -0.1772 - accuracy: 0.6250\n",
      "Epoch 17/24\n",
      "2/2 [==============================] - 0s 6ms/step - loss: -0.1758 - accuracy: 0.6562\n",
      "Epoch 18/24\n",
      "2/2 [==============================] - 0s 6ms/step - loss: -0.1627 - accuracy: 0.6354\n",
      "Epoch 19/24\n",
      "2/2 [==============================] - 0s 6ms/step - loss: -0.3789 - accuracy: 0.6354\n",
      "Epoch 20/24\n",
      "2/2 [==============================] - 0s 6ms/step - loss: -0.3482 - accuracy: 0.6562\n",
      "Epoch 21/24\n",
      "2/2 [==============================] - 0s 6ms/step - loss: -0.4221 - accuracy: 0.6667\n",
      "Epoch 22/24\n",
      "2/2 [==============================] - 0s 6ms/step - loss: -0.4583 - accuracy: 0.6667\n",
      "Epoch 23/24\n",
      "2/2 [==============================] - 0s 6ms/step - loss: -0.5438 - accuracy: 0.6667\n",
      "Epoch 24/24\n",
      "2/2 [==============================] - 0s 6ms/step - loss: -0.5060 - accuracy: 0.6771\n",
      "1/1 [==============================] - 0s 218ms/step - loss: -0.5838 - accuracy: 0.5625\n"
     ]
    },
    {
     "name": "stderr",
     "output_type": "stream",
     "text": [
      "2022-02-12 13:57:48.746912: I tensorflow/core/grappler/optimizers/custom_graph_optimizer_registry.cc:112] Plugin optimizer for device_type GPU is enabled.\n"
     ]
    },
    {
     "name": "stdout",
     "output_type": "stream",
     "text": [
      "Epoch 1/24\n",
      "2/2 [==============================] - 1s 6ms/step - loss: 0.3606 - accuracy: 0.4583\n"
     ]
    },
    {
     "name": "stderr",
     "output_type": "stream",
     "text": [
      "2022-02-12 13:57:49.198670: I tensorflow/core/grappler/optimizers/custom_graph_optimizer_registry.cc:112] Plugin optimizer for device_type GPU is enabled.\n"
     ]
    },
    {
     "name": "stdout",
     "output_type": "stream",
     "text": [
      "Epoch 2/24\n",
      "2/2 [==============================] - 0s 6ms/step - loss: 0.3257 - accuracy: 0.4479\n",
      "Epoch 3/24\n",
      "2/2 [==============================] - 0s 16ms/step - loss: 0.1852 - accuracy: 0.4479\n",
      "Epoch 4/24\n",
      "2/2 [==============================] - 0s 6ms/step - loss: 0.1829 - accuracy: 0.4375\n",
      "Epoch 5/24\n",
      "2/2 [==============================] - 0s 17ms/step - loss: 0.1302 - accuracy: 0.4375\n",
      "Epoch 6/24\n",
      "2/2 [==============================] - 0s 7ms/step - loss: 0.1346 - accuracy: 0.4375\n",
      "Epoch 7/24\n",
      "2/2 [==============================] - 0s 7ms/step - loss: 0.0728 - accuracy: 0.4271\n",
      "Epoch 8/24\n",
      "2/2 [==============================] - 0s 17ms/step - loss: 0.0240 - accuracy: 0.4479\n",
      "Epoch 9/24\n",
      "2/2 [==============================] - 0s 6ms/step - loss: -0.0052 - accuracy: 0.4479\n",
      "Epoch 10/24\n",
      "2/2 [==============================] - 0s 7ms/step - loss: 0.0374 - accuracy: 0.4688\n",
      "Epoch 11/24\n",
      "2/2 [==============================] - 0s 6ms/step - loss: -0.0641 - accuracy: 0.4167\n",
      "Epoch 12/24\n",
      "2/2 [==============================] - 0s 6ms/step - loss: -0.0433 - accuracy: 0.4167\n",
      "Epoch 13/24\n",
      "2/2 [==============================] - 0s 6ms/step - loss: -0.1571 - accuracy: 0.4583\n",
      "Epoch 14/24\n",
      "2/2 [==============================] - 0s 6ms/step - loss: -0.0781 - accuracy: 0.4792\n",
      "Epoch 15/24\n",
      "2/2 [==============================] - 0s 6ms/step - loss: -0.1479 - accuracy: 0.4375\n",
      "Epoch 16/24\n",
      "2/2 [==============================] - 0s 6ms/step - loss: -0.2367 - accuracy: 0.4167\n",
      "Epoch 17/24\n",
      "2/2 [==============================] - 0s 6ms/step - loss: -0.1670 - accuracy: 0.4583\n",
      "Epoch 18/24\n",
      "2/2 [==============================] - 0s 6ms/step - loss: -0.2421 - accuracy: 0.4792\n",
      "Epoch 19/24\n",
      "2/2 [==============================] - 0s 6ms/step - loss: -0.1937 - accuracy: 0.4896\n",
      "Epoch 20/24\n",
      "2/2 [==============================] - 0s 6ms/step - loss: -0.3110 - accuracy: 0.4688\n",
      "Epoch 21/24\n",
      "2/2 [==============================] - 0s 6ms/step - loss: -0.4130 - accuracy: 0.4375\n",
      "Epoch 22/24\n",
      "2/2 [==============================] - 0s 6ms/step - loss: -0.6114 - accuracy: 0.4479\n",
      "Epoch 23/24\n",
      "2/2 [==============================] - 0s 6ms/step - loss: -0.3436 - accuracy: 0.4792\n",
      "Epoch 24/24\n",
      "2/2 [==============================] - 0s 6ms/step - loss: -0.5333 - accuracy: 0.4479\n",
      "1/1 [==============================] - 0s 253ms/step - loss: -1.6949 - accuracy: 0.4375\n"
     ]
    },
    {
     "name": "stderr",
     "output_type": "stream",
     "text": [
      "2022-02-12 13:57:49.955484: I tensorflow/core/grappler/optimizers/custom_graph_optimizer_registry.cc:112] Plugin optimizer for device_type GPU is enabled.\n"
     ]
    },
    {
     "name": "stdout",
     "output_type": "stream",
     "text": [
      "Epoch 1/24\n",
      "2/2 [==============================] - 1s 6ms/step - loss: 0.8666 - accuracy: 0.4792\n"
     ]
    },
    {
     "name": "stderr",
     "output_type": "stream",
     "text": [
      "2022-02-12 13:57:50.477883: I tensorflow/core/grappler/optimizers/custom_graph_optimizer_registry.cc:112] Plugin optimizer for device_type GPU is enabled.\n"
     ]
    },
    {
     "name": "stdout",
     "output_type": "stream",
     "text": [
      "Epoch 2/24\n",
      "2/2 [==============================] - 0s 6ms/step - loss: 0.7245 - accuracy: 0.5938\n",
      "Epoch 3/24\n",
      "2/2 [==============================] - 0s 6ms/step - loss: 0.6379 - accuracy: 0.6562\n",
      "Epoch 4/24\n",
      "2/2 [==============================] - 0s 6ms/step - loss: 0.5576 - accuracy: 0.6875\n",
      "Epoch 5/24\n",
      "2/2 [==============================] - 0s 17ms/step - loss: 0.5055 - accuracy: 0.6562\n",
      "Epoch 6/24\n",
      "2/2 [==============================] - 0s 6ms/step - loss: 0.4389 - accuracy: 0.6146\n",
      "Epoch 7/24\n",
      "2/2 [==============================] - 0s 7ms/step - loss: 0.4001 - accuracy: 0.6458\n",
      "Epoch 8/24\n",
      "2/2 [==============================] - 0s 17ms/step - loss: 0.3557 - accuracy: 0.6354\n",
      "Epoch 9/24\n",
      "2/2 [==============================] - 0s 7ms/step - loss: 0.2549 - accuracy: 0.6146\n",
      "Epoch 10/24\n",
      "2/2 [==============================] - 0s 6ms/step - loss: 0.2369 - accuracy: 0.6562\n",
      "Epoch 11/24\n",
      "2/2 [==============================] - 0s 6ms/step - loss: 0.2163 - accuracy: 0.6667\n",
      "Epoch 12/24\n",
      "2/2 [==============================] - 0s 7ms/step - loss: 0.1636 - accuracy: 0.6771\n",
      "Epoch 13/24\n",
      "2/2 [==============================] - 0s 6ms/step - loss: 0.1000 - accuracy: 0.6458\n",
      "Epoch 14/24\n",
      "2/2 [==============================] - 0s 6ms/step - loss: 0.0747 - accuracy: 0.6667\n",
      "Epoch 15/24\n",
      "2/2 [==============================] - 0s 6ms/step - loss: -0.0382 - accuracy: 0.6354\n",
      "Epoch 16/24\n",
      "2/2 [==============================] - 0s 6ms/step - loss: -0.0010 - accuracy: 0.6458\n",
      "Epoch 17/24\n",
      "2/2 [==============================] - 0s 6ms/step - loss: -0.0931 - accuracy: 0.6354\n",
      "Epoch 18/24\n",
      "2/2 [==============================] - 0s 6ms/step - loss: -0.1285 - accuracy: 0.6458\n",
      "Epoch 19/24\n",
      "2/2 [==============================] - 0s 6ms/step - loss: -0.1801 - accuracy: 0.6354\n",
      "Epoch 20/24\n",
      "2/2 [==============================] - 0s 7ms/step - loss: -0.2131 - accuracy: 0.6458\n",
      "Epoch 21/24\n",
      "2/2 [==============================] - 0s 6ms/step - loss: -0.3399 - accuracy: 0.6146\n",
      "Epoch 22/24\n",
      "2/2 [==============================] - 0s 6ms/step - loss: -0.2267 - accuracy: 0.6562\n",
      "Epoch 23/24\n",
      "2/2 [==============================] - 0s 6ms/step - loss: -0.3681 - accuracy: 0.6667\n",
      "Epoch 24/24\n",
      "2/2 [==============================] - 0s 6ms/step - loss: -0.3404 - accuracy: 0.6979\n",
      "1/1 [==============================] - 0s 211ms/step - loss: -0.0289 - accuracy: 0.8125\n"
     ]
    },
    {
     "name": "stderr",
     "output_type": "stream",
     "text": [
      "2022-02-12 13:57:51.190038: I tensorflow/core/grappler/optimizers/custom_graph_optimizer_registry.cc:112] Plugin optimizer for device_type GPU is enabled.\n"
     ]
    },
    {
     "name": "stdout",
     "output_type": "stream",
     "text": [
      "Epoch 1/24\n",
      "2/2 [==============================] - 1s 18ms/step - loss: 0.7834 - accuracy: 0.2292\n"
     ]
    },
    {
     "name": "stderr",
     "output_type": "stream",
     "text": [
      "2022-02-12 13:57:51.652626: I tensorflow/core/grappler/optimizers/custom_graph_optimizer_registry.cc:112] Plugin optimizer for device_type GPU is enabled.\n"
     ]
    },
    {
     "name": "stdout",
     "output_type": "stream",
     "text": [
      "Epoch 2/24\n",
      "2/2 [==============================] - 0s 6ms/step - loss: 0.6294 - accuracy: 0.3229\n",
      "Epoch 3/24\n",
      "2/2 [==============================] - 0s 17ms/step - loss: 0.5542 - accuracy: 0.3750\n",
      "Epoch 4/24\n",
      "2/2 [==============================] - 0s 5ms/step - loss: 0.4238 - accuracy: 0.4896\n",
      "Epoch 5/24\n",
      "2/2 [==============================] - 0s 18ms/step - loss: 0.4168 - accuracy: 0.6042\n",
      "Epoch 6/24\n",
      "2/2 [==============================] - 0s 8ms/step - loss: 0.3177 - accuracy: 0.5521\n",
      "Epoch 7/24\n",
      "2/2 [==============================] - 0s 18ms/step - loss: 0.2767 - accuracy: 0.5729\n",
      "Epoch 8/24\n",
      "2/2 [==============================] - 0s 6ms/step - loss: 0.2330 - accuracy: 0.5938\n",
      "Epoch 9/24\n",
      "2/2 [==============================] - 0s 6ms/step - loss: 0.1932 - accuracy: 0.6354\n",
      "Epoch 10/24\n",
      "2/2 [==============================] - 0s 6ms/step - loss: 0.0757 - accuracy: 0.6042\n",
      "Epoch 11/24\n",
      "2/2 [==============================] - 0s 26ms/step - loss: 0.0440 - accuracy: 0.5729\n",
      "Epoch 12/24\n",
      "2/2 [==============================] - 0s 18ms/step - loss: 0.0345 - accuracy: 0.6250\n",
      "Epoch 13/24\n",
      "2/2 [==============================] - 0s 6ms/step - loss: -0.0385 - accuracy: 0.6458\n",
      "Epoch 14/24\n",
      "2/2 [==============================] - 0s 7ms/step - loss: -0.1801 - accuracy: 0.6146\n",
      "Epoch 15/24\n",
      "2/2 [==============================] - 0s 7ms/step - loss: -0.0948 - accuracy: 0.6250\n",
      "Epoch 16/24\n",
      "2/2 [==============================] - 0s 7ms/step - loss: -0.1694 - accuracy: 0.6458\n",
      "Epoch 17/24\n",
      "2/2 [==============================] - 0s 7ms/step - loss: -0.3771 - accuracy: 0.6042\n",
      "Epoch 18/24\n",
      "2/2 [==============================] - 0s 7ms/step - loss: -0.3666 - accuracy: 0.6042\n",
      "Epoch 19/24\n",
      "2/2 [==============================] - 0s 7ms/step - loss: -0.4064 - accuracy: 0.6250\n",
      "Epoch 20/24\n",
      "2/2 [==============================] - 0s 6ms/step - loss: -0.4723 - accuracy: 0.6667\n",
      "Epoch 21/24\n",
      "2/2 [==============================] - 0s 6ms/step - loss: -0.3577 - accuracy: 0.6771\n",
      "Epoch 22/24\n",
      "2/2 [==============================] - 0s 7ms/step - loss: -0.4885 - accuracy: 0.6458\n",
      "Epoch 23/24\n",
      "2/2 [==============================] - 0s 7ms/step - loss: -0.7326 - accuracy: 0.6146\n",
      "Epoch 24/24\n",
      "2/2 [==============================] - 0s 7ms/step - loss: -0.7276 - accuracy: 0.6354\n",
      "1/1 [==============================] - 0s 218ms/step - loss: -0.4105 - accuracy: 0.7500\n"
     ]
    },
    {
     "name": "stderr",
     "output_type": "stream",
     "text": [
      "2022-02-12 13:57:52.420312: I tensorflow/core/grappler/optimizers/custom_graph_optimizer_registry.cc:112] Plugin optimizer for device_type GPU is enabled.\n"
     ]
    },
    {
     "name": "stdout",
     "output_type": "stream",
     "text": [
      "Epoch 1/18\n"
     ]
    },
    {
     "name": "stderr",
     "output_type": "stream",
     "text": [
      "2022-02-12 13:57:52.882630: I tensorflow/core/grappler/optimizers/custom_graph_optimizer_registry.cc:112] Plugin optimizer for device_type GPU is enabled.\n"
     ]
    },
    {
     "name": "stdout",
     "output_type": "stream",
     "text": [
      "3/3 [==============================] - 1s 52ms/step - loss: 0.5042 - accuracy: 0.0906\n",
      "Epoch 2/18\n",
      "3/3 [==============================] - 0s 16ms/step - loss: 0.4201 - accuracy: 0.1313\n",
      "Epoch 3/18\n",
      "3/3 [==============================] - 0s 11ms/step - loss: 0.3105 - accuracy: 0.1906\n",
      "Epoch 4/18\n",
      "3/3 [==============================] - 0s 11ms/step - loss: 0.2361 - accuracy: 0.2109\n",
      "Epoch 5/18\n",
      "3/3 [==============================] - 0s 19ms/step - loss: 0.1619 - accuracy: 0.1984\n",
      "Epoch 6/18\n",
      "3/3 [==============================] - 0s 9ms/step - loss: 0.0941 - accuracy: 0.2945\n",
      "Epoch 7/18\n",
      "3/3 [==============================] - 0s 11ms/step - loss: 0.0238 - accuracy: 0.3305\n",
      "Epoch 8/18\n",
      "3/3 [==============================] - 0s 7ms/step - loss: 0.0036 - accuracy: 0.4055\n",
      "Epoch 9/18\n",
      "3/3 [==============================] - 0s 9ms/step - loss: -0.1313 - accuracy: 0.4391\n",
      "Epoch 10/18\n",
      "3/3 [==============================] - 0s 9ms/step - loss: -0.1778 - accuracy: 0.5641\n",
      "Epoch 11/18\n",
      "3/3 [==============================] - 0s 11ms/step - loss: -0.1551 - accuracy: 0.5922\n",
      "Epoch 12/18\n",
      "3/3 [==============================] - 0s 9ms/step - loss: -0.2734 - accuracy: 0.5687\n",
      "Epoch 13/18\n",
      "3/3 [==============================] - 0s 8ms/step - loss: -0.4717 - accuracy: 0.5805\n",
      "Epoch 14/18\n",
      "3/3 [==============================] - 0s 7ms/step - loss: -0.3201 - accuracy: 0.5727\n",
      "Epoch 15/18\n",
      "3/3 [==============================] - 0s 9ms/step - loss: -0.5290 - accuracy: 0.5570\n",
      "Epoch 16/18\n",
      "3/3 [==============================] - 0s 9ms/step - loss: -0.4544 - accuracy: 0.6039\n",
      "Epoch 17/18\n",
      "3/3 [==============================] - 0s 9ms/step - loss: -0.7163 - accuracy: 0.5609\n",
      "Epoch 18/18\n",
      "3/3 [==============================] - 0s 7ms/step - loss: -0.6485 - accuracy: 0.6023\n"
     ]
    }
   ],
   "source": [
    "my_grid1,my_grid2,my_grid3,my_pipe1,my_pipe2,my_pipe3 = train_hyper_tune(X_train, y_train)"
   ]
  },
  {
   "cell_type": "code",
   "execution_count": 55,
   "id": "403f21cc",
   "metadata": {},
   "outputs": [
    {
     "data": {
      "text/plain": [
       "0.9875"
      ]
     },
     "execution_count": 55,
     "metadata": {},
     "output_type": "execute_result"
    }
   ],
   "source": [
    "my_grid1.best_score_"
   ]
  },
  {
   "cell_type": "code",
   "execution_count": 56,
   "id": "98480333",
   "metadata": {},
   "outputs": [
    {
     "data": {
      "text/plain": [
       "0.9625"
      ]
     },
     "execution_count": 56,
     "metadata": {},
     "output_type": "execute_result"
    }
   ],
   "source": [
    "my_grid2.best_score_"
   ]
  },
  {
   "cell_type": "code",
   "execution_count": 57,
   "id": "ab61c234",
   "metadata": {},
   "outputs": [
    {
     "data": {
      "text/plain": [
       "0.65"
      ]
     },
     "execution_count": 57,
     "metadata": {},
     "output_type": "execute_result"
    }
   ],
   "source": [
    "my_grid3.best_score_"
   ]
  },
  {
   "cell_type": "code",
   "execution_count": 58,
   "id": "11836669",
   "metadata": {},
   "outputs": [],
   "source": [
    "def train_on_entire(X,y,pipe,grid_res):\n",
    "    # fit pipeline\n",
    "    pipe.set_params(**grid_res.best_params_).fit(X, y)\n",
    "    # return the newly trained pipeline\n",
    "    return pipe"
   ]
  },
  {
   "cell_type": "code",
   "execution_count": 59,
   "id": "36501d4e",
   "metadata": {},
   "outputs": [
    {
     "name": "stderr",
     "output_type": "stream",
     "text": [
      "/opt/homebrew/Caskroom/miniforge/base/envs/tensorflow/lib/python3.9/site-packages/sklearn/linear_model/_sag.py:352: ConvergenceWarning: The max_iter was reached which means the coef_ did not converge\n",
      "  warnings.warn(\n"
     ]
    },
    {
     "data": {
      "text/plain": [
       "1.0"
      ]
     },
     "execution_count": 59,
     "metadata": {},
     "output_type": "execute_result"
    }
   ],
   "source": [
    "train_on_entire(X_train,y_train,my_pipe1,my_grid1).score(X_test,y_test)"
   ]
  },
  {
   "cell_type": "code",
   "execution_count": 60,
   "id": "101d4a6d",
   "metadata": {},
   "outputs": [
    {
     "data": {
      "text/plain": [
       "0.9428571428571428"
      ]
     },
     "execution_count": 60,
     "metadata": {},
     "output_type": "execute_result"
    }
   ],
   "source": [
    "train_on_entire(X_train,y_train,my_pipe2,my_grid2).score(X_test,y_test)"
   ]
  },
  {
   "cell_type": "code",
   "execution_count": 61,
   "id": "f721fdc1",
   "metadata": {},
   "outputs": [
    {
     "name": "stdout",
     "output_type": "stream",
     "text": [
      "Epoch 1/18\n"
     ]
    },
    {
     "name": "stderr",
     "output_type": "stream",
     "text": [
      "2022-02-12 13:58:44.784412: I tensorflow/core/grappler/optimizers/custom_graph_optimizer_registry.cc:112] Plugin optimizer for device_type GPU is enabled.\n"
     ]
    },
    {
     "name": "stdout",
     "output_type": "stream",
     "text": [
      "3/3 [==============================] - 1s 54ms/step - loss: 0.9518 - accuracy: 0.2664\n",
      "Epoch 2/18\n",
      "3/3 [==============================] - 0s 16ms/step - loss: 0.8892 - accuracy: 0.3156\n",
      "Epoch 3/18\n",
      "3/3 [==============================] - 0s 19ms/step - loss: 0.8140 - accuracy: 0.4680\n",
      "Epoch 4/18\n",
      "3/3 [==============================] - 0s 14ms/step - loss: 0.7884 - accuracy: 0.5656\n",
      "Epoch 5/18\n",
      "3/3 [==============================] - 0s 16ms/step - loss: 0.7174 - accuracy: 0.6648\n",
      "Epoch 6/18\n",
      "3/3 [==============================] - 0s 14ms/step - loss: 0.7174 - accuracy: 0.6141\n",
      "Epoch 7/18\n",
      "3/3 [==============================] - 0s 14ms/step - loss: 0.6850 - accuracy: 0.6539\n",
      "Epoch 8/18\n",
      "3/3 [==============================] - 0s 16ms/step - loss: 0.6527 - accuracy: 0.6453\n",
      "Epoch 9/18\n",
      "3/3 [==============================] - 0s 12ms/step - loss: 0.6025 - accuracy: 0.6891\n",
      "Epoch 10/18\n",
      "3/3 [==============================] - 0s 8ms/step - loss: 0.5694 - accuracy: 0.6953\n",
      "Epoch 11/18\n",
      "3/3 [==============================] - 0s 9ms/step - loss: 0.5292 - accuracy: 0.6539\n",
      "Epoch 12/18\n",
      "3/3 [==============================] - 0s 8ms/step - loss: 0.4986 - accuracy: 0.6680\n",
      "Epoch 13/18\n",
      "3/3 [==============================] - 0s 12ms/step - loss: 0.4431 - accuracy: 0.6953\n",
      "Epoch 14/18\n",
      "3/3 [==============================] - 0s 10ms/step - loss: 0.4105 - accuracy: 0.7305\n",
      "Epoch 15/18\n",
      "3/3 [==============================] - 0s 9ms/step - loss: 0.3671 - accuracy: 0.6914\n",
      "Epoch 16/18\n",
      "3/3 [==============================] - 0s 8ms/step - loss: 0.3194 - accuracy: 0.6992\n",
      "Epoch 17/18\n",
      "3/3 [==============================] - 0s 9ms/step - loss: 0.2993 - accuracy: 0.7109\n",
      "Epoch 18/18\n",
      "3/3 [==============================] - 0s 9ms/step - loss: 0.2317 - accuracy: 0.6719\n",
      "2/2 [==============================] - 0s 39ms/step - loss: 0.2581 - accuracy: 0.6857\n"
     ]
    },
    {
     "name": "stderr",
     "output_type": "stream",
     "text": [
      "2022-02-12 13:58:45.804141: I tensorflow/core/grappler/optimizers/custom_graph_optimizer_registry.cc:112] Plugin optimizer for device_type GPU is enabled.\n"
     ]
    },
    {
     "data": {
      "text/plain": [
       "0.6857143044471741"
      ]
     },
     "execution_count": 61,
     "metadata": {},
     "output_type": "execute_result"
    }
   ],
   "source": [
    "train_on_entire(X_train,y_train,my_pipe3,my_grid3).score(X_test,y_test)"
   ]
  },
  {
   "cell_type": "code",
   "execution_count": null,
   "id": "7b3d9b2b",
   "metadata": {},
   "outputs": [],
   "source": []
  }
 ],
 "metadata": {
  "kernelspec": {
   "display_name": "Python 3.9 (tensorflow)",
   "language": "python",
   "name": "tensorflow"
  },
  "language_info": {
   "codemirror_mode": {
    "name": "ipython",
    "version": 3
   },
   "file_extension": ".py",
   "mimetype": "text/x-python",
   "name": "python",
   "nbconvert_exporter": "python",
   "pygments_lexer": "ipython3",
   "version": "3.9.10"
  }
 },
 "nbformat": 4,
 "nbformat_minor": 5
}
